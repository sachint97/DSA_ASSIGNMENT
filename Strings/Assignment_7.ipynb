{
  "nbformat": 4,
  "nbformat_minor": 0,
  "metadata": {
    "colab": {
      "provenance": [],
      "authorship_tag": "ABX9TyPyLPai5o3NEECvxGOCGmpF",
      "include_colab_link": true
    },
    "kernelspec": {
      "name": "python3",
      "display_name": "Python 3"
    },
    "language_info": {
      "name": "python"
    }
  },
  "cells": [
    {
      "cell_type": "markdown",
      "metadata": {
        "id": "view-in-github",
        "colab_type": "text"
      },
      "source": [
        "<a href=\"https://colab.research.google.com/github/sachint97/DSA_ASSIGNMENT/blob/main/Strings/Assignment_7.ipynb\" target=\"_parent\"><img src=\"https://colab.research.google.com/assets/colab-badge.svg\" alt=\"Open In Colab\"/></a>"
      ]
    },
    {
      "cell_type": "markdown",
      "source": [
        "#<aside>\n",
        "💡 **Question 1**\n",
        "\n",
        "Given two strings s and t, *determine if they are isomorphic*.\n",
        "\n",
        "Two strings s and t are isomorphic if the characters in s can be replaced to get t.\n",
        "\n",
        "All occurrences of a character must be replaced with another character while preserving the order of characters. No two characters may map to the same character, but a character may map to itself.\n",
        "\n",
        "**Example 1:**\n",
        "\n",
        "**Input:** s = \"egg\", t = \"add\"\n",
        "\n",
        "**Output:** true\n",
        "\n",
        "</aside>"
      ],
      "metadata": {
        "id": "IqKnKA_xJ6RL"
      }
    },
    {
      "cell_type": "code",
      "execution_count": 2,
      "metadata": {
        "id": "QNBV7rsgJ1D-",
        "colab": {
          "base_uri": "https://localhost:8080/"
        },
        "outputId": "67e0a107-ade7-45e3-fae7-4c95eeb2e1ab"
      },
      "outputs": [
        {
          "output_type": "execute_result",
          "data": {
            "text/plain": [
              "True"
            ]
          },
          "metadata": {},
          "execution_count": 2
        }
      ],
      "source": [
        "def transformString(s):\n",
        "  index_mapping = {}\n",
        "  new_str = []\n",
        "\n",
        "  for i, c in enumerate(s):\n",
        "    if c not in index_mapping:\n",
        "      index_mapping[c] = i\n",
        "    new_str.append(str(index_mapping[c]))\n",
        "\n",
        "  return \" \".join(new_str)\n",
        "\n",
        "def isIsomorphic(s, t):\n",
        "    return transformString(s) == transformString(t)\n",
        "\n",
        "\n",
        "s = \"egg\"\n",
        "t = \"add\"\n",
        "isIsomorphic(s, t)"
      ]
    },
    {
      "cell_type": "markdown",
      "source": [
        "#<aside>\n",
        "💡 **Question 2**\n",
        "\n",
        "Given a string num which represents an integer, return true *if* num *is a **strobogrammatic number***.\n",
        "\n",
        "A **strobogrammatic number** is a number that looks the same when rotated 180 degrees (looked at upside down).\n",
        "\n",
        "**Example 1:**\n",
        "\n",
        "**Input:** num = \"69\"\n",
        "\n",
        "**Output:**\n",
        "\n",
        "true\n",
        "\n",
        "</aside>"
      ],
      "metadata": {
        "id": "CugkEvvqKuzZ"
      }
    },
    {
      "cell_type": "code",
      "source": [
        "def IsStrobogrammaticNum(s):\n",
        "  s_num = {'0':'0','1':'1','8':'8','6':'9','9':'6'}\n",
        "  length = len(s)\n",
        "  left = 0\n",
        "  right = length - 1\n",
        "\n",
        "  while left<right:\n",
        "    if ( not s_num[s[left]] or s_num[s[left]] != s[right] ):\n",
        "      return False\n",
        "    left += 1\n",
        "    right -= 1\n",
        "\n",
        "  return True\n",
        "\n",
        "num = \"69\"\n",
        "IsStrobogrammaticNum(num)\n"
      ],
      "metadata": {
        "id": "pgv2D8d7KvAz",
        "colab": {
          "base_uri": "https://localhost:8080/"
        },
        "outputId": "ae4fe16e-aac1-4acd-be2e-e757da2c48ab"
      },
      "execution_count": 26,
      "outputs": [
        {
          "output_type": "execute_result",
          "data": {
            "text/plain": [
              "True"
            ]
          },
          "metadata": {},
          "execution_count": 26
        }
      ]
    },
    {
      "cell_type": "markdown",
      "source": [
        "#<aside>\n",
        "💡 **Question 3**\n",
        "\n",
        "Given two non-negative integers, num1 and num2 represented as string, return *the sum of* num1 *and* num2 *as a string*.\n",
        "\n",
        "You must solve the problem without using any built-in library for handling large integers (such as BigInteger). You must also not convert the inputs to integers directly.\n",
        "\n",
        "**Example 1:**\n",
        "\n",
        "**Input:** num1 = \"11\", num2 = \"123\"\n",
        "\n",
        "**Output:**\n",
        "\n",
        "\"134\"\n",
        "\n",
        "</aside>"
      ],
      "metadata": {
        "id": "Ew7MP3x672sF"
      }
    },
    {
      "cell_type": "code",
      "source": [
        "def addStrings(num1, num2):\n",
        "    result = \"\"\n",
        "    carry = 0\n",
        "    i = len(num1) - 1\n",
        "    j = len(num2) - 1\n",
        "\n",
        "    while i >= 0 or j >= 0:\n",
        "        digit1 = int(num1[i]) if i >= 0 else 0\n",
        "        digit2 = int(num2[j]) if j >= 0 else 0\n",
        "\n",
        "        total = digit1 + digit2 + carry\n",
        "        carry = total // 10\n",
        "        digit = total % 10\n",
        "\n",
        "        result += str(digit)\n",
        "\n",
        "        i -= 1\n",
        "        j -= 1\n",
        "\n",
        "    if carry > 0:\n",
        "        result += str(carry)\n",
        "\n",
        "    return result[::-1]\n",
        "\n",
        "\n",
        "num1 = \"123\"\n",
        "num2 = \"456\"\n",
        "print(addStrings(num1, num2))\n"
      ],
      "metadata": {
        "id": "OaixwGFb7286",
        "colab": {
          "base_uri": "https://localhost:8080/"
        },
        "outputId": "b9eeedab-3875-4ea7-bf22-0f654ad724d7"
      },
      "execution_count": 27,
      "outputs": [
        {
          "output_type": "stream",
          "name": "stdout",
          "text": [
            "579\n"
          ]
        }
      ]
    },
    {
      "cell_type": "markdown",
      "source": [
        "#<aside>\n",
        "💡 **Question 4**\n",
        "\n",
        "Given a string s, reverse the order of characters in each word within a sentence while still preserving whitespace and initial word order.\n",
        "\n",
        "**Example 1:**\n",
        "\n",
        "**Input:** s = \"Let's take LeetCode contest\"\n",
        "\n",
        "**Output:** \"s'teL ekat edoCteeL tsetnoc\"\n",
        "\n",
        "</aside>"
      ],
      "metadata": {
        "id": "4iH4uvdd73Lp"
      }
    },
    {
      "cell_type": "code",
      "source": [
        "def reverseWords(s):\n",
        "    reversed_words = []\n",
        "    word = \"\"\n",
        "    for char in s:\n",
        "        if char == \" \":\n",
        "            reversed_words.append(word[::-1])\n",
        "            word = \"\"\n",
        "        else:\n",
        "            word += char\n",
        "    # Append the last word (if any)\n",
        "    if word:\n",
        "        reversed_words.append(word[::-1])\n",
        "\n",
        "    return \" \".join(reversed_words)\n",
        "\n",
        "s = \"Let's take LeetCode contest\"\n",
        "reverseWords(s)"
      ],
      "metadata": {
        "id": "U6HqEAip73XC",
        "colab": {
          "base_uri": "https://localhost:8080/",
          "height": 36
        },
        "outputId": "d47f7004-616a-4548-f16e-314c79e0cc3b"
      },
      "execution_count": 28,
      "outputs": [
        {
          "output_type": "execute_result",
          "data": {
            "text/plain": [
              "\"s'teL ekat edoCteeL tsetnoc\""
            ],
            "application/vnd.google.colaboratory.intrinsic+json": {
              "type": "string"
            }
          },
          "metadata": {},
          "execution_count": 28
        }
      ]
    },
    {
      "cell_type": "markdown",
      "source": [
        "#<aside>\n",
        "💡 **Question 5**\n",
        "\n",
        "Given a string s and an integer k, reverse the first k characters for every 2k characters counting from the start of the string.\n",
        "\n",
        "If there are fewer than k characters left, reverse all of them. If there are less than 2k but greater than or equal to k characters, then reverse the first k characters and leave the other as original.\n",
        "\n",
        "**Example 1:**\n",
        "\n",
        "**Input:** s = \"abcdefg\", k = 2\n",
        "\n",
        "**Output:**\n",
        "\n",
        "\"bacdfeg\"\n",
        "\n",
        "</aside>"
      ],
      "metadata": {
        "id": "Ga5BbPst73hb"
      }
    },
    {
      "cell_type": "code",
      "source": [
        "def reverseStr(s, k):\n",
        "  chars = list(s)\n",
        "  n = len(chars)\n",
        "\n",
        "  for i in range(0, n, 2 * k):\n",
        "    left = i\n",
        "    right = min(i + k - 1, n - 1)\n",
        "\n",
        "    while left < right:\n",
        "        chars[left], chars[right] = chars[right], chars[left]\n",
        "        left += 1\n",
        "        right -= 1\n",
        "\n",
        "  return ''.join(chars)\n",
        "\n",
        "s = \"abcdefg\"\n",
        "k = 2\n",
        "print(reverseStr(s, k))  # Output: \"bacdfeg\"\n"
      ],
      "metadata": {
        "id": "p0vPCWK-73rk",
        "colab": {
          "base_uri": "https://localhost:8080/"
        },
        "outputId": "11e62f4c-ea95-410e-ba96-3bf1fb1c4d35"
      },
      "execution_count": 29,
      "outputs": [
        {
          "output_type": "stream",
          "name": "stdout",
          "text": [
            "bacdfeg\n"
          ]
        }
      ]
    },
    {
      "cell_type": "markdown",
      "source": [
        "#<aside>\n",
        "💡 **Question 6**\n",
        "\n",
        "Given two strings s and goal, return true *if and only if* s *can become* goal *after some number of **shifts** on* s.\n",
        "\n",
        "A **shift** on s consists of moving the leftmost character of s to the rightmost position.\n",
        "\n",
        "- For example, if s = \"abcde\", then it will be \"bcdea\" after one shift.\n",
        "\n",
        "**Example 1:**\n",
        "\n",
        "**Input:** s = \"abcde\", goal = \"cdeab\"\n",
        "\n",
        "**Output:**\n",
        "\n",
        "true\n",
        "\n",
        "</aside>"
      ],
      "metadata": {
        "id": "Bd30XWFb730h"
      }
    },
    {
      "cell_type": "code",
      "source": [
        "def rotateString(s, goal):\n",
        "  if len(s) != len(goal):\n",
        "    return False\n",
        "\n",
        "  s_concat = s + s\n",
        "  if goal in s_concat:\n",
        "    return True\n",
        "  else:\n",
        "    return False\n",
        "\n",
        "s = \"abcde\"\n",
        "goal = \"cdeab\"\n",
        "print(rotateString(s, goal))"
      ],
      "metadata": {
        "id": "HO3Z4peY73-p",
        "colab": {
          "base_uri": "https://localhost:8080/"
        },
        "outputId": "761b0495-f681-46d4-8dc9-fe0b51e371dc"
      },
      "execution_count": 30,
      "outputs": [
        {
          "output_type": "stream",
          "name": "stdout",
          "text": [
            "True\n"
          ]
        }
      ]
    },
    {
      "cell_type": "markdown",
      "source": [
        "#<aside>\n",
        "💡 **Question 7**\n",
        "\n",
        "Given two strings s and t, return true *if they are equal when both are typed into empty text editors*. '#' means a backspace character.\n",
        "\n",
        "Note that after backspacing an empty text, the text will continue empty.\n",
        "\n",
        "**Example 1:**\n",
        "\n",
        "**Input:** s = \"ab#c\", t = \"ad#c\"\n",
        "\n",
        "**Output:** true\n",
        "\n",
        "**Explanation:**\n",
        "\n",
        "Both s and t become \"ac\".\n",
        "\n",
        "</aside>"
      ],
      "metadata": {
        "id": "uy2wQsps8D55"
      }
    },
    {
      "cell_type": "code",
      "source": [
        "def backspaceCompare(s, t):\n",
        "  stack_s = []\n",
        "  stack_t = []\n",
        "\n",
        "  for char in s:\n",
        "    if char != '#':\n",
        "      stack_s.append(char)\n",
        "    elif stack_s:\n",
        "      stack_s.pop()\n",
        "\n",
        "  for char in t:\n",
        "    if char != '#':\n",
        "      stack_t.append(char)\n",
        "    elif stack_t:\n",
        "      stack_t.pop()\n",
        "\n",
        "  return stack_s == stack_t\n",
        "\n",
        "\n",
        "s = \"ab#c\"\n",
        "t = \"ad#c\"\n",
        "print(backspaceCompare(s, t))\n"
      ],
      "metadata": {
        "id": "pQiB3Ysw8EFh",
        "colab": {
          "base_uri": "https://localhost:8080/"
        },
        "outputId": "d07d3fa1-0d44-44ef-a495-55550f5ae414"
      },
      "execution_count": 31,
      "outputs": [
        {
          "output_type": "stream",
          "name": "stdout",
          "text": [
            "True\n"
          ]
        }
      ]
    },
    {
      "cell_type": "markdown",
      "source": [
        "#<aside>\n",
        "💡 **Question 8**\n",
        "\n",
        "You are given an array coordinates, coordinates[i] = [x, y], where [x, y] represents the coordinate of a point. Check if these points make a straight line in the XY plane.\n",
        "\n",
        "</aside>\n",
        "**Input:** coordinates = [[1,2],[2,3],[3,4],[4,5],[5,6],[6,7]]\n",
        "\n",
        "**Output:** true"
      ],
      "metadata": {
        "id": "GEoWuD9D8EQp"
      }
    },
    {
      "cell_type": "code",
      "source": [
        "def checkStraightLine(coordinates):\n",
        "  if len(coordinates) <= 2:\n",
        "    return True\n",
        "\n",
        "  x1, y1 = coordinates[0]\n",
        "  x2, y2 = coordinates[1]\n",
        "\n",
        "  if x2 - x1 == 0:\n",
        "    slope = float('inf')\n",
        "  else:\n",
        "    slope = (y2 - y1) / (x2 - x1)\n",
        "\n",
        "  for i in range(2, len(coordinates)):\n",
        "    x, y = coordinates[i]\n",
        "    if x - x1 == 0:\n",
        "      current_slope = float('inf')\n",
        "    else:\n",
        "      current_slope = (y - y1) / (x - x1)\n",
        "\n",
        "    if current_slope != slope:\n",
        "      return False\n",
        "\n",
        "  return True\n",
        "\n",
        "coordinates = [[1,2],[2,3],[3,4],[4,5],[5,6],[6,7]]\n",
        "print(checkStraightLine(coordinates))\n"
      ],
      "metadata": {
        "id": "BG8vxX888EYp",
        "colab": {
          "base_uri": "https://localhost:8080/"
        },
        "outputId": "1dd429c7-a171-4df3-a5b5-f574d3e55726"
      },
      "execution_count": 33,
      "outputs": [
        {
          "output_type": "stream",
          "name": "stdout",
          "text": [
            "True\n"
          ]
        }
      ]
    }
  ]
}