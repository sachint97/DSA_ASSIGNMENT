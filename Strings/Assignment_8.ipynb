{
  "nbformat": 4,
  "nbformat_minor": 0,
  "metadata": {
    "colab": {
      "provenance": [],
      "authorship_tag": "ABX9TyNNitU6QPs0Kd1w8JLtQj3A",
      "include_colab_link": true
    },
    "kernelspec": {
      "name": "python3",
      "display_name": "Python 3"
    },
    "language_info": {
      "name": "python"
    }
  },
  "cells": [
    {
      "cell_type": "markdown",
      "metadata": {
        "id": "view-in-github",
        "colab_type": "text"
      },
      "source": [
        "<a href=\"https://colab.research.google.com/github/sachint97/DSA_ASSIGNMENT/blob/main/Strings/Assignment_8.ipynb\" target=\"_parent\"><img src=\"https://colab.research.google.com/assets/colab-badge.svg\" alt=\"Open In Colab\"/></a>"
      ]
    },
    {
      "cell_type": "markdown",
      "source": [
        "<aside>\n",
        "💡 **Question 1**\n",
        "\n",
        "Given two strings s1 and s2, return *the lowest **ASCII** sum of deleted characters to make two strings equal*.\n",
        "\n",
        "**Example 1:**\n",
        "\n",
        "**Input:** s1 = \"sea\", s2 = \"eat\"\n",
        "\n",
        "**Output:** 231\n",
        "\n",
        "**Explanation:** Deleting \"s\" from \"sea\" adds the ASCII value of \"s\" (115) to the sum.\n",
        "\n",
        "Deleting \"t\" from \"eat\" adds 116 to the sum.\n",
        "\n",
        "At the end, both strings are equal, and 115 + 116 = 231 is the minimum sum possible to achieve this.\n",
        "\n",
        "</aside>"
      ],
      "metadata": {
        "id": "j3iI15ry5_K-"
      }
    },
    {
      "cell_type": "code",
      "execution_count": 1,
      "metadata": {
        "colab": {
          "base_uri": "https://localhost:8080/"
        },
        "id": "GDjrMhp356iy",
        "outputId": "77f03be1-0009-4f67-8471-fbb0fabecc25"
      },
      "outputs": [
        {
          "output_type": "stream",
          "name": "stdout",
          "text": [
            "231\n"
          ]
        }
      ],
      "source": [
        "def minimumDeleteSum(s1, s2):\n",
        "    m, n = len(s1), len(s2)\n",
        "    dp = [[0] * (n+1) for _ in range(m+1)]\n",
        "\n",
        "    for i in range(1, m+1):\n",
        "        dp[i][0] = dp[i-1][0] + ord(s1[i-1])\n",
        "\n",
        "    for j in range(1, n+1):\n",
        "        dp[0][j] = dp[0][j-1] + ord(s2[j-1])\n",
        "\n",
        "    for i in range(1, m+1):\n",
        "        for j in range(1, n+1):\n",
        "            if s1[i-1] == s2[j-1]:\n",
        "                dp[i][j] = dp[i-1][j-1]\n",
        "            else:\n",
        "                dp[i][j] = min(dp[i-1][j] + ord(s1[i-1]), dp[i][j-1] + ord(s2[j-1]))\n",
        "\n",
        "    return dp[m][n]\n",
        "\n",
        "# Example usage:\n",
        "s1 = \"sea\"\n",
        "s2 = \"eat\"\n",
        "result = minimumDeleteSum(s1, s2)\n",
        "print(result)\n"
      ]
    },
    {
      "cell_type": "markdown",
      "source": [
        "\n",
        "<aside>\n",
        "💡 **Question 2**\n",
        "\n",
        "Given a string s containing only three types of characters: '(', ')' and '*', return true *if* s *is **valid***.\n",
        "\n",
        "The following rules define a **valid** string:\n",
        "\n",
        "- Any left parenthesis '(' must have a corresponding right parenthesis ')'.\n",
        "- Any right parenthesis ')' must have a corresponding left parenthesis '('.\n",
        "- Left parenthesis '(' must go before the corresponding right parenthesis ')'.\n",
        "- '*' could be treated as a single right parenthesis ')' or a single left parenthesis '(' or an empty string \"\".\n",
        "\n",
        "**Example 1:**\n",
        "\n",
        "**Input:** s = \"()\"\n",
        "\n",
        "**Output:**\n",
        "\n",
        "true\n",
        "\n",
        "</aside>"
      ],
      "metadata": {
        "id": "7sZwBZjH6Io9"
      }
    },
    {
      "cell_type": "code",
      "source": [
        "def isValid(s):\n",
        "    stack = []\n",
        "    for char in s:\n",
        "        if char == '(' or char == '*':\n",
        "            stack.append(char)\n",
        "        else:\n",
        "            if stack and stack[-1] == '(':\n",
        "                stack.pop()\n",
        "            elif stack and stack[-1] == '*':\n",
        "                stack.pop()\n",
        "                stack.append('*')\n",
        "            else:\n",
        "                return False\n",
        "    count = 0\n",
        "    while stack:\n",
        "        if stack.pop() == '(':\n",
        "            count += 1\n",
        "        elif count > 0:\n",
        "            count -= 1\n",
        "    return count == 0\n",
        "\n",
        "# Example usage:\n",
        "s = \"((*)\"\n",
        "result = isValid(s)\n",
        "print(result)\n"
      ],
      "metadata": {
        "id": "V9T16RYf6I50"
      },
      "execution_count": null,
      "outputs": []
    },
    {
      "cell_type": "markdown",
      "source": [
        "<aside>\n",
        "💡 **Question 3**\n",
        "\n",
        "Given two strings word1 and word2, return *the minimum number of **steps** required to make* word1 *and* word2 *the same*.\n",
        "\n",
        "In one **step**, you can delete exactly one character in either string.\n",
        "\n",
        "**Example 1:**\n",
        "\n",
        "**Input:** word1 = \"sea\", word2 = \"eat\"\n",
        "\n",
        "**Output:** 2\n",
        "\n",
        "**Explanation:** You need one step to make \"sea\" to \"ea\" and another step to make \"eat\" to \"ea\".\n",
        "\n",
        "</aside>"
      ],
      "metadata": {
        "id": "R9OMi6ov6bbW"
      }
    },
    {
      "cell_type": "code",
      "source": [
        "def minStepsToEqual(word1, word2):\n",
        "    m, n = len(word1), len(word2)\n",
        "    dp = [[0] * (n+1) for _ in range(m+1)]\n",
        "\n",
        "    for i in range(1, m+1):\n",
        "        dp[i][0] = i\n",
        "\n",
        "    for j in range(1, n+1):\n",
        "        dp[0][j] = j\n",
        "\n",
        "    for i in range(1, m+1):\n",
        "        for j in range(1, n+1):\n",
        "            if word1[i-1] == word2[j-1]:\n",
        "                dp[i][j] = dp[i-1][j-1]\n",
        "            else:\n",
        "                dp[i][j] = 1 + min(dp[i-1][j], dp[i][j-1])\n",
        "\n",
        "    return dp[m][n]\n",
        "\n",
        "# Example usage:\n",
        "word1 = \"sea\"\n",
        "word2 = \"eat\"\n",
        "result = minStepsToEqual(word1, word2)\n",
        "print(result)\n"
      ],
      "metadata": {
        "colab": {
          "base_uri": "https://localhost:8080/"
        },
        "id": "KPaOae-s6YUb",
        "outputId": "7b8afe57-74ec-468d-ee63-0cb99fc2cc8a"
      },
      "execution_count": 2,
      "outputs": [
        {
          "output_type": "stream",
          "name": "stdout",
          "text": [
            "2\n"
          ]
        }
      ]
    },
    {
      "cell_type": "markdown",
      "source": [
        "<aside>\n",
        "💡 **Question 4**\n",
        "\n",
        "You need to construct a binary tree from a string consisting of parenthesis and integers.\n",
        "\n",
        "The whole input represents a binary tree. It contains an integer followed by zero, one or two pairs of parenthesis. The integer represents the root's value and a pair of parenthesis contains a child binary tree with the same structure.\n",
        "You always start to construct the **left** child node of the parent first if it exists.\n",
        "\n",
        "<img src=\"https://pwskills.notion.site/image/https%3A%2F%2Fs3-us-west-2.amazonaws.com%2Fsecure.notion-static.com%2Fbdbea2d1-34a4-4c4b-a450-ea6db7410c43%2FScreenshot_2023-05-29_010548.png?id=1b3741fb-5b89-45a9-98bd-4c1e9ecac1f2&table=block&spaceId=6fae2e0f-dedc-48e9-bc59-af2654c78209&width=1060&userId=&cache=v2\">\n",
        "\n",
        "\n",
        "**Input:** s = \"4(2(3)(1))(6(5))\"\n",
        "\n",
        "**Output:** [4,2,6,3,1,5]\n",
        "</aside>"
      ],
      "metadata": {
        "id": "dVKPvuYV6kfm"
      }
    },
    {
      "cell_type": "code",
      "source": [
        "class TreeNode:\n",
        "    def __init__(self, val=0, left=None, right=None):\n",
        "        self.val = val\n",
        "        self.left = left\n",
        "        self.right = right\n",
        "\n",
        "def buildTreeFromString(s):\n",
        "    if not s:\n",
        "        return None\n",
        "\n",
        "    root_val = \"\"\n",
        "    i = 0\n",
        "    while i < len(s) and s[i] != '(':\n",
        "        root_val += s[i]\n",
        "        i += 1\n",
        "\n",
        "    root = TreeNode(int(root_val))\n",
        "\n",
        "    if i < len(s):\n",
        "        count = 0\n",
        "        start = i\n",
        "        while i < len(s):\n",
        "            if s[i] == '(':\n",
        "                count += 1\n",
        "            elif s[i] == ')':\n",
        "                count -= 1\n",
        "                if count == 0:\n",
        "                    break\n",
        "            i += 1\n",
        "\n",
        "        root.left = buildTreeFromString(s[start+1:i])\n",
        "\n",
        "    if i+1 < len(s):\n",
        "        root.right = buildTreeFromString(s[i+2:len(s)-1])\n",
        "\n",
        "    return root\n",
        "\n",
        "# Example usage:\n",
        "s = \"4(2(3)(1))(6(5))\"\n",
        "root = buildTreeFromString(s)\n",
        "\n",
        "# Perform inorder traversal to get the output list\n",
        "def inorderTraversal(node, result):\n",
        "    if node:\n",
        "        inorderTraversal(node.left, result)\n",
        "        result.append(node.val)\n",
        "        inorderTraversal(node.right, result)\n",
        "\n",
        "result = []\n",
        "inorderTraversal(root, result)\n",
        "print(result)"
      ],
      "metadata": {
        "colab": {
          "base_uri": "https://localhost:8080/"
        },
        "id": "9fuXKXC_6kvf",
        "outputId": "997eacd9-415b-44f7-d1d7-1cb3762bac48"
      },
      "execution_count": 10,
      "outputs": [
        {
          "output_type": "stream",
          "name": "stdout",
          "text": [
            "[3, 2, 1, 4, 5, 6]\n"
          ]
        }
      ]
    },
    {
      "cell_type": "markdown",
      "source": [
        "<aside>\n",
        "💡 **Question 5**\n",
        "\n",
        "Given an array of characters chars, compress it using the following algorithm:\n",
        "\n",
        "Begin with an empty string s. For each group of **consecutive repeating characters** in chars:\n",
        "\n",
        "- If the group's length is 1, append the character to s.\n",
        "- Otherwise, append the character followed by the group's length.\n",
        "\n",
        "The compressed string s **should not be returned separately**, but instead, be stored **in the input character array chars**. Note that group lengths that are 10 or longer will be split into multiple characters in chars.\n",
        "\n",
        "After you are done **modifying the input array,** return *the new length of the array*.\n",
        "\n",
        "You must write an algorithm that uses only constant extra space.\n",
        "\n",
        "**Example 1:**\n",
        "\n",
        "**Input:** chars = [\"a\",\"a\",\"b\",\"b\",\"c\",\"c\",\"c\"]\n",
        "\n",
        "**Output:** Return 6, and the first 6 characters of the input array should be: [\"a\",\"2\",\"b\",\"2\",\"c\",\"3\"]\n",
        "\n",
        "**Explanation:**\n",
        "\n",
        "The groups are \"aa\", \"bb\", and \"ccc\". This compresses to \"a2b2c3\".\n",
        "\n",
        "</aside>"
      ],
      "metadata": {
        "id": "aSDfc-w47Pt-"
      }
    },
    {
      "cell_type": "code",
      "source": [
        "def compress(chars):\n",
        "  write = 0\n",
        "  count = 1\n",
        "\n",
        "  for i in range(1, len(chars) + 1):\n",
        "    if i < len(chars) and chars[i] == chars[i-1]:\n",
        "      count += 1\n",
        "    else:\n",
        "      chars[write] = chars[i-1]\n",
        "      write += 1\n",
        "      if count > 1:\n",
        "        count_str = str(count)\n",
        "        for j in range(len(count_str)):\n",
        "          chars[write] = count_str[j]\n",
        "          write += 1\n",
        "      count = 1\n",
        "\n",
        "  return write\n",
        "\n",
        "# Example usage:\n",
        "chars = [\"a\",\"a\",\"b\",\"b\",\"c\",\"c\",\"c\"]\n",
        "result = compress(chars)\n",
        "print(result)\n",
        "print(chars[:result])\n"
      ],
      "metadata": {
        "colab": {
          "base_uri": "https://localhost:8080/"
        },
        "id": "8er_VDnF7QJY",
        "outputId": "72b4fb1f-8048-4448-bf4f-d4674b37e478"
      },
      "execution_count": 6,
      "outputs": [
        {
          "output_type": "stream",
          "name": "stdout",
          "text": [
            "6\n",
            "['a', '2', 'b', '2', 'c', '3']\n"
          ]
        }
      ]
    },
    {
      "cell_type": "markdown",
      "source": [
        "<aside>\n",
        "💡 **Question 6**\n",
        "\n",
        "Given two strings s and p, return *an array of all the start indices of* p*'s anagrams in* s. You may return the answer in **any order**.\n",
        "\n",
        "An **Anagram** is a word or phrase formed by rearranging the letters of a different word or phrase, typically using all the original letters exactly once.\n",
        "\n",
        "**Example 1:**\n",
        "\n",
        "**Input:** s = \"cbaebabacd\", p = \"abc\"\n",
        "\n",
        "**Output:** [0,6]\n",
        "\n",
        "**Explanation:**\n",
        "\n",
        "The substring with start index = 0 is \"cba\", which is an anagram of \"abc\".\n",
        "\n",
        "The substring with start index = 6 is \"bac\", which is an anagram of \"abc\".\n",
        "\n",
        "</aside>"
      ],
      "metadata": {
        "id": "H8AIgCQA7iMM"
      }
    },
    {
      "cell_type": "code",
      "source": [
        "from collections import Counter\n",
        "\n",
        "def findAnagrams(s, p):\n",
        "    result = []\n",
        "    p_count = Counter(p)\n",
        "    s_count = Counter(s[:len(p)])\n",
        "\n",
        "    if p_count == s_count:\n",
        "        result.append(0)\n",
        "\n",
        "    for i in range(len(p), len(s)):\n",
        "        if s_count[s[i-len(p)]] == 1:\n",
        "            del s_count[s[i-len(p)]]\n",
        "        else:\n",
        "            s_count[s[i-len(p)]] -= 1\n",
        "\n",
        "        s_count[s[i]] += 1\n",
        "\n",
        "        if p_count == s_count:\n",
        "            result.append(i-len(p)+1)\n",
        "\n",
        "    return result\n",
        "\n",
        "# Example usage:\n",
        "s = \"cbaebabacd\"\n",
        "p = \"abc\"\n",
        "result = findAnagrams(s, p)\n",
        "print(result)\n"
      ],
      "metadata": {
        "colab": {
          "base_uri": "https://localhost:8080/"
        },
        "id": "UMwUI7i27ibN",
        "outputId": "7a1da854-1619-41b3-d643-eb81d1afb7bf"
      },
      "execution_count": 7,
      "outputs": [
        {
          "output_type": "stream",
          "name": "stdout",
          "text": [
            "[0, 6]\n"
          ]
        }
      ]
    },
    {
      "cell_type": "markdown",
      "source": [
        "<aside>\n",
        "💡 **Question 7**\n",
        "\n",
        "Given an encoded string, return its decoded string.\n",
        "\n",
        "The encoding rule is: k[encoded_string], where the encoded_string inside the square brackets is being repeated exactly k times. Note that k is guaranteed to be a positive integer.\n",
        "\n",
        "You may assume that the input string is always valid; there are no extra white spaces, square brackets are well-formed, etc. Furthermore, you may assume that the original data does not contain any digits and that digits are only for those repeat numbers, k. For example, there will not be input like 3a or 2[4].\n",
        "\n",
        "The test cases are generated so that the length of the output will never exceed 105.\n",
        "\n",
        "**Example 1:**\n",
        "\n",
        "**Input:** s = \"3[a]2[bc]\"\n",
        "\n",
        "**Output:** \"aaabcbc\"\n",
        "\n",
        "</aside>"
      ],
      "metadata": {
        "id": "IG0z9xfg7yi7"
      }
    },
    {
      "cell_type": "code",
      "source": [
        "def decodeString(s):\n",
        "    stack = []\n",
        "    current_str = \"\"\n",
        "    count = 0\n",
        "\n",
        "    for char in s:\n",
        "        if char.isdigit():\n",
        "            count = count * 10 + int(char)\n",
        "        elif char == \"[\":\n",
        "            stack.append((current_str, count))\n",
        "            current_str = \"\"\n",
        "            count = 0\n",
        "        elif char == \"]\":\n",
        "            prev_str, repeat = stack.pop()\n",
        "            current_str = prev_str + current_str * repeat\n",
        "        else:\n",
        "            current_str += char\n",
        "\n",
        "    return current_str\n",
        "\n",
        "# Example usage:\n",
        "s = \"3[a]2[bc]\"\n",
        "result = decodeString(s)\n",
        "print(result)\n"
      ],
      "metadata": {
        "colab": {
          "base_uri": "https://localhost:8080/"
        },
        "id": "V5rHdzAR7w7J",
        "outputId": "5a3fe30e-6ef1-4e6c-8528-67db2500975c"
      },
      "execution_count": 8,
      "outputs": [
        {
          "output_type": "stream",
          "name": "stdout",
          "text": [
            "aaabcbc\n"
          ]
        }
      ]
    },
    {
      "cell_type": "markdown",
      "source": [
        "<aside>\n",
        "💡 **Question 8**\n",
        "\n",
        "Given two strings s and goal, return true *if you can swap two letters in* s *so the result is equal to* goal*, otherwise, return* false*.*\n",
        "\n",
        "Swapping letters is defined as taking two indices i and j (0-indexed) such that i != j and swapping the characters at s[i] and s[j].\n",
        "\n",
        "- For example, swapping at indices 0 and 2 in \"abcd\" results in \"cbad\".\n",
        "\n",
        "**Example 1:**\n",
        "\n",
        "**Input:** s = \"ab\", goal = \"ba\"\n",
        "\n",
        "**Output:** true\n",
        "\n",
        "**Explanation:** You can swap s[0] = 'a' and s[1] = 'b' to get \"ba\", which is equal to goal.\n",
        "\n",
        "</aside>"
      ],
      "metadata": {
        "id": "fjxG4jju7_Si"
      }
    },
    {
      "cell_type": "code",
      "source": [
        "def isGoalAchievable(s, goal):\n",
        "    if len(s) != len(goal):\n",
        "        return False\n",
        "\n",
        "    mismatched = []\n",
        "    for i in range(len(s)):\n",
        "        if s[i] != goal[i]:\n",
        "            mismatched.append(i)\n",
        "\n",
        "    return len(mismatched) == 2 and s[mismatched[0]] == goal[mismatched[1]] and s[mismatched[1]] == goal[mismatched[0]]\n",
        "\n",
        "# Example usage:\n",
        "s = \"ab\"\n",
        "goal = \"ba\"\n",
        "result = isGoalAchievable(s, goal)\n",
        "print(result)\n"
      ],
      "metadata": {
        "colab": {
          "base_uri": "https://localhost:8080/"
        },
        "id": "U9e2WEdw77wn",
        "outputId": "80ce1e3e-b561-4ce6-f218-97909ec5d4bb"
      },
      "execution_count": 9,
      "outputs": [
        {
          "output_type": "stream",
          "name": "stdout",
          "text": [
            "True\n"
          ]
        }
      ]
    },
    {
      "cell_type": "code",
      "source": [],
      "metadata": {
        "id": "-V79_Hha8Ctz"
      },
      "execution_count": null,
      "outputs": []
    }
  ]
}