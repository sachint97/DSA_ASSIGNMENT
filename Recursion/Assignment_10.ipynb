{
  "nbformat": 4,
  "nbformat_minor": 0,
  "metadata": {
    "colab": {
      "provenance": [],
      "authorship_tag": "ABX9TyOsWZio9SO1eEFsicpOzj0F"
    },
    "kernelspec": {
      "name": "python3",
      "display_name": "Python 3"
    },
    "language_info": {
      "name": "python"
    }
  },
  "cells": [
    {
      "cell_type": "markdown",
      "source": [
        "# <aside>\n",
        "💡 **Question 1**\n",
        "\n",
        "Given an integer `n`, return *`true` if it is a power of three. Otherwise, return `false`*.\n",
        "\n",
        "An integer `n` is a power of three, if there exists an integer `x` such that `n == 3x`.\n",
        "\n",
        "**Example 1:**\n",
        "\n",
        "Input: n = 27\n",
        "\n",
        "Output: true\n",
        "\n",
        "Explanation: 27 = 33\n",
        "\n",
        "</aside>"
      ],
      "metadata": {
        "id": "PrFdUgtAYWR5"
      }
    },
    {
      "cell_type": "code",
      "execution_count": 1,
      "metadata": {
        "colab": {
          "base_uri": "https://localhost:8080/"
        },
        "id": "6WoyFiafYSEG",
        "outputId": "83257e9e-52e5-493d-af19-bfb695c51bd7"
      },
      "outputs": [
        {
          "output_type": "execute_result",
          "data": {
            "text/plain": [
              "True"
            ]
          },
          "metadata": {},
          "execution_count": 1
        }
      ],
      "source": [
        "def PowOfThree(n):\n",
        "  if n%2==0:\n",
        "    return False\n",
        "  if n==1:\n",
        "    return True\n",
        "  return PowOfThree(n/3)\n",
        "\n",
        "n=27\n",
        "PowOfThree(n)"
      ]
    },
    {
      "cell_type": "markdown",
      "source": [
        "# <aside>\n",
        "💡 **Question 2**\n",
        "\n",
        "You have a list `arr` of all integers in the range `[1, n]` sorted in a strictly increasing order. Apply the following algorithm on `arr`:\n",
        "\n",
        "- Starting from left to right, remove the first number and every other number afterward until you reach the end of the list.\n",
        "- Repeat the previous step again, but this time from right to left, remove the rightmost number and every other number from the remaining numbers.\n",
        "- Keep repeating the steps again, alternating left to right and right to left, until a single number remains.\n",
        "\n",
        "Given the integer `n`, return *the last number that remains in* `arr`.\n",
        "\n",
        "**Example 1:**\n",
        "\n",
        "Input: n = 9\n",
        "\n",
        "Output: 6\n",
        "\n",
        "Explanation:\n",
        "\n",
        "arr = [1, 2,3, 4,5, 6,7, 8,9]\n",
        "\n",
        "arr = [2,4, 6,8]\n",
        "\n",
        "arr = [2, 6]\n",
        "\n",
        "arr = [6]\n",
        "\n",
        "</aside>"
      ],
      "metadata": {
        "id": "AauXlpi3bK0K"
      }
    },
    {
      "cell_type": "code",
      "source": [
        "def lastRemaining(n):\n",
        "    if n == 1:\n",
        "        return 1\n",
        "\n",
        "    return 2 * (n // 2 + 1 - lastRemaining(n // 2))\n",
        "\n",
        "\n",
        "# Test the function\n",
        "n = 9\n",
        "result = lastRemaining(n)\n",
        "print(\"Last number remaining:\", result)\n"
      ],
      "metadata": {
        "colab": {
          "base_uri": "https://localhost:8080/"
        },
        "id": "uAAAm0ixbLDm",
        "outputId": "5672f3f0-8984-4889-e479-4685eb396dd6"
      },
      "execution_count": 10,
      "outputs": [
        {
          "output_type": "stream",
          "name": "stdout",
          "text": [
            "Last number remaining: 6\n"
          ]
        }
      ]
    },
    {
      "cell_type": "markdown",
      "source": [
        "<aside>\n",
        "💡 **Question 3**\n",
        "\n",
        "****Given a set represented as a string, write a recursive code to print all subsets of it. The subsets can be printed in any order.\n",
        "\n",
        "**Example 1:**\n",
        "\n",
        "Input :  set = “abc”\n",
        "\n",
        "Output : { “”, “a”, “b”, “c”, “ab”, “ac”, “bc”, “abc”}\n",
        "\n",
        "**Example 2:**\n",
        "\n",
        "Input : set = “abcd”\n",
        "\n",
        "Output : { “”, “a” ,”ab” ,”abc” ,”abcd”, “abd” ,”ac” ,”acd”, “ad” ,”b”, “bc” ,”bcd” ,”bd” ,”c” ,”cd” ,”d” }\n",
        "\n",
        "</aside>"
      ],
      "metadata": {
        "id": "pOx5xglUbcaV"
      }
    },
    {
      "cell_type": "code",
      "source": [
        "def printSubsets(s, current_set, index):\n",
        "    if index == len(s):\n",
        "        print(current_set)\n",
        "        return\n",
        "\n",
        "    # Include the current character\n",
        "    printSubsets(s, current_set + s[index], index + 1)\n",
        "\n",
        "    # Exclude the current character\n",
        "    printSubsets(s, current_set, index + 1)\n",
        "\n",
        "\n",
        "# Test the function\n",
        "s = \"abc\"\n",
        "print(\"Subsets:\")\n",
        "printSubsets(s, \"\", 0)\n"
      ],
      "metadata": {
        "colab": {
          "base_uri": "https://localhost:8080/"
        },
        "id": "SGugiRK9bcsm",
        "outputId": "adf49c82-33bb-4071-8aeb-c7d4d4622d64"
      },
      "execution_count": 9,
      "outputs": [
        {
          "output_type": "stream",
          "name": "stdout",
          "text": [
            "Subsets:\n",
            "abc\n",
            "ab\n",
            "ac\n",
            "a\n",
            "bc\n",
            "b\n",
            "c\n",
            "\n"
          ]
        }
      ]
    },
    {
      "cell_type": "markdown",
      "source": [
        "# <aside>\n",
        "💡 **Question 4**\n",
        "\n",
        "Given a string calculate length of the string using recursion.\n",
        "\n",
        "**Examples:**\n",
        "Input : str = \"abcd\"\n",
        "\n",
        "Output :4\n",
        "\n",
        "Input : str = \"GEEKSFORGEEKS\"\n",
        "\n",
        "Output :13\n",
        "\n",
        "</aside>"
      ],
      "metadata": {
        "id": "YCG9rIhHboE0"
      }
    },
    {
      "cell_type": "code",
      "source": [
        "def LengthOfString(s):\n",
        "  if s=='':\n",
        "    return 0\n",
        "  else:\n",
        "    return 1+LengthOfString(s[1:])\n",
        "\n",
        "s=\"abcd\"\n",
        "LengthOfString(s)"
      ],
      "metadata": {
        "colab": {
          "base_uri": "https://localhost:8080/"
        },
        "id": "NSxn_oLpboaP",
        "outputId": "fb64dffd-8a61-4cb9-e951-8b54715bcecf"
      },
      "execution_count": 3,
      "outputs": [
        {
          "output_type": "execute_result",
          "data": {
            "text/plain": [
              "4"
            ]
          },
          "metadata": {},
          "execution_count": 3
        }
      ]
    },
    {
      "cell_type": "markdown",
      "source": [
        "#<aside>\n",
        "💡 **Question 5**\n",
        "\n",
        "We are given a string S, we need to find count of all contiguous substrings starting and ending with same character.\n",
        "\n",
        "**Examples :**\n",
        "Input  : S = \"abcab\"\n",
        "\n",
        "Output : 7\n",
        "\n",
        "There are 15 substrings of \"abcab\"\n",
        "a, ab, abc, abca, abcab, b, bc, bca\n",
        "bcab, c, ca, cab, a, ab, b\n",
        "Out of the above substrings, there\n",
        "are 7 substrings : a, abca, b, bcab,\n",
        "c, a and b.\n",
        "\n",
        "Input  : S = \"aba\"\n",
        "\n",
        "Output : 4\n",
        "\n",
        "The substrings are a, b, a and aba\n",
        "</aside>"
      ],
      "metadata": {
        "id": "njo8bLEkc8WE"
      }
    },
    {
      "cell_type": "code",
      "source": [
        "def countSubstrings(s):\n",
        "    def countHelper(s, start, end):\n",
        "        if start > end:\n",
        "            return 0\n",
        "\n",
        "        count = 0\n",
        "\n",
        "        if s[start] == s[end]:\n",
        "            count += 1\n",
        "\n",
        "        count += countHelper(s, start, end - 1) + countHelper(s, start + 1, end) - countHelper(s, start + 1, end - 1)\n",
        "\n",
        "        return count\n",
        "\n",
        "    return countHelper(s, 0, len(s) - 1)\n",
        "\n",
        "S = \"aba\"\n",
        "countSubstrings(S)"
      ],
      "metadata": {
        "colab": {
          "base_uri": "https://localhost:8080/"
        },
        "id": "OysqSTMhc8oR",
        "outputId": "26db1908-c1d5-4523-ccee-2a988fdbfd4d"
      },
      "execution_count": 7,
      "outputs": [
        {
          "output_type": "execute_result",
          "data": {
            "text/plain": [
              "4"
            ]
          },
          "metadata": {},
          "execution_count": 7
        }
      ]
    },
    {
      "cell_type": "markdown",
      "source": [
        "# <aside>\n",
        "💡 **Question 6**\n",
        "\n",
        "The [tower of Hanoi](https://en.wikipedia.org/wiki/Tower_of_Hanoi) is a famous puzzle where we have three rods and **N** disks. The objective of the puzzle is to move the entire stack to another rod. You are given the number of discs **N**. Initially, these discs are in the rod 1. You need to print all the steps of discs movement so that all the discs reach the 3rd rod. Also, you need to find the total moves.**Note:** The discs are arranged such that the **top disc is numbered 1** and the **bottom-most disc is numbered N**. Also, all the discs have **different sizes** and a bigger disc **cannot** be put on the top of a smaller disc. Refer the provided link to get a better clarity about the puzzle.\n",
        "\n",
        "**Example 1:**\n",
        "\n",
        "Input:\n",
        "N = 2\n",
        "\n",
        "Output:\n",
        "move disk 1 from rod 1 to rod 2\n",
        "\n",
        "move disk 2 from rod 1 to rod 3\n",
        "\n",
        "move disk 1 from rod 2 to rod 3\n",
        "\n",
        "3\n",
        "\n",
        "Explanation:For N=2 , \n",
        "\n",
        "steps will be\n",
        "as follows in the example and total\n",
        "3 steps will be taken.\n",
        "</aside>"
      ],
      "metadata": {
        "id": "y1tqMkFNdMA2"
      }
    },
    {
      "cell_type": "code",
      "source": [
        "def towerOfHanoi(n, source, destination, auxiliary):\n",
        "    if n == 1:\n",
        "        print(\"Move disk 1 from rod\", source, \"to rod\", destination)\n",
        "        return 1\n",
        "\n",
        "    moves = 0\n",
        "\n",
        "    moves += towerOfHanoi(n-1, source, auxiliary, destination)\n",
        "    print(\"Move disk\", n, \"from rod\", source, \"to rod\", destination)\n",
        "    moves += 1\n",
        "    moves += towerOfHanoi(n-1, auxiliary, destination, source)\n",
        "\n",
        "    return moves\n",
        "\n",
        "\n",
        "n = 2\n",
        "total_moves = towerOfHanoi(n, 1, 3, 2)\n",
        "print(\"Total moves:\", total_moves)\n"
      ],
      "metadata": {
        "colab": {
          "base_uri": "https://localhost:8080/"
        },
        "id": "Mpr0EtwhdMRS",
        "outputId": "674518cd-674d-494a-a5d2-906642995d57"
      },
      "execution_count": 8,
      "outputs": [
        {
          "output_type": "stream",
          "name": "stdout",
          "text": [
            "Move disk 1 from rod 1 to rod 2\n",
            "Move disk 2 from rod 1 to rod 3\n",
            "Move disk 1 from rod 2 to rod 3\n",
            "Total moves: 3\n"
          ]
        }
      ]
    },
    {
      "cell_type": "markdown",
      "source": [
        "<aside>\n",
        "💡 **Question 7**\n",
        "\n",
        "Given a string **str**, the task is to print all the permutations of **str**. A **permutation** is an arrangement of all or part of a set of objects, with regard to the order of the arrangement. For instance, the words ‘bat’ and ‘tab’ represents two distinct permutation (or arrangements) of a similar three letter word.\n",
        "\n",
        "**Examples:**\n",
        "\n",
        "> Input: str = “cd”\n",
        "> \n",
        "> \n",
        "> **Output:** cd dc\n",
        "> \n",
        "> **Input:** str = “abb”\n",
        "> \n",
        "> **Output:** abb abb bab bba bab bba\n",
        "> \n",
        "</aside>"
      ],
      "metadata": {
        "id": "krdsaAzVd5k8"
      }
    },
    {
      "cell_type": "code",
      "source": [
        "def permute_string(string, left, right):\n",
        "    if left == right:\n",
        "        print(''.join(string))\n",
        "    else:\n",
        "        for i in range(left, right + 1):\n",
        "            string[left], string[i] = string[i], string[left]  # Swap characters\n",
        "            permute_string(string, left + 1, right)  # Recursively permute the remaining characters\n",
        "            string[left], string[i] = string[i], string[left]  # Restore the original order\n",
        "\n",
        "def print_permutations(string):\n",
        "    n = len(string)\n",
        "    if n == 0:\n",
        "        print(\"Empty string!\")\n",
        "        return\n",
        "    string = list(string)  # Convert the string to a list of characters\n",
        "    permute_string(string, 0, n - 1)\n",
        "\n",
        "# Example usage:\n",
        "s = \"abb\"\n",
        "print_permutations(s)"
      ],
      "metadata": {
        "colab": {
          "base_uri": "https://localhost:8080/"
        },
        "id": "-3-U6jlCd51T",
        "outputId": "73b74bc3-aa43-4985-bec6-8a982d6160ef"
      },
      "execution_count": 4,
      "outputs": [
        {
          "output_type": "stream",
          "name": "stdout",
          "text": [
            "abb\n",
            "abb\n",
            "bab\n",
            "bba\n",
            "bba\n",
            "bab\n"
          ]
        }
      ]
    },
    {
      "cell_type": "markdown",
      "source": [
        "# <aside>\n",
        "💡 **Question 8**\n",
        "\n",
        "Given a string, count total number of consonants in it. A consonant is an English alphabet character that is not vowel (a, e, i, o and u). Examples of constants are b, c, d, f, and g.\n",
        "\n",
        "**Examples :**\n",
        "\n",
        "Input : abc de\n",
        "\n",
        "Output : 3\n",
        "\n",
        "There are three consonants b, c and d.\n",
        "\n",
        "Input : geeksforgeeks portal\n",
        "\n",
        "Output : 12\n",
        "</aside>"
      ],
      "metadata": {
        "id": "8pvlNi2HeK9f"
      }
    },
    {
      "cell_type": "code",
      "source": [
        "def CountConsonants(s):\n",
        "  def isConso(s):\n",
        "    vowels={'a', 'e', 'i', 'o','u'}\n",
        "    if s.lower() not in vowels and s.isalpha():\n",
        "      return 1\n",
        "    else:\n",
        "      return 0\n",
        "  if s=='':\n",
        "    return 0\n",
        "  return isConso(s[0])+CountConsonants(s[1:])\n",
        "\n",
        "\n",
        "s = \"geeksforgeeks portal\"\n",
        "CountConsonants(s)"
      ],
      "metadata": {
        "colab": {
          "base_uri": "https://localhost:8080/"
        },
        "id": "O4npa5s3eLN4",
        "outputId": "e15a3af2-38cc-4983-fa39-948a5ea77e5f"
      },
      "execution_count": 6,
      "outputs": [
        {
          "output_type": "execute_result",
          "data": {
            "text/plain": [
              "12"
            ]
          },
          "metadata": {},
          "execution_count": 6
        }
      ]
    }
  ]
}