{
  "nbformat": 4,
  "nbformat_minor": 0,
  "metadata": {
    "colab": {
      "provenance": [],
      "authorship_tag": "ABX9TyM/q+OKmLDWHpn0H/gpsz7T"
    },
    "kernelspec": {
      "name": "python3",
      "display_name": "Python 3"
    },
    "language_info": {
      "name": "python"
    }
  },
  "cells": [
    {
      "cell_type": "markdown",
      "source": [
        "#<aside>\n",
        "💡 **Question 1**\n",
        "\n",
        "Given an integer `n`, return *`true` if it is a power of two. Otherwise, return `false`*.\n",
        "\n",
        "An integer `n` is a power of two, if there exists an integer `x` such that `n == 2x`.\n",
        "\n",
        "**Example 1:**\n",
        "Input: n = 1 \n",
        "\n",
        "Output: true\n",
        "\n",
        "**Example 2:**\n",
        "Input: n = 16 \n",
        "\n",
        "Output: true\n",
        "\n",
        "**Example 3:**\n",
        "Input: n = 3 \n",
        "\n",
        "Output: false\n",
        "\n",
        "</aside>"
      ],
      "metadata": {
        "id": "dRuL3Il1f9-a"
      }
    },
    {
      "cell_type": "code",
      "execution_count": 4,
      "metadata": {
        "colab": {
          "base_uri": "https://localhost:8080/"
        },
        "id": "jYl9E1cYf7B4",
        "outputId": "a2fdb2f6-94f9-43a9-d22c-2734593fb85a"
      },
      "outputs": [
        {
          "output_type": "execute_result",
          "data": {
            "text/plain": [
              "False"
            ]
          },
          "metadata": {},
          "execution_count": 4
        }
      ],
      "source": [
        "def IfPowerOfTwo(n):\n",
        "  if n==0:\n",
        "    return False\n",
        "  if n==1:\n",
        "    return True\n",
        "  if n%2!=0:\n",
        "    return False\n",
        "  return IfPowerOfTwo(n//2)\n",
        "\n",
        "n=12\n",
        "IfPowerOfTwo(n)"
      ]
    },
    {
      "cell_type": "markdown",
      "source": [
        "#<aside>\n",
        "💡 **Question 2**\n",
        "\n",
        "Given a number n, find the sum of the first natural numbers.\n",
        "\n",
        "**Example 1:**\n",
        "\n",
        "Input: n = 3 \n",
        "\n",
        "Output: 6\n",
        "\n",
        "**Example 2:**\n",
        "\n",
        "Input  : 5 \n",
        "\n",
        "Output : 15\n",
        "\n",
        "</aside>"
      ],
      "metadata": {
        "id": "mDrzpqvKhPwn"
      }
    },
    {
      "cell_type": "code",
      "source": [
        "def SumOfN(n):\n",
        "  if n==0:\n",
        "    return 0\n",
        "  if n==1:\n",
        "    return 1\n",
        "  return n+SumOfN(n-1)\n",
        "\n",
        "n=5\n",
        "SumOfN(n)"
      ],
      "metadata": {
        "colab": {
          "base_uri": "https://localhost:8080/"
        },
        "id": "xMsnlsmfhP6O",
        "outputId": "b2292f7e-7d56-4766-87b0-ec649811b7ea"
      },
      "execution_count": 13,
      "outputs": [
        {
          "output_type": "execute_result",
          "data": {
            "text/plain": [
              "15"
            ]
          },
          "metadata": {},
          "execution_count": 13
        }
      ]
    },
    {
      "cell_type": "markdown",
      "source": [
        "#<aside>\n",
        "💡 **Question 3**\n",
        "\n",
        "****Given a positive integer, N. Find the factorial of N. \n",
        "\n",
        "**Example 1:**\n",
        "\n",
        "Input: N = 5 \n",
        "\n",
        "Output: 120\n",
        "\n",
        "**Example 2:**\n",
        "\n",
        "Input: N = 4\n",
        "\n",
        "Output: 24\n",
        "\n",
        "</aside>"
      ],
      "metadata": {
        "id": "NKF_AGgqiip8"
      }
    },
    {
      "cell_type": "code",
      "source": [
        "def Factorial(n):\n",
        "  if n==0:\n",
        "    return 1\n",
        "  if n==1:\n",
        "    return 1\n",
        "  return n*Factorial(n-1)\n",
        "\n",
        "n=5\n",
        "Factorial(n)"
      ],
      "metadata": {
        "colab": {
          "base_uri": "https://localhost:8080/"
        },
        "id": "KJCifi9FijGC",
        "outputId": "a67e0609-a103-4026-a561-3626ad2522e4"
      },
      "execution_count": 14,
      "outputs": [
        {
          "output_type": "execute_result",
          "data": {
            "text/plain": [
              "120"
            ]
          },
          "metadata": {},
          "execution_count": 14
        }
      ]
    },
    {
      "cell_type": "markdown",
      "source": [
        "#<aside>\n",
        "💡 **Question 4**\n",
        "\n",
        "Given a number N and a power P, the task is to find the exponent of this number raised to the given power, i.e. N^P.\n",
        "\n",
        "**Example 1 :** \n",
        "\n",
        "Input: N = 5, P = 2\n",
        "\n",
        "Output: 25\n",
        "\n",
        "**Example 2 :**\n",
        "Input: N = 2, P = 5\n",
        "\n",
        "Output: 32\n",
        "\n",
        "</aside>"
      ],
      "metadata": {
        "id": "48vvOzFqjWZA"
      }
    },
    {
      "cell_type": "code",
      "source": [
        "def myPow(x,n):\n",
        "  def function(base=x, exponent=abs(n)):\n",
        "      if exponent == 0:\n",
        "          return 1\n",
        "      elif exponent % 2 == 0:\n",
        "          return function(base * base, exponent // 2)\n",
        "      else:\n",
        "          return base * function(base * base, (exponent - 1) // 2)\n",
        "  f = function()\n",
        "\n",
        "  return float(f) if n >= 0 else 1/f\n",
        "\n",
        "N,P=5,2\n",
        "myPow(N,P)"
      ],
      "metadata": {
        "colab": {
          "base_uri": "https://localhost:8080/"
        },
        "id": "2LEj0W0HjWiY",
        "outputId": "64c9aec8-40e6-4b5c-a614-8d5c0a142547"
      },
      "execution_count": 15,
      "outputs": [
        {
          "output_type": "execute_result",
          "data": {
            "text/plain": [
              "25.0"
            ]
          },
          "metadata": {},
          "execution_count": 15
        }
      ]
    },
    {
      "cell_type": "markdown",
      "source": [
        "#<aside>\n",
        "💡 **Question 5**\n",
        "\n",
        "Given an array of integers **arr**, the task is to find maximum element of that array using recursion.\n",
        "\n",
        "**Example 1:**\n",
        "\n",
        "Input: arr = {1, 4, 3, -5, -4, 8, 6};\n",
        "Output: 8\n",
        "\n",
        "**Example 2:**\n",
        "\n",
        "Input: arr = {1, 4, 45, 6, 10, -8};\n",
        "Output: 45\n",
        "\n",
        "</aside>"
      ],
      "metadata": {
        "id": "CxERlfHWmlZ8"
      }
    },
    {
      "cell_type": "code",
      "source": [
        "def Max(l):\n",
        "  if len(l) == 1:\n",
        "    return l[0]\n",
        "  else:\n",
        "    m = Max(l[1:])\n",
        "    return m if m > l[0] else l[0]\n",
        "\n",
        "arr = [1,4,45,6,10,-8]\n",
        "Max(arr)"
      ],
      "metadata": {
        "colab": {
          "base_uri": "https://localhost:8080/"
        },
        "id": "hEcSeWWBmlkZ",
        "outputId": "deff2ba7-eef9-41a0-ba0f-6630e1b0db72"
      },
      "execution_count": 21,
      "outputs": [
        {
          "output_type": "execute_result",
          "data": {
            "text/plain": [
              "45"
            ]
          },
          "metadata": {},
          "execution_count": 21
        }
      ]
    },
    {
      "cell_type": "markdown",
      "source": [
        "#<aside>\n",
        "💡 **Question 6**\n",
        "\n",
        "Given first term (a), common difference (d) and a integer N of the Arithmetic Progression series, the task is to find Nth term of the series.\n",
        "\n",
        "**Example 1:**\n",
        "\n",
        "Input : a = 2 d = 1 N = 5\n",
        "\n",
        "Output : 6\n",
        "\n",
        "The 5th term of the series is : 6\n",
        "\n",
        "**Example 2:**\n",
        "\n",
        "Input : a = 5 d = 2 N = 10\n",
        "\n",
        "Output : 23\n",
        "\n",
        "The 10th term of the series is : 23\n",
        "\n",
        "</aside>"
      ],
      "metadata": {
        "id": "hjycmtLGrKVg"
      }
    },
    {
      "cell_type": "code",
      "source": [
        "def APSeries(a,d,n):\n",
        "  if n==1:\n",
        "    return a\n",
        "  return APSeries(a+d,d,n-1)\n",
        "\n",
        "a,d,n=5,2,10\n",
        "APSeries(a,d,n)"
      ],
      "metadata": {
        "colab": {
          "base_uri": "https://localhost:8080/"
        },
        "id": "tW2ioXufrKhP",
        "outputId": "4407fe04-902e-453d-f054-b5c279f6b025"
      },
      "execution_count": 23,
      "outputs": [
        {
          "output_type": "execute_result",
          "data": {
            "text/plain": [
              "23"
            ]
          },
          "metadata": {},
          "execution_count": 23
        }
      ]
    },
    {
      "cell_type": "markdown",
      "source": [
        "#<aside>\n",
        "💡 **Question 7**\n",
        "\n",
        "Given a string S, the task is to write a program to print all permutations of a given string.\n",
        "\n",
        "**Example 1:**\n",
        "\n",
        "***Input:***\n",
        "\n",
        "*S = “ABC”*\n",
        "\n",
        "***Output:***\n",
        "\n",
        "*“ABC”, “ACB”, “BAC”, “BCA”, “CBA”, “CAB”*\n",
        "\n",
        "**Example 2:**\n",
        "\n",
        "***Input:***\n",
        "\n",
        "*S = “XY”*\n",
        "\n",
        "***Output:***\n",
        "\n",
        "*“XY”, “YX”*\n",
        "\n",
        "</aside>"
      ],
      "metadata": {
        "id": "2f58ySvSr1k1"
      }
    },
    {
      "cell_type": "code",
      "source": [
        "def permute_string(string, left, right):\n",
        "    if left == right:\n",
        "        print(''.join(string))\n",
        "    else:\n",
        "        for i in range(left, right + 1):\n",
        "            string[left], string[i] = string[i], string[left]  # Swap characters\n",
        "            permute_string(string, left + 1, right)  # Recursively permute the remaining characters\n",
        "            string[left], string[i] = string[i], string[left]  # Restore the original order\n",
        "\n",
        "def print_permutations(string):\n",
        "    n = len(string)\n",
        "    if n == 0:\n",
        "        print(\"Empty string!\")\n",
        "        return\n",
        "    string = list(string)  # Convert the string to a list of characters\n",
        "    permute_string(string, 0, n - 1)\n",
        "\n",
        "# Example usage:\n",
        "s = \"ABC\"\n",
        "print_permutations(s)\n",
        "\n",
        "  "
      ],
      "metadata": {
        "colab": {
          "base_uri": "https://localhost:8080/"
        },
        "id": "FwkobDcbr1yF",
        "outputId": "97ffda10-e7ac-4de1-ea13-99014cf30ac3"
      },
      "execution_count": 24,
      "outputs": [
        {
          "output_type": "stream",
          "name": "stdout",
          "text": [
            "ABC\n",
            "ACB\n",
            "BAC\n",
            "BCA\n",
            "CBA\n",
            "CAB\n"
          ]
        }
      ]
    },
    {
      "cell_type": "markdown",
      "source": [
        "#<aside>\n",
        "💡 **Question 8**\n",
        "\n",
        "Given an array, find a product of all array elements.\n",
        "\n",
        "**Example 1:**\n",
        "\n",
        "Input  : arr[] = {1, 2, 3, 4, 5}\n",
        "Output : 120\n",
        "\n",
        "**Example 2:**\n",
        "\n",
        "Input  : arr[] = {1, 6, 3}\n",
        "Output : 18\n",
        "\n",
        "</aside>"
      ],
      "metadata": {
        "id": "krFmZz5nr_uF"
      }
    },
    {
      "cell_type": "code",
      "source": [
        "def Product(arr,l):\n",
        "  if l==1 :\n",
        "    return arr[0]\n",
        "  return Product(arr[1:],l-1)*arr[0]\n",
        "\n",
        "arr = [1,6,3]\n",
        "Product(arr,len(arr))"
      ],
      "metadata": {
        "colab": {
          "base_uri": "https://localhost:8080/"
        },
        "id": "sEnjhlMwr_5W",
        "outputId": "0b0a4416-47d6-4464-ff54-2c137515fa5a"
      },
      "execution_count": 32,
      "outputs": [
        {
          "output_type": "execute_result",
          "data": {
            "text/plain": [
              "18"
            ]
          },
          "metadata": {},
          "execution_count": 32
        }
      ]
    }
  ]
}