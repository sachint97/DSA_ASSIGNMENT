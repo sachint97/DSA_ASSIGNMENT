{
  "nbformat": 4,
  "nbformat_minor": 0,
  "metadata": {
    "colab": {
      "provenance": [],
      "authorship_tag": "ABX9TyMd3mkAwQDBJ7rQxowzPTlv"
    },
    "kernelspec": {
      "name": "python3",
      "display_name": "Python 3"
    },
    "language_info": {
      "name": "python"
    }
  },
  "cells": [
    {
      "cell_type": "markdown",
      "source": [
        "# <aside>\n",
        "💡 **Question 1**\n",
        "\n",
        "Given a non-negative integer `x`, return *the square root of* `x` *rounded down to the nearest integer*. The returned integer should be **non-negative** as well.\n",
        "\n",
        "You **must not use** any built-in exponent function or operator.\n",
        "\n",
        "- For example, do not use `pow(x, 0.5)` in c++ or `x ** 0.5` in python.\n",
        "\n",
        "**Example 1:**\n",
        "\n",
        "Input: x = 4\n",
        "\n",
        "Output: 2\n",
        "\n",
        "Explanation: The square root of 4 is 2, so we return 2.\n",
        "\n",
        "\n",
        "</aside>\n"
      ],
      "metadata": {
        "id": "cw4cvO2tJnfZ"
      }
    },
    {
      "cell_type": "code",
      "execution_count": null,
      "metadata": {
        "colab": {
          "base_uri": "https://localhost:8080/"
        },
        "id": "9O0ZytLgJh5E",
        "outputId": "05ebb989-fc15-4b0d-f867-5a8970c36ff3"
      },
      "outputs": [
        {
          "output_type": "execute_result",
          "data": {
            "text/plain": [
              "3"
            ]
          },
          "metadata": {},
          "execution_count": 2
        }
      ],
      "source": [
        "def mySqrt(x):\n",
        "  if x == 0:\n",
        "    return 0\n",
        "  first, last = 1, x\n",
        "  while first <= last:\n",
        "    mid = first + (last - first) // 2\n",
        "    if mid == x // mid:\n",
        "      return mid\n",
        "    elif mid > x // mid:\n",
        "      last = mid - 1\n",
        "    else:\n",
        "      first = mid + 1\n",
        "  return last\n",
        "n = 9\n",
        "mySqrt(n)"
      ]
    },
    {
      "cell_type": "markdown",
      "source": [
        "#<aside>\n",
        "💡 **Question 2**\n",
        "\n",
        "A peak element is an element that is strictly greater than its neighbors.\n",
        "\n",
        "Given a **0-indexed** integer array `nums`, find a peak element, and return its index. If the array contains multiple peaks, return the index to **any of the peaks**.\n",
        "\n",
        "You may imagine that `nums[-1] = nums[n] = -∞`. In other words, an element is always considered to be strictly greater than a neighbor that is outside the array.\n",
        "\n",
        "You must write an algorithm that runs in `O(log n)` time.\n",
        "\n",
        "Example 2:\n",
        "\n",
        "Input: nums = [1,2,1,3,5,6,4]\n",
        "\n",
        "Output: 5\n",
        "\n",
        "Explanation: Your function can return either index number 1 where the peak element is 2, or index number 5 where the peak element is 6.\n",
        "</aside>"
      ],
      "metadata": {
        "id": "xuBS5YaINOhs"
      }
    },
    {
      "cell_type": "code",
      "source": [
        "def findPeakElement(nums):\n",
        "  n = len(nums)\n",
        "  l, r = 0, n - 1\n",
        "  while l < r:\n",
        "    mid = (l + r) >> 1\n",
        "    if nums[mid] < nums[mid + 1]:\n",
        "      l =  mid + 1\n",
        "    else:\n",
        "      r = mid \n",
        "  return l\n",
        "\n",
        "nums = [1,2,1,3,5,6,4]\n",
        "findPeakElement(nums)"
      ],
      "metadata": {
        "colab": {
          "base_uri": "https://localhost:8080/"
        },
        "id": "hAvaDjlVNO02",
        "outputId": "89211fa6-5c09-4c8a-9ef8-076aa6025a69"
      },
      "execution_count": null,
      "outputs": [
        {
          "output_type": "execute_result",
          "data": {
            "text/plain": [
              "5"
            ]
          },
          "metadata": {},
          "execution_count": 3
        }
      ]
    },
    {
      "cell_type": "markdown",
      "source": [
        "# <aside>\n",
        "💡 **Question 3**\n",
        "\n",
        "****\n",
        "\n",
        "Given an array `nums` containing `n` distinct numbers in the range `[0, n]`, return *the only number in the range that is missing from the array.*\n",
        "\n",
        "**Example 1:**\n",
        "\n",
        "Input: nums = [3,0,1]\n",
        "\n",
        "Output: 2\n",
        "\n",
        "Explanation: n = 3 since there are 3 numbers, so all numbers are in the range [0,3]. 2 is the missing number in the range since it does not appear in nums.\n",
        "\n",
        "</aside>"
      ],
      "metadata": {
        "id": "vdNreD8VReOW"
      }
    },
    {
      "cell_type": "code",
      "source": [
        "def missingNumber(nums):\n",
        "  n =len(nums)\n",
        "  expectedSum = int(n*(n+1)/2)\n",
        "  sum= 0\n",
        "  for num in nums:\n",
        "    sum = sum + num\n",
        "  missingNumber = expectedSum-sum\n",
        "  return missingNumber\n",
        "\n",
        "nums = [3,0,1]\n",
        "\n",
        "missingNumber(nums)"
      ],
      "metadata": {
        "colab": {
          "base_uri": "https://localhost:8080/"
        },
        "id": "n2TiadyqRev_",
        "outputId": "d0246595-5e89-4a06-dee1-07ece9e52a9e"
      },
      "execution_count": null,
      "outputs": [
        {
          "output_type": "execute_result",
          "data": {
            "text/plain": [
              "2"
            ]
          },
          "metadata": {},
          "execution_count": 4
        }
      ]
    },
    {
      "cell_type": "markdown",
      "source": [
        "#<aside>\n",
        "💡 **Question 4**\n",
        "\n",
        "Given an array of integers `nums` containing `n + 1` integers where each integer is in the range `[1, n]` inclusive.\n",
        "\n",
        "There is only **one repeated number** in `nums`, return *this repeated number*.\n",
        "\n",
        "You must solve the problem **without** modifying the array `nums` and uses only constant extra space.\n",
        "\n",
        "**Example 1:**\n",
        "Input: nums = [1,3,4,2,2]\n",
        "\n",
        "Output: 2\n",
        "\n",
        "</aside>"
      ],
      "metadata": {
        "id": "vSjmo_JJTuMk"
      }
    },
    {
      "cell_type": "code",
      "source": [
        "def findDuplicate(nums):\n",
        "  slow = nums[0]\n",
        "  fast = nums[0]\n",
        "  while True:\n",
        "      fast = nums[nums[fast]]\n",
        "      slow = nums[slow]\n",
        "      if fast == slow:\n",
        "          break\n",
        "  curr = nums[0]\n",
        "  while curr!=slow:\n",
        "      slow = nums[slow]\n",
        "      curr = nums[curr]\n",
        "  return curr\n",
        "\n",
        "nums=[1,3,4,2,2]\n",
        "findDuplicate(nums)"
      ],
      "metadata": {
        "id": "vlvxehF9Tuae",
        "colab": {
          "base_uri": "https://localhost:8080/"
        },
        "outputId": "198cc128-3a47-4c66-bb5a-f7c627f3c94d"
      },
      "execution_count": 3,
      "outputs": [
        {
          "output_type": "execute_result",
          "data": {
            "text/plain": [
              "2"
            ]
          },
          "metadata": {},
          "execution_count": 3
        }
      ]
    },
    {
      "cell_type": "markdown",
      "source": [
        "# <aside>\n",
        "💡 **Question 5**\n",
        "\n",
        "Given two integer arrays `nums1` and `nums2`, return *an array of their intersection*. Each element in the result must be **unique** and you may return the result in **any order**.\n",
        "\n",
        "**Example 1:**\n",
        "Input: nums1 = [1,2,2,1], nums2 = [2,2]\n",
        "\n",
        "Output: [2]\n",
        "\n",
        "</aside>"
      ],
      "metadata": {
        "id": "DrUoUxFW8fMR"
      }
    },
    {
      "cell_type": "code",
      "source": [
        "def intersection(nums1,nums2):\n",
        "  nums1 = set(nums1)\n",
        "  l = []\n",
        "  for i in nums2:\n",
        "      if i in nums1:\n",
        "          l.append(i)\n",
        "  return sorted(set(l))\n",
        "\n",
        "nums1 = [1,2,2,1]\n",
        "nums2 = [2,2]\n",
        "intersection(nums1,nums2)"
      ],
      "metadata": {
        "colab": {
          "base_uri": "https://localhost:8080/"
        },
        "id": "Lg0mkHgo8fVB",
        "outputId": "f1b17b82-14ff-4f14-adf2-8bce6f18dae9"
      },
      "execution_count": 4,
      "outputs": [
        {
          "output_type": "execute_result",
          "data": {
            "text/plain": [
              "[2]"
            ]
          },
          "metadata": {},
          "execution_count": 4
        }
      ]
    },
    {
      "cell_type": "markdown",
      "source": [
        "# <aside>\n",
        "💡 **Question 6**\n",
        "\n",
        "Suppose an array of length `n` sorted in ascending order is **rotated** between `1` and `n` times. For example, the array `nums = [0,1,2,4,5,6,7]` might become:\n",
        "\n",
        "- `[4,5,6,7,0,1,2]` if it was rotated `4` times.\n",
        "- `[0,1,2,4,5,6,7]` if it was rotated `7` times.\n",
        "\n",
        "Notice that **rotating** an array `[a[0], a[1], a[2], ..., a[n-1]]` 1 time results in the array `[a[n-1], a[0], a[1], a[2], ..., a[n-2]]`.\n",
        "\n",
        "Given the sorted rotated array `nums` of **unique** elements, return *the minimum element of this array*.\n",
        "\n",
        "You must write an algorithm that runs in `O(log n) time.`\n",
        "\n",
        "**Example 1:**\n",
        "Input: nums = [3,4,5,1,2]\n",
        "\n",
        "Output: 1\n",
        "\n",
        "Explanation: The original array was [1,2,3,4,5] rotated 3 times.\n",
        "\n",
        "</aside>"
      ],
      "metadata": {
        "id": "1KxHDTKWA1gn"
      }
    },
    {
      "cell_type": "code",
      "source": [
        "def MinRotatedArray(nums):\n",
        "  l = len(nums)\n",
        "  if l == 1:\n",
        "    return nums[0]\n",
        "\n",
        "  left = 0\n",
        "  right = l-1\n",
        "\n",
        "  if nums[left]<nums[right]:\n",
        "    return nums[left]\n",
        "\n",
        "  while left<=right:\n",
        "    mid = left + (right-left)//2\n",
        "\n",
        "    if nums[mid]>nums[mid+1]:\n",
        "      return nums[mid+1]\n",
        "\n",
        "    if nums[mid - 1] > nums[mid]:\n",
        "      return nums[mid]\n",
        "\n",
        "    if nums[mid] > nums[0]:\n",
        "      left = mid + 1\n",
        "\n",
        "    else:\n",
        "      right = mid - 1\n",
        "  return nums[mid]\n",
        "\n",
        "\n",
        "nums = [3,4,5,1,2]\n",
        "MinRotatedArray(nums)"
      ],
      "metadata": {
        "colab": {
          "base_uri": "https://localhost:8080/"
        },
        "id": "nkIxFTj6A1rt",
        "outputId": "339025b4-5260-456d-f7d9-411e47743e7f"
      },
      "execution_count": 8,
      "outputs": [
        {
          "output_type": "execute_result",
          "data": {
            "text/plain": [
              "1"
            ]
          },
          "metadata": {},
          "execution_count": 8
        }
      ]
    },
    {
      "cell_type": "markdown",
      "source": [
        "# <aside>\n",
        "💡 **Question 7**\n",
        "\n",
        "Given an array of integers `nums` sorted in non-decreasing order, find the starting and ending position of a given `target` value.\n",
        "\n",
        "If `target` is not found in the array, return `[-1, -1]`.\n",
        "\n",
        "You must write an algorithm with `O(log n)` runtime complexity.\n",
        "\n",
        "**Example 1:**\n",
        "Input: nums = [5,7,7,8,8,10], target = 8\n",
        "\n",
        "Output: [3,4]\n",
        "\n",
        "</aside>"
      ],
      "metadata": {
        "id": "0IIeJS8rFYUF"
      }
    },
    {
      "cell_type": "code",
      "source": [
        "def searchRange(nums,target):     \n",
        "  if not nums:\n",
        "    return [-1,-1]\n",
        "\n",
        "  left=0\n",
        "  right= len(nums)-1\n",
        "\n",
        "  while left<=right:\n",
        "    mid=left+(right-left+1)//2\n",
        "\n",
        "    if nums[mid] == target:\n",
        "      start = end = mid\n",
        "      while start > 0 and nums[start - 1] == target:\n",
        "        start -= 1\n",
        "      while end < len(nums) - 1 and nums[end + 1] == target:\n",
        "        end += 1\n",
        "      return [start, end]\n",
        "            \n",
        "    elif nums[mid]<target:\n",
        "      left=mid+1\n",
        "    else:\n",
        "      right=mid-1\n",
        "\n",
        "  return [-1, -1]\n",
        "\n",
        "nums = [5,7,7,8,8,10]\n",
        "target = 8\n",
        "searchRange(nums,target)\n"
      ],
      "metadata": {
        "colab": {
          "base_uri": "https://localhost:8080/"
        },
        "id": "d4pzMwR8FYqT",
        "outputId": "d4adc6dc-9252-4c95-c82f-8ee9a9fc9462"
      },
      "execution_count": 9,
      "outputs": [
        {
          "output_type": "execute_result",
          "data": {
            "text/plain": [
              "[3, 4]"
            ]
          },
          "metadata": {},
          "execution_count": 9
        }
      ]
    },
    {
      "cell_type": "markdown",
      "source": [
        "# <aside>\n",
        "💡 **Question 8**\n",
        "\n",
        "Given two integer arrays `nums1` and `nums2`, return *an array of their intersection*. Each element in the result must appear as many times as it shows in both arrays and you may return the result in **any order**.\n",
        "\n",
        "**Example 1:**\n",
        "Input: nums1 = [1,2,2,1], nums2 = [2,2]\n",
        "Output: [2,2]\n",
        "\n",
        "</aside>"
      ],
      "metadata": {
        "id": "Gt_2PxBZFh5D"
      }
    },
    {
      "cell_type": "code",
      "source": [
        "def intersection(nums1,nums2):\n",
        "  nums1 = set(nums1)\n",
        "  l = []\n",
        "  for i in nums2:\n",
        "      if i in nums1:\n",
        "          l.append(i)\n",
        "  return sorted(set(l))\n",
        "\n",
        "nums1 = [1,2,2,1]\n",
        "nums2 = [2,2]\n",
        "intersection(nums1,nums2)"
      ],
      "metadata": {
        "colab": {
          "base_uri": "https://localhost:8080/"
        },
        "id": "wTbBraYlFiAa",
        "outputId": "0c5f5837-1563-4417-b94a-863820e7ba19"
      },
      "execution_count": 10,
      "outputs": [
        {
          "output_type": "execute_result",
          "data": {
            "text/plain": [
              "[2]"
            ]
          },
          "metadata": {},
          "execution_count": 10
        }
      ]
    },
    {
      "cell_type": "code",
      "source": [],
      "metadata": {
        "id": "70AOlWsbN322"
      },
      "execution_count": null,
      "outputs": []
    }
  ]
}