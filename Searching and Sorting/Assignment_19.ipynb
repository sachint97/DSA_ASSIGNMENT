{
  "nbformat": 4,
  "nbformat_minor": 0,
  "metadata": {
    "colab": {
      "provenance": [],
      "authorship_tag": "ABX9TyNb6xjQ8uCmWzqLEoj3D92y"
    },
    "kernelspec": {
      "name": "python3",
      "display_name": "Python 3"
    },
    "language_info": {
      "name": "python"
    }
  },
  "cells": [
    {
      "cell_type": "markdown",
      "source": [
        "<aside>\n",
        "💡 1. **Merge k Sorted Lists**\n",
        "\n",
        "You are given an array of `k` linked-lists `lists`, each linked-list is sorted in ascending order.\n",
        "\n",
        "*Merge all the linked-lists into one sorted linked-list and return it.*\n",
        "\n",
        "**Example 1:**\n",
        "\n",
        "Input: lists = [[1,4,5],[1,3,4],[2,6]]\n",
        "\n",
        "Output: [1,1,2,3,4,4,5,6]\n",
        "\n",
        "Explanation: The linked-lists are:\n",
        "[\n",
        "  1->4->5,\n",
        "  1->3->4,\n",
        "  2->6\n",
        "]\n",
        "\n",
        "merging them into one sorted list:\n",
        "1->1->2->3->4->4->5->6\n",
        "\n",
        "Example 2:\n",
        "\n",
        "Input: lists = []\n",
        "\n",
        "Output: []\n",
        "\n",
        "</aside>"
      ],
      "metadata": {
        "id": "FeY1z3KdsTLq"
      }
    },
    {
      "cell_type": "code",
      "execution_count": 22,
      "metadata": {
        "id": "iWMowDSDraZu",
        "colab": {
          "base_uri": "https://localhost:8080/"
        },
        "outputId": "8f8d0dc5-e9e3-4962-b952-f668cead3c66"
      },
      "outputs": [
        {
          "output_type": "stream",
          "name": "stdout",
          "text": [
            "1->1->2->3->4->4->5->6->None\n"
          ]
        }
      ],
      "source": [
        "# Definition for singly-linked list.\n",
        "class ListNode:\n",
        "    def __init__(self, val=0, next=None):\n",
        "        self.val = val\n",
        "        self.next = next\n",
        "\n",
        "def lst2link(lst):\n",
        "    cur = dummy = ListNode(0)\n",
        "    for e in lst:\n",
        "        cur.next = ListNode(e)\n",
        "        cur = cur.next\n",
        "    return dummy.next\n",
        "\n",
        "def display(linked_list):\n",
        "  while(linked_list):\n",
        "    print(linked_list.val,end='->')\n",
        "    linked_list=linked_list.next\n",
        "  print('None')\n",
        "\n",
        "\n",
        "class Solution:\n",
        "    def mergeTwoLists(self, list1, list2):\n",
        "        test = ListNode(0)\n",
        "        tail = test\n",
        "\n",
        "        while list1 and list2:\n",
        "            if list1.val <= list2.val:\n",
        "                tail.next = list1\n",
        "                list1 = list1.next\n",
        "            else:\n",
        "                tail.next = list2\n",
        "                list2 = list2.next\n",
        "            tail = tail.next\n",
        "\n",
        "        if list1:\n",
        "            tail.next = list1\n",
        "        elif list2:\n",
        "            tail.next = list2\n",
        "\n",
        "        return test.next\n",
        "\n",
        "    def mergeKLists(self, lists):\n",
        "        if not lists:\n",
        "            return None\n",
        "\n",
        "        temp = [lists[0]]\n",
        "        for i in range(len(lists) - 1):\n",
        "            x = self.mergeTwoLists(temp[i], lists[i + 1])\n",
        "            temp.append(x)\n",
        "        return temp[-1]\n",
        "\n",
        "l1=[1,4,5]\n",
        "l2 = [1,3,4]\n",
        "l3 = [2,6]\n",
        "l = [lst2link(l1),lst2link(l2),lst2link(l3)]\n",
        "sol = Solution()\n",
        "res = sol.mergeKLists(l)\n",
        "display(res)"
      ]
    },
    {
      "cell_type": "markdown",
      "source": [
        "# <aside>\n",
        "💡 2. **Count of Smaller Numbers After Self**\n",
        "\n",
        "Given an integer array `nums`, return *an integer array* `counts` *where* `counts[i]` *is the number of smaller elements to the right of* `nums[i]`.\n",
        "\n",
        "**Example 1:**\n",
        "\n",
        "Input: nums = [5,2,6,1]\n",
        "\n",
        "Output: [2,1,1,0]\n",
        "\n",
        "Explanation:\n",
        "\n",
        "To the right of 5 there are2 smaller elements (2 and 1).\n",
        "\n",
        "To the right of 2 there is only1 smaller element (1).\n",
        "\n",
        "To the right of 6 there is1 smaller element (1).\n",
        "\n",
        "To the right of 1 there is0 smaller element.\n",
        "\n",
        "</aside>"
      ],
      "metadata": {
        "id": "lEXmIHYe3E9p"
      }
    },
    {
      "cell_type": "code",
      "source": [
        "def b_s(arr,num):\n",
        "  l = len(arr)\n",
        "  l,r = 0,l\n",
        "  while l<=r:\n",
        "    mid = l+(r-l)//2\n",
        "    if arr[mid] == num:\n",
        "      return mid\n",
        "    elif arr[mid]>num:\n",
        "      r = mid\n",
        "    else:\n",
        "      l = mid\n",
        "\n",
        "def SmallNumsToRight(nums):\n",
        "  arr, ans = sorted(nums), []\n",
        "\n",
        "  for num in nums:\n",
        "      i = b_s(arr,num)\n",
        "      ans.append(i)\n",
        "      del arr[i]\n",
        "\n",
        "  return ans\n",
        "\n",
        "nums = [5,2,6,1]\n",
        "SmallNumsToRight(nums)"
      ],
      "metadata": {
        "colab": {
          "base_uri": "https://localhost:8080/"
        },
        "id": "9Men64k13KeX",
        "outputId": "c519cf37-9858-4bc2-fe01-f51524b7e178"
      },
      "execution_count": 23,
      "outputs": [
        {
          "output_type": "execute_result",
          "data": {
            "text/plain": [
              "[2, 1, 1, 0]"
            ]
          },
          "metadata": {},
          "execution_count": 23
        }
      ]
    },
    {
      "cell_type": "markdown",
      "source": [
        "# <aside>\n",
        "💡 3. **Sort an Array**\n",
        "\n",
        "Given an array of integers `nums`, sort the array in ascending order and return it.\n",
        "\n",
        "You must solve the problem **without using any built-in** functions in `O(nlog(n))` time complexity and with the smallest space complexity possible.\n",
        "\n",
        "**Example 1:**\n",
        "\n",
        "Input: nums = [5,2,3,1]\n",
        "\n",
        "Output: [1,2,3,5]\n",
        "\n",
        "Explanation: After sorting the array, the positions of some numbers are not changed (for example, 2 and 3), while the positions of other numbers are changed (for example, 1 and 5).\n",
        "\n",
        "**Example 2:**\n",
        "\n",
        "Input: nums = [5,1,1,2,0,0]\n",
        "\n",
        "Output: [0,0,1,1,2,5]\n",
        "\n",
        "Explanation: Note that the values of nums are not necessairly unique.\n",
        "\n",
        "\n",
        "\n",
        "</aside>"
      ],
      "metadata": {
        "id": "WQEAstC2XAvk"
      }
    },
    {
      "cell_type": "code",
      "source": [
        "def SortArray(arr):\n",
        "  l = len(arr)\n",
        "  i=0\n",
        "  while i<l:\n",
        "    temp = arr[i]\n",
        "    j = i-1\n",
        "    while arr[j]>temp and j>=0:\n",
        "      arr[j+1] = arr[j]\n",
        "      j -= 1\n",
        "    arr[j+1] = temp\n",
        "    i+=1\n",
        "  return arr\n",
        "\n",
        "nums = [5,1,1,2,0,0]\n",
        "SortArray(nums)"
      ],
      "metadata": {
        "colab": {
          "base_uri": "https://localhost:8080/"
        },
        "id": "uCzmIIpoXCtD",
        "outputId": "a2f3a20a-46d2-4b82-e9aa-60b187a422ce"
      },
      "execution_count": 24,
      "outputs": [
        {
          "output_type": "execute_result",
          "data": {
            "text/plain": [
              "[0, 0, 1, 1, 2, 5]"
            ]
          },
          "metadata": {},
          "execution_count": 24
        }
      ]
    },
    {
      "cell_type": "markdown",
      "source": [
        "# <aside>\n",
        "💡 4. **Move all zeroes to end of array**\n",
        "\n",
        "Given an array of random numbers, Push all the zero’s of a given array to the end of the array. For example, if the given arrays is {1, 9, 8, 4, 0, 0, 2, 7, 0, 6, 0}, it should be changed to {1, 9, 8, 4, 2, 7, 6, 0, 0, 0, 0}. The order of all other elements should be same. Expected time complexity is O(n) and extra space is O(1).\n",
        "\n",
        "**Example:**\n",
        "\n",
        "Input :  arr[] = {1, 2, 0, 4, 3, 0, 5, 0};\n",
        "\n",
        "Output : arr[] = {1, 2, 4, 3, 5, 0, 0, 0};\n",
        "\n",
        "Input : arr[]  = {1, 2, 0, 0, 0, 3, 6};\n",
        "\n",
        "Output : arr[] = {1, 2, 3, 6, 0, 0, 0};\n",
        "\n",
        "</aside>"
      ],
      "metadata": {
        "id": "M1U_TucOZY-h"
      }
    },
    {
      "cell_type": "code",
      "source": [
        "def ArrangeZerosAtEnd(arr):\n",
        "  l = len(arr)\n",
        "  j=0\n",
        "  for i in range(l):\n",
        "    if arr[i]!=0:\n",
        "      arr[j],arr[i] = arr[i],arr[j]\n",
        "      j+=1\n",
        "  return arr\n",
        "\n",
        "arr = [1, 2, 0, 4, 3, 0, 5, 0]\n",
        "ArrangeZerosAtEnd(arr)"
      ],
      "metadata": {
        "colab": {
          "base_uri": "https://localhost:8080/"
        },
        "id": "_nBMyppzZarV",
        "outputId": "d014c769-658f-4146-bfad-1def5e79baae"
      },
      "execution_count": 25,
      "outputs": [
        {
          "output_type": "execute_result",
          "data": {
            "text/plain": [
              "[1, 2, 4, 3, 5, 0, 0, 0]"
            ]
          },
          "metadata": {},
          "execution_count": 25
        }
      ]
    },
    {
      "cell_type": "markdown",
      "source": [
        "# <aside>\n",
        "💡 5. **Rearrange array in alternating positive & negative items with O(1) extra space**\n",
        "\n",
        "Given an **array of positive** and **negative numbers**, arrange them in an **alternate** fashion such that every positive number is followed by a negative and vice-versa maintaining the **order of appearance**. The number of positive and negative numbers need not be equal. If there are more positive numbers they appear at the end of the array. If there are more negative numbers, they too appear at the end of the array.\n",
        "\n",
        "**Examples:**\n",
        "\n",
        "  Input:  arr[] = {1, 2, 3, -4, -1, 4}\n",
        "\n",
        "Output: arr[] = {-4, 1, -1, 2, 3, 4}\n",
        "\n",
        "Input:  arr[] = {-5, -2, 5, 2, 4, 7, 1, 8, 0, -8}\n",
        "\n",
        "Output: arr[] = {-5, 5, -2, 2, -8, 4, 7, 1, 8, 0}\n",
        "</aside>"
      ],
      "metadata": {
        "id": "pIBVNdtzbNZK"
      }
    },
    {
      "cell_type": "code",
      "source": [
        "def Rearrange(arr):\n",
        "  l = len(arr)\n",
        "  j = 0\n",
        "  for i in range(l):\n",
        "    if i%2 == 0 and arr[i]>0:\n",
        "      for j in range(i+1,l):\n",
        "        if arr[j]<0:\n",
        "          temp = arr.pop(j)\n",
        "          arr.insert(i,temp)\n",
        "          break\n",
        "    elif i%2 != 0 and arr[i]<0:\n",
        "      for j in range(i+1,l):\n",
        "        if arr[j]>0:\n",
        "          temp = arr.pop(j)\n",
        "          arr.insert(i,temp)\n",
        "          break\n",
        "  return arr\n",
        "\n",
        "arr = [1, 2, 3, -4, -1, 4]\n",
        "print(Rearrange(arr))\n",
        "arr1 = [-5, -2, 5, 2, 4, 7, 1, 8, 0, -8]\n",
        "print(Rearrange(arr1))"
      ],
      "metadata": {
        "colab": {
          "base_uri": "https://localhost:8080/"
        },
        "id": "SPWQz2FpbS2_",
        "outputId": "95be90a3-1ecd-4eae-822e-02a1e22ceb47"
      },
      "execution_count": 26,
      "outputs": [
        {
          "output_type": "stream",
          "name": "stdout",
          "text": [
            "[-4, 1, -1, 2, 3, 4]\n",
            "[-5, 5, -2, 2, -8, 4, 7, 1, 8, 0]\n"
          ]
        }
      ]
    },
    {
      "cell_type": "markdown",
      "source": [
        "<aside>\n",
        "💡 **6. Merge two sorted arrays**\n",
        "\n",
        "Given two sorted arrays, the task is to merge them in a sorted manner.\n",
        "\n",
        "**Examples:**\n",
        "\n",
        "Input: arr1[] = { 1, 3, 4, 5}, arr2[] = {2, 4, 6, 8}\n",
        "\n",
        "Output: arr3[] = {1, 2, 3, 4, 4, 5, 6, 8}\n",
        "\n",
        "Input: arr1[] = { 5, 8, 9}, arr2[] = {4, 7, 8}\n",
        "\n",
        "Output: arr3[] = {4, 5, 7, 8, 8, 9}\n",
        "\n",
        "</aside>"
      ],
      "metadata": {
        "id": "iaLU70JIfjFI"
      }
    },
    {
      "cell_type": "code",
      "source": [
        "def MergeSorted(arr1,arr2):\n",
        "  l1 = len(arr1)\n",
        "  l2 = len(arr2)\n",
        "  i = 0\n",
        "  while i<len(arr1) and len(arr2)!=0:\n",
        "    if arr1[i]>=arr2[0]:\n",
        "      temp = arr2.pop(0)\n",
        "      arr1.insert(i,temp)\n",
        "    i+=1\n",
        "  arr1 += arr2\n",
        "  return arr1\n",
        "\n",
        "arr1 = [1, 3, 4, 5]\n",
        "arr2 = [2, 4, 6, 8]\n",
        "print(MergeSorted(arr1,arr2))\n",
        "arr1 = [5,8,9]\n",
        "arr2 = [4,7,8]\n",
        "print(MergeSorted(arr1,arr2))"
      ],
      "metadata": {
        "colab": {
          "base_uri": "https://localhost:8080/"
        },
        "id": "DdJ7QuMxfjPJ",
        "outputId": "ed2d2802-ce27-40c5-a713-88ce81e7ed95"
      },
      "execution_count": 43,
      "outputs": [
        {
          "output_type": "stream",
          "name": "stdout",
          "text": [
            "[1, 2, 3, 4, 4, 5, 6, 8]\n",
            "[4, 5, 7, 8, 8, 9]\n"
          ]
        }
      ]
    },
    {
      "cell_type": "markdown",
      "source": [
        "# <aside>\n",
        "💡 7. **Intersection of Two Arrays**\n",
        "\n",
        "Given two integer arrays `nums1` and `nums2`, return *an array of their intersection*. Each element in the result must be **unique** and you may return the result in **any order**.\n",
        "\n",
        "**Example 1:**\n",
        "Input: nums1 = [1,2,2,1],\n",
        "nums2 = [2,2]\n",
        "\n",
        "Output: [2]\n",
        "\n",
        "**Example 2:**\n",
        "\n",
        "Input: nums1 = [4,9,5], nums2 = [9,4,9,8,4]\n",
        "\n",
        "Output: [9,4]\n",
        "\n",
        "Explanation: [4,9] is also accepted.\n",
        "\n",
        "\n",
        "</aside>"
      ],
      "metadata": {
        "id": "e3b9LjXZk41O"
      }
    },
    {
      "cell_type": "code",
      "source": [
        "def Intersection(arr1,arr2):\n",
        "  arr1=set(arr1)\n",
        "  arr2=set(arr2)\n",
        "\n",
        "  res = arr1.intersection(arr2)\n",
        "  return list(res)\n",
        "\n",
        "nums1 = [1,2,2,1]\n",
        "nums2 = [2,2]\n",
        "print(Intersection(nums1,nums2))\n",
        "nums1 =  [4,9,5]\n",
        "nums2 = [9,4,9,8,4]\n",
        "print(Intersection(nums1,nums2))\n"
      ],
      "metadata": {
        "colab": {
          "base_uri": "https://localhost:8080/"
        },
        "id": "9lf2vIxbk5Mk",
        "outputId": "b3ce2eed-1964-4c9a-f3eb-671f721c28d9"
      },
      "execution_count": 47,
      "outputs": [
        {
          "output_type": "stream",
          "name": "stdout",
          "text": [
            "[2]\n",
            "[9, 4]\n"
          ]
        }
      ]
    },
    {
      "cell_type": "markdown",
      "source": [
        "<aside>\n",
        "💡 8. **Intersection of Two Arrays II**\n",
        "\n",
        "Given two integer arrays `nums1` and `nums2`, return *an array of their intersection*. Each element in the result must appear as many times as it shows in both arrays and you may return the result in **any order**.\n",
        "\n",
        "**Example 1:**\n",
        "\n",
        "Input: nums1 = [1,2,2,1], nums2 = [2,2]\n",
        "\n",
        "Output: [2,2]\n",
        "\n",
        "**Example 2:**\n",
        "\n",
        "Input: nums1 = [4,9,5], nums2 = [9,4,9,8,4]\n",
        "\n",
        "Output: [4,9]\n",
        "\n",
        "Explanation: [9,4] is also accepted.\n",
        "\n",
        "\n",
        "</aside>"
      ],
      "metadata": {
        "id": "bBhbgnBnmhAg"
      }
    },
    {
      "cell_type": "code",
      "source": [
        "def intersect(nums1, nums2):\n",
        "  nums1.sort()\n",
        "  nums2.sort()\n",
        "  l1 = len(nums1)\n",
        "  l2 = len(nums2)\n",
        "  res = []\n",
        "  i,j = 0,0\n",
        "  while i<l1 and j<l2:\n",
        "    if nums1[i]<nums2[j]:\n",
        "        i+=1\n",
        "    elif nums2[j]<nums1[i]:\n",
        "        j+=1\n",
        "    else:\n",
        "        res.append(nums1[i])\n",
        "        i+=1\n",
        "        j+=1\n",
        "\n",
        "  return res\n",
        "\n",
        "nums1 = [1,2,2,1]\n",
        "nums2 = [2,2]\n",
        "print(intersect(nums1,nums2))\n",
        "nums1 =  [4,9,5]\n",
        "nums2 = [9,4,9,8,4]\n",
        "print(intersect(nums1,nums2))"
      ],
      "metadata": {
        "colab": {
          "base_uri": "https://localhost:8080/"
        },
        "id": "LGL51hqcmpkX",
        "outputId": "dde68c17-407c-4c5f-9f49-0c1a0aabcb61"
      },
      "execution_count": 50,
      "outputs": [
        {
          "output_type": "stream",
          "name": "stdout",
          "text": [
            "[2, 2]\n",
            "[4, 9]\n"
          ]
        }
      ]
    }
  ]
}