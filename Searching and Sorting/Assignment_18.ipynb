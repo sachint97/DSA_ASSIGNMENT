{
  "nbformat": 4,
  "nbformat_minor": 0,
  "metadata": {
    "colab": {
      "provenance": [],
      "authorship_tag": "ABX9TyNxjUf9SyZ+z8I9eypZ4cYm"
    },
    "kernelspec": {
      "name": "python3",
      "display_name": "Python 3"
    },
    "language_info": {
      "name": "python"
    }
  },
  "cells": [
    {
      "cell_type": "markdown",
      "source": [
        "# <aside>\n",
        "💡 1. **Merge Intervals**\n",
        "\n",
        "Given an array of `intervals` where `intervals[i] = [starti, endi]`, merge all overlapping intervals, and return *an array of the non-overlapping intervals that cover all the intervals in the input*.\n",
        "\n",
        "**Example 1:**\n",
        "\n",
        "Input: intervals = [[1,3],[2,6],[8,10],[15,18]]\n",
        "\n",
        "Output: [[1,6],[8,10],[15,18]]\n",
        "\n",
        "Explanation: Since intervals [1,3] and [2,6] overlap, merge them into [1,6].\n",
        "\n",
        "</aside>"
      ],
      "metadata": {
        "id": "ywA_AZWcwkH4"
      }
    },
    {
      "cell_type": "code",
      "source": [
        "def merge(intervals):\n",
        "  intervals = sorted(intervals, key=lambda x: x [0])\n",
        "  ans = []\n",
        "  for interval in intervals:\n",
        "    if not ans or ans[-1][1] < interval[0]:\n",
        "      ans.append(interval)\n",
        "    else:\n",
        "      ans[-1][1] = max(ans[-1][1], interval[1])\n",
        "  return ans\n",
        "\n",
        "intervals = [[1,3],[2,6],[8,10],[15,18]]\n",
        "merge(intervals)"
      ],
      "metadata": {
        "colab": {
          "base_uri": "https://localhost:8080/"
        },
        "id": "umlN1Sqywpit",
        "outputId": "cc9e8cff-41a1-4841-e16a-148946ed2938"
      },
      "execution_count": 8,
      "outputs": [
        {
          "output_type": "execute_result",
          "data": {
            "text/plain": [
              "[[1, 6], [8, 10], [15, 18]]"
            ]
          },
          "metadata": {},
          "execution_count": 8
        }
      ]
    },
    {
      "cell_type": "markdown",
      "source": [
        "# <aside>\n",
        "💡 2. **Sort Colors**\n",
        "\n",
        "Given an array `nums` with `n` objects colored red, white, or blue, sort them **[in-place](https://en.wikipedia.org/wiki/In-place_algorithm)** so that objects of the same color are adjacent, with the colors in the order red, white, and blue.\n",
        "\n",
        "We will use the integers `0`, `1`, and `2` to represent the color red, white, and blue, respectively.\n",
        "\n",
        "You must solve this problem without using the library's sort function.\n",
        "\n",
        "**Example 1:**\n",
        "\n",
        "Input: nums = [2,0,2,1,1,0]\n",
        "\n",
        "Output: [0,0,1,1,2,2]\n",
        "\n",
        "**Example 2**:\n",
        "\n",
        "Input: nums = [2,0,1]\n",
        "\n",
        "Output: [0,1,2]\n",
        "\n",
        "</aside>"
      ],
      "metadata": {
        "id": "AfxJBjeG2C6J"
      }
    },
    {
      "cell_type": "code",
      "source": [
        "def sortColors(arr):\n",
        "  l = len(arr)\n",
        "  i=0\n",
        "  for i in range(l):\n",
        "    temp = arr[i]\n",
        "    j=i-1\n",
        "    while j>=0 and temp<=arr[j]:\n",
        "      arr[j+1]=arr[j]\n",
        "      j-=1\n",
        "    arr[j+1] = temp\n",
        "  return arr\n",
        "\n",
        "nums = [2,0,2,1,1,0]\n",
        "sortColors(nums)"
      ],
      "metadata": {
        "colab": {
          "base_uri": "https://localhost:8080/"
        },
        "id": "P6miXfOj2RRh",
        "outputId": "9e6750d1-37c4-484a-d844-f46afb36338e"
      },
      "execution_count": 9,
      "outputs": [
        {
          "output_type": "execute_result",
          "data": {
            "text/plain": [
              "[0, 0, 1, 1, 2, 2]"
            ]
          },
          "metadata": {},
          "execution_count": 9
        }
      ]
    },
    {
      "cell_type": "markdown",
      "source": [
        "# <aside>\n",
        "💡 3. **First Bad Version Solution**\n",
        "\n",
        "You are a product manager and currently leading a team to develop a new product. Unfortunately, the latest version of your product fails the quality check. Since each version is developed based on the previous version, all the versions after a bad version are also bad.\n",
        "\n",
        "Suppose you have `n` versions `[1, 2, ..., n]` and you want to find out the first bad one, which causes all the following ones to be bad.\n",
        "\n",
        "You are given an API `bool isBadVersion(version)` which returns whether `version` is bad. Implement a function to find the first bad version. You should minimize the number of calls to the API.\n",
        "\n",
        "**Example 1:**\n",
        "\n",
        "Input: n = 5, bad = 4\n",
        "\n",
        "Output: 4\n",
        "\n",
        "Explanation:\n",
        "\n",
        "call isBadVersion(3) -> false\n",
        "\n",
        "call isBadVersion(5) -> true\n",
        "\n",
        "call isBadVersion(4) -> true\n",
        "\n",
        "Then 4 is the first bad version.\n",
        "\n",
        "</aside>"
      ],
      "metadata": {
        "id": "2uhwQkd72e3I"
      }
    },
    {
      "cell_type": "code",
      "source": [
        "def isBadVersion(num):\n",
        "  if num>=4:\n",
        "    return True\n",
        "  else:\n",
        "    return False\n",
        "\n",
        "def IsBadVersion(n):\n",
        "  left,right = 0,n\n",
        "  while left < right:\n",
        "      mid = (left + right) // 2\n",
        "      if isBadVersion(mid):\n",
        "          right = mid\n",
        "      else:\n",
        "          left = mid + 1\n",
        "  return left\n",
        "\n",
        "n=5\n",
        "IsBadVersion(n)"
      ],
      "metadata": {
        "colab": {
          "base_uri": "https://localhost:8080/"
        },
        "id": "g86EWxsL2fFY",
        "outputId": "832259f1-f80c-441a-9d91-ba160e22a77b"
      },
      "execution_count": 11,
      "outputs": [
        {
          "output_type": "execute_result",
          "data": {
            "text/plain": [
              "4"
            ]
          },
          "metadata": {},
          "execution_count": 11
        }
      ]
    },
    {
      "cell_type": "markdown",
      "source": [
        "<aside>\n",
        "💡 4. **Maximum Gap**\n",
        "\n",
        "Given an integer array `nums`, return *the maximum difference between two successive elements in its sorted form*. If the array contains less than two elements, return `0`.\n",
        "\n",
        "You must write an algorithm that runs in linear time and uses linear extra space.\n",
        "\n",
        "**Example 1:**\n",
        "\n",
        "Input: nums = [3,6,9,1]\n",
        "\n",
        "Output: 3\n",
        "\n",
        "Explanation: The sorted form of the array is [1,3,6,9], either (3,6) or (6,9) has the maximum difference 3.\n",
        "\n",
        "**Example 2:**\n",
        "\n",
        "Input: nums = [10]\n",
        "\n",
        "Output: 0\n",
        "\n",
        "Explanation: The array contains less than 2 elements, therefore return 0.\n",
        "\n",
        "</aside>"
      ],
      "metadata": {
        "id": "mZFoP3rZ4-7L"
      }
    },
    {
      "cell_type": "code",
      "source": [
        "def MaxGap(nums):\n",
        "  nums.sort()\n",
        "  max,i=0,0\n",
        "  l = len(nums)\n",
        "  while i<l:\n",
        "    diff = nums[i]-nums[i-1]\n",
        "    if diff:\n",
        "      max = diff\n",
        "    i+=1\n",
        "  return max\n",
        "\n",
        "nums = [3,6,9,1]\n",
        "MaxGap(nums)"
      ],
      "metadata": {
        "colab": {
          "base_uri": "https://localhost:8080/"
        },
        "id": "9vZhnpot5AY8",
        "outputId": "18202136-73eb-427d-8a0b-8204a0ee5b05"
      },
      "execution_count": 12,
      "outputs": [
        {
          "output_type": "execute_result",
          "data": {
            "text/plain": [
              "3"
            ]
          },
          "metadata": {},
          "execution_count": 12
        }
      ]
    },
    {
      "cell_type": "markdown",
      "source": [
        "# <aside>\n",
        "💡 5. **Contains Duplicate**\n",
        "\n",
        "Given an integer array `nums`, return `true` if any value appears **at least twice** in the array, and return `false` if every element is distinct.\n",
        "\n",
        "**Example 1:**\n",
        "\n",
        "Input: nums = [1,2,3,1]\n",
        "\n",
        "Output: true\n",
        "\n",
        "**Example 2**:\n",
        "\n",
        "Input: nums = [1,2,3,4]\n",
        "\n",
        "Output: false\n",
        "\n",
        "**Example 3**:\n",
        "\n",
        "Input: nums = [1,1,1,3,3,4,3,2,4,2]\n",
        "\n",
        "Output: true\n",
        "\n",
        "\n",
        "</aside>"
      ],
      "metadata": {
        "id": "KoN-5k-emG_X"
      }
    },
    {
      "cell_type": "code",
      "execution_count": 7,
      "metadata": {
        "colab": {
          "base_uri": "https://localhost:8080/"
        },
        "id": "xIR3OkxqmBtC",
        "outputId": "525668c3-6ded-4d73-b6b6-a67c939eb639"
      },
      "outputs": [
        {
          "output_type": "execute_result",
          "data": {
            "text/plain": [
              "True"
            ]
          },
          "metadata": {},
          "execution_count": 7
        }
      ],
      "source": [
        "def ContainsDuplicate(nums):\n",
        "  s = set()\n",
        "  for i in nums:\n",
        "    if i in s:\n",
        "      return True\n",
        "    else:\n",
        "      s.add(i)\n",
        "  return False\n",
        "\n",
        "nums = [1,1,1,3,3,4,3,2,4,2]\n",
        "ContainsDuplicate(nums)"
      ]
    },
    {
      "cell_type": "markdown",
      "source": [
        "<aside>\n",
        "💡 6. **Minimum Number of Arrows to Burst Balloons**\n",
        "\n",
        "There are some spherical balloons taped onto a flat wall that represents the XY-plane. The balloons are represented as a 2D integer array `points` where `points[i] = [xstart, xend]` denotes a balloon whose **horizontal diameter** stretches between `xstart` and `xend`. You do not know the exact y-coordinates of the balloons.\n",
        "\n",
        "Arrows can be shot up **directly vertically** (in the positive y-direction) from different points along the x-axis. A balloon with `xstart` and `xend` is **burst** by an arrow shot at `x` if `xstart <= x <= xend`. There is **no limit** to the number of arrows that can be shot. A shot arrow keeps traveling up infinitely, bursting any balloons in its path.\n",
        "\n",
        "Given the array `points`, return *the **minimum** number of arrows that must be shot to burst all balloons*.\n",
        "\n",
        "**Example 1:**\n",
        "\n",
        "Input: points = [[10,16],[2,8],[1,6],[7,12]]\n",
        "\n",
        "Output: 2\n",
        "\n",
        "Explanation: The balloons can be burst by 2 arrows:\n",
        "\n",
        "- Shoot an arrow at x = 6, bursting the balloons [2,8] and [1,6].\n",
        "\n",
        "- Shoot an arrow at x = 11, bursting the balloons [10,16] and [7,12].\n",
        "\n",
        "**Example 2:**\n",
        "\n",
        "Input: points = [[1,2],[3,4],[5,6],[7,8]]\n",
        "\n",
        "Output: 4\n",
        "\n",
        "Explanation: One arrow needs to be shot for each balloon for a total of 4 arrows.\n",
        "\n",
        "\n",
        "</aside>"
      ],
      "metadata": {
        "id": "Dtk2AL3F9ATy"
      }
    },
    {
      "cell_type": "code",
      "source": [
        "def findMinArrowShots(points):\n",
        "  # sort by end point\n",
        "  points.sort(key = lambda x: x[1])\n",
        "  end = points[0][1]\n",
        "  count = 1\n",
        "  # iterate and count arrows\n",
        "  for s,e in points[1:]:\n",
        "    if s > end:\n",
        "      count += 1\n",
        "      end = e\n",
        "\n",
        "  return count\n",
        "\n",
        "points = [[1,2],[3,4],[5,6],[7,8]]\n",
        "findMinArrowShots(points)"
      ],
      "metadata": {
        "colab": {
          "base_uri": "https://localhost:8080/"
        },
        "id": "5kJnhZ7A9AzZ",
        "outputId": "e88257b1-0dbf-4a33-bce6-bc99fbd85f38"
      },
      "execution_count": 16,
      "outputs": [
        {
          "output_type": "execute_result",
          "data": {
            "text/plain": [
              "4"
            ]
          },
          "metadata": {},
          "execution_count": 16
        }
      ]
    },
    {
      "cell_type": "markdown",
      "source": [
        "<aside>\n",
        "💡 7. **Longest Increasing Subsequence**\n",
        "\n",
        "Given an integer array `nums`, return *the length of the longest **strictly increasing***\n",
        "\n",
        "***subsequence***\n",
        "\n",
        ".\n",
        "\n",
        "**Example 1:**\n",
        "\n",
        "Input: nums = [10,9,2,5,3,7,101,18]\n",
        "\n",
        "Output: 4\n",
        "\n",
        "Explanation: The longest increasing subsequence is [2,3,7,101], therefore the length is 4.\n",
        "\n",
        "</aside>"
      ],
      "metadata": {
        "id": "rrm6RDOuIQow"
      }
    },
    {
      "cell_type": "code",
      "source": [
        "def LongestIncreasingSub(nums):\n",
        "  count=0\n",
        "  l = len(nums)\n",
        "  i = 0\n",
        "  while i < l :\n",
        "    if nums[i-1]<nums[i]:\n",
        "      count+=1\n",
        "    i+=1\n",
        "  return count+1\n",
        "\n",
        "nums = [10,9,2,5,3,7,101,18]\n",
        "print(LongestIncreasingSub(nums))\n",
        "nums = [0,1,0,3,2,3]\n",
        "print(LongestIncreasingSub(nums))\n",
        "nums = [7,7,7,7,7,7,7]\n",
        "print(LongestIncreasingSub(nums))\n"
      ],
      "metadata": {
        "colab": {
          "base_uri": "https://localhost:8080/"
        },
        "id": "1pzmlAjEIQ4_",
        "outputId": "f212cf4a-8345-4eb6-9fea-2b39a99e8a9e"
      },
      "execution_count": 21,
      "outputs": [
        {
          "output_type": "stream",
          "name": "stdout",
          "text": [
            "4\n",
            "4\n",
            "1\n"
          ]
        }
      ]
    },
    {
      "cell_type": "markdown",
      "source": [
        "<aside>\n",
        "💡 8. **132 Pattern**\n",
        "\n",
        "Given an array of `n` integers `nums`, a **132 pattern** is a subsequence of three integers `nums[i]`, `nums[j]` and `nums[k]` such that `i < j < k` and `nums[i] < nums[k] < nums[j]`.\n",
        "\n",
        "Return `true` *if there is a **132 pattern** in* `nums`*, otherwise, return* `false`*.*\n",
        "\n",
        "**Example 1:**\n",
        "\n",
        "Input: nums = [1,2,3,4]\n",
        "\n",
        "Output: false\n",
        "\n",
        "Explanation: There is no 132 pattern in the sequence.\n",
        "\n",
        "</aside>"
      ],
      "metadata": {
        "id": "-MKztGDAIe13"
      }
    },
    {
      "cell_type": "code",
      "source": [
        "def find132pattern(nums):\n",
        "    n = len(nums)\n",
        "    mins = [float('inf')] * n\n",
        "    maxs = [float('-inf')] * n\n",
        "\n",
        "    # Populate the mins array\n",
        "    for i in range(1, n):\n",
        "        mins[i] = min(mins[i-1], nums[i-1])\n",
        "\n",
        "    # Iterate through nums from right to left\n",
        "    for i in range(n-2, -1, -1):\n",
        "        if nums[i] > mins[i]:\n",
        "            for j in range(n-1, i, -1):\n",
        "                if nums[j] > mins[i] and nums[j] < nums[i]:\n",
        "                    return True\n",
        "        maxs[i] = max(maxs[i+1], nums[i])\n",
        "\n",
        "    return False\n",
        "nums = [1,2,3,4]\n",
        "print(find132pattern(nums))\n"
      ],
      "metadata": {
        "colab": {
          "base_uri": "https://localhost:8080/"
        },
        "id": "K__08cLvIfVw",
        "outputId": "5bc68029-bd37-47ae-8c35-a8647246f347"
      },
      "execution_count": 34,
      "outputs": [
        {
          "output_type": "stream",
          "name": "stdout",
          "text": [
            "[inf, 1, 1, 1]\n",
            "False\n"
          ]
        }
      ]
    }
  ]
}