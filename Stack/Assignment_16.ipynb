{
  "nbformat": 4,
  "nbformat_minor": 0,
  "metadata": {
    "colab": {
      "provenance": [],
      "authorship_tag": "ABX9TyPl66bt6nrwIsJZ1HEtmBlU"
    },
    "kernelspec": {
      "name": "python3",
      "display_name": "Python 3"
    },
    "language_info": {
      "name": "python"
    }
  },
  "cells": [
    {
      "cell_type": "code",
      "source": [
        "from collections import deque"
      ],
      "metadata": {
        "id": "CTjg_bWnf2J7"
      },
      "execution_count": 12,
      "outputs": []
    },
    {
      "cell_type": "markdown",
      "source": [
        "# <aside>\n",
        "💡 **Question 1**\n",
        "\n",
        "Given an array, for each element find the value of the nearest element to the right which is having a frequency greater than that of the current element. If there does not exist an answer for a position, then make the value ‘-1’.\n",
        "\n",
        "**Examples:**\n",
        "Input: a[] = [1, 1, 2, 3, 4, 2, 1]\n",
        "Output : [-1, -1, 1, 2, 2, 1, -1]\n",
        "\n",
        "Explanation:\n",
        "Given array a[] = [1, 1, 2, 3, 4, 2, 1]\n",
        "Frequency of each element is: 3, 3, 2, 1, 1, 2, 3\n",
        "\n",
        "Lets calls Next Greater Frequency element as NGF\n",
        "1. For element a[0] = 1 which has a frequency = 3,\n",
        "   As it has frequency of 3 and no other next element\n",
        "   has frequency more than 3 so  '-1'\n",
        "2. For element a[1] = 1 it will be -1 same logic\n",
        "   like a[0]\n",
        "3. For element a[2] = 2 which has frequency = 2,\n",
        "   NGF element is 1 at position = 6  with frequency\n",
        "   of 3 > 2\n",
        "4. For element a[3] = 3 which has frequency = 1,\n",
        "   NGF element is 2 at position = 5 with frequency\n",
        "   of 2 > 1\n",
        "5. For element a[4] = 4 which has frequency = 1,\n",
        "   NGF element is 2 at position = 5 with frequency\n",
        "   of 2 > 1\n",
        "6. For element a[5] = 2 which has frequency = 2,\n",
        "   NGF element is 1 at position = 6 with frequency\n",
        "   of 3 > 2\n",
        "7. For element a[6] = 1 there is no element to its\n",
        "   right, hence -1\n",
        "</aside>"
      ],
      "metadata": {
        "id": "8ue7FW6rj0_U"
      }
    },
    {
      "cell_type": "code",
      "source": [
        "def find_nearest_element(arr):\n",
        "  frequency = {}\n",
        "  stack = []\n",
        "  l= len(arr)\n",
        "  result = [-1] * l\n",
        "\n",
        "  for i in range(l):\n",
        "    if arr[i] in frequency:\n",
        "      frequency[arr[i]] += 1\n",
        "    else:\n",
        "      frequency[arr[i]] = 1\n",
        "\n",
        "  for i in range(l-1,-1,-1):\n",
        "    while stack and frequency[arr[stack[-1]]] <= frequency[arr[i]]:\n",
        "      stack.pop()\n",
        "\n",
        "    if stack:\n",
        "      result[i] = arr[stack[-1]]\n",
        "\n",
        "    stack.append(i)\n",
        "\n",
        "  return result\n",
        "\n",
        "arr = [1, 1, 2, 3, 4, 2, 1]\n",
        "output = find_nearest_element(arr)\n",
        "print(output)\n"
      ],
      "metadata": {
        "colab": {
          "base_uri": "https://localhost:8080/"
        },
        "id": "anGEmKQlj1OU",
        "outputId": "ed4c4a66-16df-410c-d5a8-6599978d060a"
      },
      "execution_count": 13,
      "outputs": [
        {
          "output_type": "stream",
          "name": "stdout",
          "text": [
            "[-1, -1, 1, 2, 2, 1, -1]\n"
          ]
        }
      ]
    },
    {
      "cell_type": "markdown",
      "source": [
        "#<aside>\n",
        "💡 **Question 2**\n",
        "\n",
        "Given a stack of integers, sort it in ascending order using another temporary stack.\n",
        "\n",
        "**Examples:**\n",
        "\n",
        "Input : [34, 3, 31, 98, 92, 23]\n",
        "\n",
        "Output : [3, 23, 31, 34, 92, 98]\n",
        "\n",
        "Input : [3, 5, 1, 4, 2, 8]\n",
        "\n",
        "Output : [1, 2, 3, 4, 5, 8]\n",
        "</aside>"
      ],
      "metadata": {
        "id": "6dA5YT-R6nUQ"
      }
    },
    {
      "cell_type": "code",
      "source": [
        "def SortAsc(stack):\n",
        "  tempstack = deque()\n",
        "  while stack:\n",
        "    temp = stack.pop()\n",
        "    while tempstack and tempstack[-1]>temp:\n",
        "      stack.append(tempstack.pop())\n",
        "    tempstack.append(temp)\n",
        "  return tempstack\n",
        "\n",
        "arr = deque([34, 3, 31, 98, 92, 23])\n",
        "SortAsc(arr)"
      ],
      "metadata": {
        "colab": {
          "base_uri": "https://localhost:8080/"
        },
        "id": "SH_UxS1F6n7H",
        "outputId": "16d9df29-ef14-4af4-c6ef-ba9fda448fbc"
      },
      "execution_count": 14,
      "outputs": [
        {
          "output_type": "execute_result",
          "data": {
            "text/plain": [
              "deque([3, 23, 31, 34, 92, 98])"
            ]
          },
          "metadata": {},
          "execution_count": 14
        }
      ]
    },
    {
      "cell_type": "markdown",
      "source": [
        "#<aside>\n",
        "💡 **Question 3**\n",
        "\n",
        "Given a stack with **push()**, **pop()**, and **empty()** operations, The task is to delete the **middle** element ****of it without using any additional data structure.\n",
        "\n",
        "Input  : Stack[] = [1, 2, 3, 4, 5]\n",
        "\n",
        "Output : Stack[] = [1, 2, 4, 5]\n",
        "\n",
        "Input  : Stack[] = [1, 2, 3, 4, 5, 6]\n",
        "\n",
        "Output : Stack[] = [1, 2, 4, 5, 6]\n",
        "\n",
        "</aside>"
      ],
      "metadata": {
        "id": "w3W1ssksanPX"
      }
    },
    {
      "cell_type": "code",
      "source": [
        "# def length(stack):\n",
        "#   length=0\n",
        "#   temp_stack = deque()\n",
        "\n",
        "#   while stack:\n",
        "#     temp_stack.append(stack.pop())\n",
        "#     length += 1\n",
        "\n",
        "#   while temp_stack:\n",
        "#     stack.append(temp_stack.pop())\n",
        "\n",
        "#   return length\n",
        "\n",
        "def RemoveMiddle(stack):\n",
        "  n = len(stack)\n",
        "  # n = length(stack)\n",
        "  def remove(stack,n):\n",
        "    if not stack:\n",
        "      return\n",
        "\n",
        "    if n==0:\n",
        "      stack.pop()\n",
        "      return stack\n",
        "\n",
        "    top = stack.pop()\n",
        "    remove(stack,n-1)\n",
        "    stack.append(top)\n",
        "    return stack\n",
        "  return remove(stack,n//2)\n",
        "\n",
        "arr = deque([1, 2, 3, 4, 5])\n",
        "print(RemoveMiddle(arr))"
      ],
      "metadata": {
        "colab": {
          "base_uri": "https://localhost:8080/"
        },
        "id": "ptXrI7TWango",
        "outputId": "c6f92245-19aa-4f96-8e8f-1b87bced9d66"
      },
      "execution_count": 15,
      "outputs": [
        {
          "output_type": "stream",
          "name": "stdout",
          "text": [
            "deque([1, 2, 4, 5])\n"
          ]
        }
      ]
    },
    {
      "cell_type": "markdown",
      "source": [
        "# <aside>\n",
        "💡 **Question 4**\n",
        "\n",
        "Given a Queue consisting of first **n** natural numbers (in random order). The task is to check whether the given Queue elements can be arranged in increasing order in another Queue using a stack. The operation allowed are:\n",
        "\n",
        "1. Push and pop elements from the stack\n",
        "2. Pop (Or Dequeue) from the given Queue.\n",
        "3. Push (Or Enqueue) in the another Queue.\n",
        "\n",
        "**Examples :**\n",
        "\n",
        "Input : Queue[] = { 5, 1, 2, 3, 4 }\n",
        "\n",
        "Output : Yes\n",
        "\n",
        "Pop the first element of the given Queue\n",
        "\n",
        "i.e 5. Push 5 into the stack.\n",
        "\n",
        "Now, pop all the elements of the given Queue and push them to second Queue.\n",
        "\n",
        "Now, pop element 5 in the stack and push it to the second Queue.\n",
        "\n",
        "Input : Queue[] = { 5, 1, 2, 6, 3, 4 }\n",
        "\n",
        "Output : No\n",
        "\n",
        "Push 5 to stack.\n",
        "\n",
        "Pop 1, 2 from given Queue and push it to another Queue.\n",
        "\n",
        "Pop 6 from given Queue and push to stack.\n",
        "\n",
        "Pop 3, 4 from given Queue and push to second Queue.\n",
        "\n",
        "Now, from using any of above operation, we cannot push 5 into the second Queue because it is below the 6 in the stack.\n",
        "\n",
        "</aside>"
      ],
      "metadata": {
        "id": "k4vZ0M-QqpdU"
      }
    },
    {
      "cell_type": "code",
      "source": [],
      "metadata": {
        "id": "nyjUnLnkqpsM"
      },
      "execution_count": 15,
      "outputs": []
    },
    {
      "cell_type": "markdown",
      "source": [
        "#<aside>\n",
        "💡 **Question 5**\n",
        "\n",
        "Given a number , write a program to reverse this number using stack.\n",
        "\n",
        "**Examples:**\n",
        "\n",
        "Input : 365\n",
        "\n",
        "Output : 563\n",
        "\n",
        "Input : 6899\n",
        "\n",
        "Output : 9986\n",
        "</aside>"
      ],
      "metadata": {
        "id": "uRo9i-_M4Y3t"
      }
    },
    {
      "cell_type": "code",
      "execution_count": 16,
      "metadata": {
        "colab": {
          "base_uri": "https://localhost:8080/"
        },
        "id": "Sq0DcGLW34ye",
        "outputId": "23fb6f1c-6f7f-4b46-e9cf-e1d1f013780e"
      },
      "outputs": [
        {
          "output_type": "stream",
          "name": "stdout",
          "text": [
            "Input :  365\n",
            "Output :  563\n",
            "Input :  6899\n",
            "Output :  9986\n"
          ]
        }
      ],
      "source": [
        "\n",
        "def ReverseNumber(N):\n",
        "  stack = deque()\n",
        "  rev = 0\n",
        "  while N:\n",
        "    stack.append(N%10)\n",
        "    N = N//10\n",
        "    rev = 10*rev+stack.pop()\n",
        "  return rev\n",
        "\n",
        "N = 365\n",
        "print(\"Input : \", N)\n",
        "print(\"Output : \", ReverseNumber(N))\n",
        "N = 6899\n",
        "print(\"Input : \", N)\n",
        "print(\"Output : \", ReverseNumber(N))"
      ]
    },
    {
      "cell_type": "markdown",
      "source": [
        "# <aside>\n",
        "💡 **Question 6**\n",
        "\n",
        "Given an integer k and a **[queue](https://www.geeksforgeeks.org/queue-data-structure/)** of integers, The task is to reverse the order of the first **k** elements of the queue, leaving the other elements in the same relative order.\n",
        "\n",
        "Only following standard operations are allowed on queue.\n",
        "\n",
        "- **enqueue(x) :** Add an item x to rear of queue\n",
        "- **dequeue() :** Remove an item from front of queue\n",
        "- **size() :** Returns number of elements in queue.\n",
        "- **front() :** Finds front item.\n",
        "</aside>"
      ],
      "metadata": {
        "id": "mJAFjGuWr8H5"
      }
    },
    {
      "cell_type": "code",
      "source": [
        "def reverse_first_k(q, k):\n",
        "    solve(q, k)\n",
        "    s = len(q) - k\n",
        "    for _ in range(s):\n",
        "        x = q.popleft()\n",
        "        q.append(x)\n",
        "    return q\n",
        "\n",
        "def solve(q, k):\n",
        "    if k == 0:\n",
        "        return\n",
        "    e = q.popleft()\n",
        "    solve(q, k - 1)\n",
        "    q.append(e)\n",
        "\n",
        "\n",
        "queue = deque([10, 20, 30, 40, 50, 60, 70, 80, 90, 100])\n",
        "k = 5\n",
        "queue = reverse_first_k(queue, k)\n",
        "print(queue)"
      ],
      "metadata": {
        "colab": {
          "base_uri": "https://localhost:8080/"
        },
        "id": "ggNvPZbLr8TR",
        "outputId": "5622d50a-5979-45a6-9d4c-f98b96dae830"
      },
      "execution_count": 22,
      "outputs": [
        {
          "output_type": "stream",
          "name": "stdout",
          "text": [
            "deque([50, 40, 30, 20, 10, 60, 70, 80, 90, 100])\n"
          ]
        }
      ]
    },
    {
      "cell_type": "markdown",
      "source": [
        "#<aside>\n",
        "💡 **Question 7**\n",
        "\n",
        "Given a sequence of n strings, the task is to check if any two similar words come together and then destroy each other then print the number of words left in the sequence after this pairwise destruction.\n",
        "\n",
        "**Examples:**\n",
        "\n",
        "Input : ab aa aa bcd ab\n",
        "\n",
        "Output : 3\n",
        "\n",
        "*As aa, aa destroys each other so,*\n",
        "\n",
        "*ab bcd ab is the new sequence.*\n",
        "\n",
        "Input :  tom jerry jerry tom\n",
        "\n",
        "Output : 0\n",
        "\n",
        "*As first both jerry will destroy each other.*\n",
        "\n",
        "*Then sequence will be tom, tom they will also destroy*\n",
        "\n",
        "*each other. So, the final sequence doesn’t contain any*\n",
        "\n",
        "*word.*\n",
        "\n",
        "</aside>"
      ],
      "metadata": {
        "id": "EKzhYtd2j01o"
      }
    },
    {
      "cell_type": "code",
      "source": [
        "def RemoveDupilicates(s):\n",
        "  arr = s.split(' ')\n",
        "  stack = deque()\n",
        "  for i,ele in enumerate(arr):\n",
        "    if not stack or ele != stack[-1]:\n",
        "      stack.append(ele)\n",
        "    else:\n",
        "      stack.pop()\n",
        "  return len(stack)\n",
        "\n",
        "st='ab aa aa bcd ab'\n",
        "print(RemoveDupilicates(st))\n",
        "st1='tom jerry jerry tom'\n",
        "print(RemoveDupilicates(st1))\n"
      ],
      "metadata": {
        "colab": {
          "base_uri": "https://localhost:8080/"
        },
        "id": "YixTHLDwj1Hv",
        "outputId": "fce73c27-5b73-4c5e-e463-2a4b7045c8eb"
      },
      "execution_count": 23,
      "outputs": [
        {
          "output_type": "stream",
          "name": "stdout",
          "text": [
            "3\n",
            "0\n"
          ]
        }
      ]
    },
    {
      "cell_type": "markdown",
      "source": [
        "# <aside>\n",
        "💡 **Question 8**\n",
        "\n",
        "Given an array of integers, the task is to find the maximum absolute difference between the nearest left and the right smaller element of every element in the array.\n",
        "\n",
        "**Note:** If there is no smaller element on right side or left side of any element then we take zero as the smaller element. For example for the leftmost element, the nearest smaller element on the left side is considered as 0. Similarly, for rightmost elements, the smaller element on the right side is considered as 0.\n",
        "\n",
        "**Examples:**\n",
        "\n",
        "Input : arr[] = {2, 1, 8}\n",
        "\n",
        "Output : 1\n",
        "\n",
        "Left smaller  LS[] {0, 0, 1}\n",
        "\n",
        "Right smaller RS[] {1, 0, 0}\n",
        "\n",
        "Maximum Diff of abs(LS[i] - RS[i]) = 1\n",
        "\n",
        "\n",
        "Input  : arr[] = {2, 4, 8, 7, 7, 9, 3}\n",
        "\n",
        "Output : 4\n",
        "\n",
        "Left smaller   LS[] = {0, 2, 4, 4, 4, 7, 2}\n",
        "\n",
        "Right smaller  RS[] = {0, 3, 7, 3, 3, 3, 0}\n",
        "\n",
        "Maximum Diff of abs(LS[i] - RS[i]) = 7 - 3 = 4\n",
        "\n",
        "Input : arr[] = {5, 1, 9, 2, 5, 1, 7}\n",
        "\n",
        "Output : 1\n",
        "\n",
        "</aside>"
      ],
      "metadata": {
        "id": "Y-JVTBzktE4v"
      }
    },
    {
      "cell_type": "code",
      "source": [
        "def MaxAbsDiff(arr):\n",
        "  l = len(arr)\n",
        "  ls = deque()\n",
        "  r_ls = [0]*l\n",
        "  rs = deque()\n",
        "  r_rs = [0]*l\n",
        "  for i in range(l):\n",
        "    while ls and ls[-1]>=arr[i]:\n",
        "      ls.pop()\n",
        "    if ls:\n",
        "      r_ls[i] = ls[-1]\n",
        "\n",
        "    ls.append(arr[i])\n",
        "\n",
        "  for j in range(l-1,-1,-1):\n",
        "    while rs and rs[-1]>=arr[j]:\n",
        "      rs.pop()\n",
        "    if rs:\n",
        "      r_rs[j] = rs[-1]\n",
        "\n",
        "    rs.append(arr[j])\n",
        "\n",
        "  return max([abs(r_ls[i]-r_rs[i]) for i in range(l)])\n",
        "\n",
        "\n",
        "arr = [2, 4, 8, 7, 7, 9, 3]\n",
        "print(MaxAbsDiff(arr))\n",
        "arr1 = [5, 1, 9, 2, 5, 1, 7]\n",
        "print(MaxAbsDiff(arr1))"
      ],
      "metadata": {
        "colab": {
          "base_uri": "https://localhost:8080/"
        },
        "id": "Tc8JQUnztCQ8",
        "outputId": "ce406542-05ca-4195-cbf6-d25c9152e116"
      },
      "execution_count": 54,
      "outputs": [
        {
          "output_type": "stream",
          "name": "stdout",
          "text": [
            "4\n",
            "1\n"
          ]
        }
      ]
    },
    {
      "cell_type": "code",
      "source": [],
      "metadata": {
        "id": "zAk5rxjjw-vc"
      },
      "execution_count": null,
      "outputs": []
    }
  ]
}