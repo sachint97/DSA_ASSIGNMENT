{
  "nbformat": 4,
  "nbformat_minor": 0,
  "metadata": {
    "colab": {
      "provenance": [],
      "authorship_tag": "ABX9TyPTVhgs86a81MXesdkhGqzJ"
    },
    "kernelspec": {
      "name": "python3",
      "display_name": "Python 3"
    },
    "language_info": {
      "name": "python"
    }
  },
  "cells": [
    {
      "cell_type": "markdown",
      "source": [
        "#<aside>\n",
        "💡 **Question 1**\n",
        "\n",
        "Given an array **arr[ ]** of size **N** having elements, the task is to find the next greater element for each element of the array in order of their appearance in the array.Next greater element of an element in the array is the nearest element on the right which is greater than the current element.If there does not exist next greater of current element, then next greater element for current element is -1. For example, next greater of the last element is always -1.\n",
        "\n",
        "**Example 1:**\n",
        "\n",
        "Input:\n",
        "N = 4, arr = [1 3 2 4]\n",
        "\n",
        "Output:\n",
        "3 4 4 -1\n",
        "\n",
        "Explanation:\n",
        "\n",
        "In the array, the next larger element\n",
        "to 1 is 3 , 3 is 4 , 2 is 4 and for 4 ?\n",
        "since it doesn't exist, it is -1.\n",
        "\n",
        "</aside>"
      ],
      "metadata": {
        "id": "asV8VHu3LbzY"
      }
    },
    {
      "cell_type": "code",
      "execution_count": null,
      "metadata": {
        "colab": {
          "base_uri": "https://localhost:8080/"
        },
        "id": "QYSQ2TklLWYk",
        "outputId": "9882b11f-9ea8-4040-c019-2f1e9d6e4be4"
      },
      "outputs": [
        {
          "output_type": "stream",
          "name": "stdout",
          "text": [
            "------------------------------------\n",
            "Test case 1\n",
            "Input:\n",
            "N =  4\n",
            "arr =  [1, 3, 2, 4]\n",
            "Output:\n",
            "[3, 4, 4, -1]\n",
            "------------------------------------\n",
            "Test case 2\n",
            "Input:\n",
            "N =  5\n",
            "arr =  [6, 8, 0, 1, 3]\n",
            "Output:\n",
            "[8, -1, 1, 3, -1]\n",
            "------------------------------------\n"
          ]
        }
      ],
      "source": [
        "def NextGreaterEle(arr,N):\n",
        "  stack = []\n",
        "  result = [-1] * (N)\n",
        "  stack.append(0)\n",
        "  for i in range(1,N):\n",
        "    while stack:\n",
        "      if arr[i]>arr[stack[-1]]:\n",
        "        result[stack.pop()]=arr[i]\n",
        "      else:\n",
        "        break\n",
        "    stack.append(i)\n",
        "\n",
        "  return result\n",
        "\n",
        "\n",
        "N = 4\n",
        "arr = [1,3,2,4]\n",
        "print('-'*36)\n",
        "print('Test case 1')\n",
        "print('Input:')\n",
        "print('N = ',N)\n",
        "print('arr = ',arr)\n",
        "print('Output:')\n",
        "print(NextGreaterEle(arr,N))\n",
        "print('-'*36)\n",
        "N = 5\n",
        "arr= [6, 8, 0, 1, 3]\n",
        "print('Test case 2')\n",
        "print('Input:')\n",
        "print('N = ',N)\n",
        "print('arr = ',arr)\n",
        "print('Output:')\n",
        "print(NextGreaterEle(arr,N))\n",
        "print('-'*36)"
      ]
    },
    {
      "cell_type": "markdown",
      "source": [
        "#<aside>\n",
        "💡 **Question 2**\n",
        "\n",
        "Given an array **a** of integers of length **n**, find the nearest smaller number for every element such that the smaller element is on left side.If no small element present on the left print -1.\n",
        "\n",
        "**Example 1:**\n",
        "Input: n = 3\n",
        "\n",
        "a = {1, 6, 2}\n",
        "\n",
        "Output: -1 1 1\n",
        "\n",
        "Explaination: There is no number at the\n",
        "left of 1. Smaller number than 6 and 2 is 1.\n",
        "</aside>"
      ],
      "metadata": {
        "id": "hXyCkVx9ZqtQ"
      }
    },
    {
      "cell_type": "code",
      "source": [
        "def NearestSmaller(arr,N):\n",
        "  stack = []\n",
        "  result = [-1]*N\n",
        "  stack.append(0)\n",
        "  for i in range(1,N):\n",
        "    j=i\n",
        "    while j>0:\n",
        "      if arr[stack[-1]]<arr[i]:\n",
        "        result[i]=arr[stack[-1]]\n",
        "      else:\n",
        "        stack.pop()\n",
        "      j-=1\n",
        "    stack.append(i)\n",
        "  return result\n",
        "\n",
        "N = 3\n",
        "arr = [1,6,2]\n",
        "print('-'*36)\n",
        "print('Test case 1')\n",
        "print('Input:')\n",
        "print('N = ',N)\n",
        "print('arr = ',arr)\n",
        "print('Output:')\n",
        "print(NearestSmaller(arr,N))\n",
        "print('-'*36)\n",
        "N = 6\n",
        "arr= [1, 5, 0, 3, 4, 5]\n",
        "print('Test case 2')\n",
        "print('Input:')\n",
        "print('N = ',N)\n",
        "print('arr = ',arr)\n",
        "print('Output:')\n",
        "print(NearestSmaller(arr,N))\n",
        "print('-'*36)"
      ],
      "metadata": {
        "colab": {
          "base_uri": "https://localhost:8080/"
        },
        "id": "MGN57gzYZq2r",
        "outputId": "2b9b171a-36ae-4855-ac75-3df625fbd1de"
      },
      "execution_count": null,
      "outputs": [
        {
          "output_type": "stream",
          "name": "stdout",
          "text": [
            "------------------------------------\n",
            "Test case 1\n",
            "Input:\n",
            "N =  3\n",
            "arr =  [1, 6, 2]\n",
            "Output:\n",
            "[-1, 1, 1]\n",
            "------------------------------------\n",
            "Test case 2\n",
            "Input:\n",
            "N =  6\n",
            "arr =  [1, 5, 0, 3, 4, 5]\n",
            "Output:\n",
            "[-1, 1, -1, 0, 3, 4]\n",
            "------------------------------------\n"
          ]
        }
      ]
    },
    {
      "cell_type": "markdown",
      "source": [
        "\n",
        "#<aside>\n",
        "💡 **Question 3**\n",
        "\n",
        "Implement a Stack using two queues **q1** and **q2**.\n",
        "\n",
        "**Example 1:**\n",
        "Input:\n",
        "push(2)\n",
        "push(3)\n",
        "pop()\n",
        "push(4)\n",
        "pop()\n",
        "Output:3 4\n",
        "Explanation:\n",
        "push(2) the stack will be {2}\n",
        "push(3) the stack will be {2 3}\n",
        "pop()   poped element will be 3 the\n",
        "        stack will be {2}\n",
        "push(4) the stack will be {2 4}\n",
        "pop()   poped element will be 4\n",
        "\n",
        "</aside>\n",
        "\n"
      ],
      "metadata": {
        "id": "AcqEvhLLuXsv"
      }
    },
    {
      "cell_type": "code",
      "source": [
        "from collections import deque\n",
        "class MyStack:\n",
        "\n",
        "  def __init__(self):\n",
        "    self.queue1 = deque()\n",
        "    self.queue2 = deque()\n",
        "\n",
        "  def push(self, x: int) -> None:\n",
        "    self.queue1.append(x)\n",
        "\n",
        "  def pop(self) -> int:\n",
        "    self.flush()\n",
        "    val =  self.queue1.pop()\n",
        "    self.swap()\n",
        "    return val\n",
        "\n",
        "  def top(self) -> int:\n",
        "    self.flush()\n",
        "    return self.queue1[0]\n",
        "\n",
        "  def flush(self):\n",
        "    while len(self.queue1)>1:\n",
        "        self.queue2.append(self.queue1.popleft())\n",
        "\n",
        "  def swap(self):\n",
        "    self.queue1 , self.queue2 = self.queue2 , self.queue1\n",
        "\n",
        "  def empty(self) -> bool:\n",
        "    return True if len(self.queue1)==0 else False\n",
        "\n",
        "myStack = MyStack()\n",
        "myStack.push(2)\n",
        "myStack.push(3)\n",
        "print(myStack.pop())\n",
        "print(myStack.pop())\n",
        "print(myStack.empty())\n"
      ],
      "metadata": {
        "id": "w7WKwPYMLbXf",
        "colab": {
          "base_uri": "https://localhost:8080/"
        },
        "outputId": "2e75fed1-8b6d-4d92-e7bf-1eef252229fe"
      },
      "execution_count": null,
      "outputs": [
        {
          "output_type": "stream",
          "name": "stdout",
          "text": [
            "3\n",
            "2\n",
            "True\n"
          ]
        }
      ]
    },
    {
      "cell_type": "markdown",
      "source": [
        "#<aside>\n",
        "💡 **Question 4**\n",
        "\n",
        "You are given a stack **St**. You have to reverse the stack using recursion.\n",
        "\n",
        "**Example 1:**\n",
        "\n",
        "Input:St = {3,2,1,7,6}\n",
        "\n",
        "Output:{6,7,1,2,3}\n",
        "</aside>"
      ],
      "metadata": {
        "id": "y9CMX3t20x-o"
      }
    },
    {
      "cell_type": "code",
      "source": [
        "\n",
        "from collections import deque\n",
        "\n",
        "\n",
        "# Recursive function to insert an item at the bottom of a given stack\n",
        "def insertAtBottom(s, item):\n",
        "\n",
        "    # base case: if the stack is empty, insert the given item at the bottom\n",
        "    if not s:\n",
        "        s.append(item)\n",
        "        return\n",
        "\n",
        "    # Pop all items from the stack and hold them in the call stack\n",
        "    top = s.pop()\n",
        "    insertAtBottom(s, item)\n",
        "\n",
        "    # After the recursion unfolds, push each item in the call stack\n",
        "    # at the top of the stack\n",
        "    s.append(top)\n",
        "\n",
        "\n",
        "# Recursive function to reverse a given stack\n",
        "def reverseStack(s):\n",
        "\n",
        "    # base case: stack is empty\n",
        "    if not s:\n",
        "        return\n",
        "\n",
        "    # Pop all items from the stack and hold them in the call stack\n",
        "    item = s.pop()\n",
        "    reverseStack(s)\n",
        "\n",
        "    # After the recursion unfolds, insert each item in the call stack\n",
        "    # at the bottom of the stack\n",
        "    insertAtBottom(s, item)\n",
        "\n",
        "\n",
        "s = deque(range(1, 6))\n",
        "print('Original stack is', s)\n",
        "reverseStack(s)\n",
        "print('Reversed stack is', s)"
      ],
      "metadata": {
        "colab": {
          "base_uri": "https://localhost:8080/"
        },
        "id": "ISMsP_-d0yL6",
        "outputId": "6f9c41cd-57e8-4282-9d33-700a9ba20490"
      },
      "execution_count": null,
      "outputs": [
        {
          "output_type": "stream",
          "name": "stdout",
          "text": [
            "Original stack is deque([1, 2, 3, 4, 5])\n",
            "Reversed stack is deque([5, 4, 3, 2, 1])\n"
          ]
        }
      ]
    },
    {
      "cell_type": "markdown",
      "source": [
        "<aside>\n",
        "💡 **Question 5**\n",
        "\n",
        "You are given a string **S**, the task is to reverse the string using stack.\n",
        "\n",
        "**Example 1:**\n",
        "\n",
        "Input: S=\"GeeksforGeeks\"\n",
        "\n",
        "Output: skeeGrofskeeG\n",
        "</aside>"
      ],
      "metadata": {
        "id": "1H0WV5cwzR1l"
      }
    },
    {
      "cell_type": "code",
      "source": [
        "from collections import deque\n",
        "def ReverseUsingStack(s):\n",
        "  stack = deque()\n",
        "  for i in s:\n",
        "    stack.append(i)\n",
        "  def reverse(stack):\n",
        "    if len(stack)==0:\n",
        "      return ''\n",
        "    return stack.pop()+reverse(stack)\n",
        "\n",
        "  return reverse(stack)\n",
        "\n",
        "S=\"GeeksforGeeks\"\n",
        "ReverseUsingStack(S)\n",
        "\n"
      ],
      "metadata": {
        "colab": {
          "base_uri": "https://localhost:8080/",
          "height": 35
        },
        "id": "5G7Zz4RazMKY",
        "outputId": "5b1f52e0-dd03-4af1-8f99-69988c67a0ac"
      },
      "execution_count": null,
      "outputs": [
        {
          "output_type": "execute_result",
          "data": {
            "text/plain": [
              "'skeeGrofskeeG'"
            ],
            "application/vnd.google.colaboratory.intrinsic+json": {
              "type": "string"
            }
          },
          "metadata": {},
          "execution_count": 5
        }
      ]
    },
    {
      "cell_type": "markdown",
      "source": [
        "#<aside>\n",
        "💡 **Question 6**\n",
        "\n",
        "Given string **S** representing a postfix expression, the task is to evaluate the expression and find the final value. Operators will only include the basic arithmetic operators like ***, /, + and -**.\n",
        "\n",
        "**Example 1:**\n",
        "Input: S = \"231*+9-\"\n",
        "Output: -4\n",
        "Explanation:\n",
        "After solving the given expression,\n",
        "we have -4 as result.\n",
        "\n",
        "\n",
        "</aside>"
      ],
      "metadata": {
        "id": "sVnFOLrA4r1M"
      }
    },
    {
      "cell_type": "code",
      "source": [
        "def evaluate_postfix(expression):\n",
        "  stack = []\n",
        "\n",
        "  for char in expression:\n",
        "    if char.isdigit():\n",
        "      stack.append(int(char))\n",
        "    else:\n",
        "      operand2 = stack.pop()\n",
        "      operand1 = stack.pop()\n",
        "\n",
        "      if char == '*':\n",
        "          result = operand1 * operand2\n",
        "      elif char == '/':\n",
        "          result = operand1 / operand2\n",
        "      elif char == '+':\n",
        "          result = operand1 + operand2\n",
        "      elif char == '-':\n",
        "          result = operand1 - operand2\n",
        "\n",
        "      stack.append(result)\n",
        "\n",
        "  return stack.pop()\n",
        "\n",
        "postfix_expression = \"231*+9-\"\n",
        "result = evaluate_postfix(postfix_expression)\n",
        "print(\"Result:\", result)\n"
      ],
      "metadata": {
        "id": "Limy_z344sFW",
        "colab": {
          "base_uri": "https://localhost:8080/"
        },
        "outputId": "3009447b-08ad-47d9-8c8d-813ec117acf2"
      },
      "execution_count": 3,
      "outputs": [
        {
          "output_type": "stream",
          "name": "stdout",
          "text": [
            "Result: -4\n"
          ]
        }
      ]
    },
    {
      "cell_type": "markdown",
      "source": [
        "#<aside>\n",
        "💡 **Question 7**\n",
        "\n",
        "Design a stack that supports push, pop, top, and retrieving the minimum element in constant time.\n",
        "\n",
        "Implement the `MinStack` class:\n",
        "\n",
        "- `MinStack()` initializes the stack object.\n",
        "- `void push(int val)` pushes the element `val` onto the stack.\n",
        "- `void pop()` removes the element on the top of the stack.\n",
        "- `int top()` gets the top element of the stack.\n",
        "- `int getMin()` retrieves the minimum element in the stack.\n",
        "\n",
        "You must implement a solution with `O(1)` time complexity for each function.\n",
        "\n",
        "**Example 1:**\n",
        "Input\n",
        "[\"MinStack\",\"push\",\"push\",\"push\",\"getMin\",\"pop\",\"top\",\"getMin\"]\n",
        "[[],[-2],[0],[-3],[],[],[],[]]\n",
        "\n",
        "Output\n",
        "[null,null,null,null,-3,null,0,-2]\n",
        "\n",
        "Explanation\n",
        "MinStack minStack = new MinStack();\n",
        "minStack.push(-2);\n",
        "minStack.push(0);\n",
        "minStack.push(-3);\n",
        "minStack.getMin(); // return -3\n",
        "minStack.pop();\n",
        "minStack.top();    // return 0\n",
        "minStack.getMin(); // return -2\n",
        "\n",
        "</aside>"
      ],
      "metadata": {
        "id": "GTScbIa27_cQ"
      }
    },
    {
      "cell_type": "code",
      "source": [
        "class MinStack:\n",
        "\n",
        "  def __init__(self):\n",
        "    self.stack = []\n",
        "    self.min = [float('inf')]\n",
        "\n",
        "  def push(self, val: int) -> None:\n",
        "    self.stack.append(val)\n",
        "    if val <= self.min[-1]:\n",
        "        self.min.append(val)\n",
        "\n",
        "  def pop(self) -> None:\n",
        "    val = self.stack.pop()\n",
        "    if val == self.min[-1]:\n",
        "        self.min.pop()\n",
        "\n",
        "  def top(self) -> int:\n",
        "    return self.stack[-1]\n",
        "\n",
        "  def getMin(self) -> int:\n",
        "    if self.min[-1] == float('inf'):\n",
        "        return 0\n",
        "    else:\n",
        "        return self.min[-1]\n",
        "\n",
        "stack = MinStack()\n",
        "stack.push(-1)\n",
        "stack.push(0)\n",
        "stack.push(2)\n",
        "stack.push(-3)\n",
        "stack.getMin()"
      ],
      "metadata": {
        "colab": {
          "base_uri": "https://localhost:8080/"
        },
        "id": "KqTRfXtM7_tE",
        "outputId": "edcfd45e-ad2d-4b4f-d334-131c8ab9653d"
      },
      "execution_count": null,
      "outputs": [
        {
          "output_type": "execute_result",
          "data": {
            "text/plain": [
              "-3"
            ]
          },
          "metadata": {},
          "execution_count": 9
        }
      ]
    },
    {
      "cell_type": "markdown",
      "source": [
        "# <aside>\n",
        "💡 **Question 8**\n",
        "\n",
        "Given `n` non-negative integers representing an elevation map where the width of each bar is `1`, compute how much water it can trap after raining.\n",
        "\n",
        "**Example 1:**\n",
        "<img src=\"https://pwskills.notion.site/image/https%3A%2F%2Fassets.leetcode.com%2Fuploads%2F2018%2F10%2F22%2Frainwatertrap.png?id=f0b192f5-9efa-4339-a63f-1a3a18daea19&table=block&spaceId=6fae2e0f-dedc-48e9-bc59-af2654c78209&width=820&userId=&cache=v2\" >\n",
        "\n",
        "Input: height = [0,1,0,2,1,0,1,3,2,1,2,1]\n",
        "\n",
        "Output: 6\n",
        "\n",
        "Explanation: The above elevation map (black section) is represented by array [0,1,0,2,1,0,1,3,2,1,2,1]. In this case, 6 units of rain water (blue section) are being trapped.\n",
        "</aside>"
      ],
      "metadata": {
        "id": "TTKALo8Nl_Ud"
      }
    },
    {
      "cell_type": "code",
      "source": [
        "def trap(height):\n",
        "  n = len(height)\n",
        "  stack = []\n",
        "  water_trapped = 0\n",
        "\n",
        "  for i in range(n):\n",
        "      while stack and height[i] > height[stack[-1]]:\n",
        "          top = stack.pop()\n",
        "          if not stack:\n",
        "              break\n",
        "          distance = i - stack[-1] - 1\n",
        "          bounded_height = min(height[i], height[stack[-1]]) - height[top]\n",
        "          water_trapped += distance * bounded_height\n",
        "\n",
        "      stack.append(i)\n",
        "\n",
        "  return water_trapped\n",
        "\n",
        "height = [0,1,0,2,1,0,1,3,2,1,2,1]\n",
        "trap(height)"
      ],
      "metadata": {
        "id": "CodT5sLfATEw",
        "colab": {
          "base_uri": "https://localhost:8080/"
        },
        "outputId": "7c3c7870-2796-41d1-90d9-4d174bb771f3"
      },
      "execution_count": 2,
      "outputs": [
        {
          "output_type": "execute_result",
          "data": {
            "text/plain": [
              "6"
            ]
          },
          "metadata": {},
          "execution_count": 2
        }
      ]
    }
  ]
}