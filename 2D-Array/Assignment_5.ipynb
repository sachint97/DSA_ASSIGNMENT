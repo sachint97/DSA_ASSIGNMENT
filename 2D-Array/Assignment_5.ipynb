{
  "nbformat": 4,
  "nbformat_minor": 0,
  "metadata": {
    "colab": {
      "provenance": [],
      "authorship_tag": "ABX9TyO7FPmGBIryhjk6sKRn2sPz"
    },
    "kernelspec": {
      "name": "python3",
      "display_name": "Python 3"
    },
    "language_info": {
      "name": "python"
    }
  },
  "cells": [
    {
      "cell_type": "markdown",
      "source": [
        "# <aside>\n",
        "💡**Question 1**\n",
        "\n",
        "Convert 1D Array Into 2D Array\n",
        "\n",
        "You are given a **0-indexed** 1-dimensional (1D) integer array original, and two integers, m and n. You are tasked with creating a 2-dimensional (2D) array with  m rows and n columns using **all** the elements from original.\n",
        "\n",
        "The elements from indices 0 to n - 1 (**inclusive**) of original should form the first row of the constructed 2D array, the elements from indices n to 2 * n - 1 (**inclusive**) should form the second row of the constructed 2D array, and so on.\n",
        "\n",
        "Return *an* m x n *2D array constructed according to the above procedure, or an empty 2D array if it is impossible*.\n",
        "\n",
        "</aside>"
      ],
      "metadata": {
        "id": "JpAWSyc3Zixi"
      }
    },
    {
      "cell_type": "code",
      "execution_count": null,
      "metadata": {
        "colab": {
          "base_uri": "https://localhost:8080/"
        },
        "id": "L20ebcXQZZ6K",
        "outputId": "da715a11-4150-41d5-8632-c22d864216e2"
      },
      "outputs": [
        {
          "output_type": "execute_result",
          "data": {
            "text/plain": [
              "[[1, 2], [3, 4]]"
            ]
          },
          "metadata": {},
          "execution_count": 1
        }
      ],
      "source": [
        "def construct2DArray(original,m,n):\n",
        "  ans = []\n",
        "  if len(original) == m*n: \n",
        "    for i in range(0, len(original), n): \n",
        "      ans.append(original[i:i+n])\n",
        "  return ans \n",
        "\n",
        "arr=[1,2,3,4]\n",
        "m,n=2,2\n",
        "construct2DArray(arr,m,n)"
      ]
    },
    {
      "cell_type": "markdown",
      "source": [
        "#<aside>\n",
        "💡 **Question 2**\n",
        "\n",
        "You have n coins and you want to build a staircase with these coins. The staircase consists of k rows where the ith row has exactly i coins. The last row of the staircase **may be** incomplete.\n",
        "\n",
        "Given the integer n, return *the number of **complete rows** of the staircase you will build*.\n",
        "\n",
        "</aside>"
      ],
      "metadata": {
        "id": "gG-T9oGsi8rF"
      }
    },
    {
      "cell_type": "code",
      "source": [
        "def countStairs(n):\n",
        "  i=1\n",
        "  count=0\n",
        "  while n>=0:\n",
        "      n = n-i\n",
        "      i+=1\n",
        "      count+=1\n",
        "  return count-1\n",
        "\n",
        "print(countStairs(5))"
      ],
      "metadata": {
        "colab": {
          "base_uri": "https://localhost:8080/"
        },
        "id": "oGRU2TMni9EB",
        "outputId": "2de7ffb7-2a57-4780-b38e-05d301818404"
      },
      "execution_count": null,
      "outputs": [
        {
          "output_type": "stream",
          "name": "stdout",
          "text": [
            "2\n"
          ]
        }
      ]
    },
    {
      "cell_type": "markdown",
      "source": [
        "# <aside>\n",
        "💡 **Question 3**\n",
        "\n",
        "Given an integer array nums sorted in **non-decreasing** order, return *an array of **the squares of each number** sorted in non-decreasing order*.\n",
        "\n",
        "**Example 1:**\n",
        "\n",
        "**Input:** nums = [-4,-1,0,3,10]\n",
        "\n",
        "**Output:** [0,1,9,16,100]\n",
        "\n",
        "**Explanation:** After squaring, the array becomes [16,1,0,9,100].\n",
        "\n",
        "After sorting, it becomes [0,1,9,16,100].\n",
        "\n",
        "</aside>"
      ],
      "metadata": {
        "id": "vBAlIMj_nAf0"
      }
    },
    {
      "cell_type": "code",
      "source": [
        "def squareNumber(nums):\n",
        "  l = len(nums)\n",
        "  arr = [0]*l\n",
        "  i = l-1\n",
        "  left = 0\n",
        "  right = l-1\n",
        "  while i>=0:\n",
        "    if abs(nums[left])>abs(nums[right]):\n",
        "      arr[i] = nums[left]**2\n",
        "      left +=1\n",
        "    else:\n",
        "      arr[i] = nums[right]**2\n",
        "      right -=1\n",
        "    i-=1\n",
        "  return arr\n",
        "\n",
        "nums = [-4,-1,0,3,10]\n",
        "squareNumber(nums)"
      ],
      "metadata": {
        "id": "orst66E8nA0W",
        "colab": {
          "base_uri": "https://localhost:8080/"
        },
        "outputId": "b9718dd7-f407-4691-cb42-b8a3aa152210"
      },
      "execution_count": 5,
      "outputs": [
        {
          "output_type": "execute_result",
          "data": {
            "text/plain": [
              "[0, 1, 9, 16, 100]"
            ]
          },
          "metadata": {},
          "execution_count": 5
        }
      ]
    },
    {
      "cell_type": "markdown",
      "source": [
        "#<aside>\n",
        "💡 **Question 4**\n",
        "\n",
        "Given two **0-indexed** integer arrays nums1 and nums2, return *a list* answer *of size* 2 *where:*\n",
        "\n",
        "- answer[0] *is a list of all **distinct** integers in* nums1 *which are **not** present in* nums2*.*\n",
        "- answer[1] *is a list of all **distinct** integers in* nums2 *which are **not** present in* nums1.\n",
        "\n",
        "**Note** that the integers in the lists may be returned in **any** order.\n",
        "\n",
        "**Example 1:**\n",
        "\n",
        "**Input:** nums1 = [1,2,3], nums2 = [2,4,6]\n",
        "\n",
        "**Output:** [[1,3],[4,6]]\n",
        "\n",
        "**Explanation:**\n",
        "\n",
        "For nums1, nums1[1] = 2 is present at index 0 of nums2, whereas nums1[0] = 1 and nums1[2] = 3 are not present in nums2. Therefore, answer[0] = [1,3].\n",
        "\n",
        "For nums2, nums2[0] = 2 is present at index 1 of nums1, whereas nums2[1] = 4 and nums2[2] = 6 are not present in nums2. Therefore, answer[1] = [4,6].\n",
        "\n",
        "</aside>"
      ],
      "metadata": {
        "id": "XXJNXODopZWF"
      }
    },
    {
      "cell_type": "code",
      "source": [
        "def distinct_nums(nums1,nums2):\n",
        "  set_nums1 = set(nums1)\n",
        "  set_nums2 = set(nums2)\n",
        "  uni_nums1 = set_nums1-set_nums2\n",
        "  uni_nums2 = set_nums2-set_nums1\n",
        "  return [list(uni_nums1),list(uni_nums2)]\n",
        "\n",
        "nums1 = [1,2,3]\n",
        "nums2 = [2,4,6]\n",
        "distinct_nums(nums1,nums2)"
      ],
      "metadata": {
        "id": "0m1mISLqpZrj",
        "colab": {
          "base_uri": "https://localhost:8080/"
        },
        "outputId": "612bd479-847a-455c-f309-0890c1af5e26"
      },
      "execution_count": 6,
      "outputs": [
        {
          "output_type": "execute_result",
          "data": {
            "text/plain": [
              "[[1, 3], [4, 6]]"
            ]
          },
          "metadata": {},
          "execution_count": 6
        }
      ]
    },
    {
      "cell_type": "markdown",
      "source": [
        "<aside>\n",
        "💡 **Question 5**\n",
        "\n",
        "Given two integer arrays arr1 and arr2, and the integer d, *return the distance value between the two arrays*.\n",
        "\n",
        "The distance value is defined as the number of elements arr1[i] such that there is not any element arr2[j] where |arr1[i]-arr2[j]| <= d.\n",
        "\n",
        "**Example 1:**\n",
        "\n",
        "**Input:** arr1 = [4,5,8], arr2 = [10,9,1,8], d = 2\n",
        "\n",
        "**Output:** 2\n",
        "\n",
        "**Explanation:**\n",
        "\n",
        "For arr1[0]=4 we have:\n",
        "\n",
        "|4-10|=6 > d=2\n",
        "\n",
        "|4-9|=5 > d=2\n",
        "\n",
        "|4-1|=3 > d=2\n",
        "\n",
        "|4-8|=4 > d=2\n",
        "\n",
        "For arr1[1]=5 we have:\n",
        "\n",
        "|5-10|=5 > d=2\n",
        "\n",
        "|5-9|=4 > d=2\n",
        "\n",
        "|5-1|=4 > d=2\n",
        "\n",
        "|5-8|=3 > d=2\n",
        "\n",
        "For arr1[2]=8 we have:\n",
        "\n",
        "**|8-10|=2 <= d=2**\n",
        "\n",
        "**|8-9|=1 <= d=2**\n",
        "\n",
        "|8-1|=7 > d=2\n",
        "\n",
        "**|8-8|=0 <= d=2**\n",
        "\n",
        "</aside>"
      ],
      "metadata": {
        "id": "B4CAJgYPpmwB"
      }
    },
    {
      "cell_type": "code",
      "source": [],
      "metadata": {
        "id": "-oEcSuqGpm_M"
      },
      "execution_count": null,
      "outputs": []
    },
    {
      "cell_type": "markdown",
      "source": [
        "#<aside>\n",
        "💡 **Question 6**\n",
        "\n",
        "Given an integer array nums of length n where all the integers of nums are in the range [1, n] and each integer appears **once** or **twice**, return *an array of all the integers that appears **twice***.\n",
        "\n",
        "You must write an algorithm that runs in O(n) time and uses only constant extra space.\n",
        "\n",
        "**Example 1:**\n",
        "\n",
        "**Input:** nums = [4,3,2,7,8,2,3,1]\n",
        "\n",
        "**Output:**\n",
        "\n",
        "[2,3]\n",
        "\n",
        "</aside>"
      ],
      "metadata": {
        "id": "gOUzsHKDpt3r"
      }
    },
    {
      "cell_type": "code",
      "source": [
        "def findDuplicates(nums):\n",
        "  d=dict()\n",
        "  arr=[]\n",
        "  for i in nums:\n",
        "    if d.get(i,None):\n",
        "      d[i]+=1\n",
        "    else:\n",
        "      d[i]=1\n",
        "  for k,v in d.items():\n",
        "    if v==2:\n",
        "      arr.append(k)\n",
        "  return arr\n",
        "nums = [4,3,2,7,8,2,3,1]\n",
        "findDuplicates(nums)"
      ],
      "metadata": {
        "id": "Bl8PnT0npueE",
        "colab": {
          "base_uri": "https://localhost:8080/"
        },
        "outputId": "47cfaec9-f850-4274-84d9-143ede9d81a1"
      },
      "execution_count": 7,
      "outputs": [
        {
          "output_type": "execute_result",
          "data": {
            "text/plain": [
              "[3, 2]"
            ]
          },
          "metadata": {},
          "execution_count": 7
        }
      ]
    },
    {
      "cell_type": "markdown",
      "source": [
        "#<aside>\n",
        "💡 **Question 7**\n",
        "\n",
        "Suppose an array of length n sorted in ascending order is **rotated** between 1 and n times. For example, the array nums = [0,1,2,4,5,6,7] might become:\n",
        "\n",
        "- [4,5,6,7,0,1,2] if it was rotated 4 times.\n",
        "- [0,1,2,4,5,6,7] if it was rotated 7 times.\n",
        "\n",
        "Notice that **rotating** an array [a[0], a[1], a[2], ..., a[n-1]] 1 time results in the array [a[n-1], a[0], a[1], a[2], ..., a[n-2]].\n",
        "\n",
        "Given the sorted rotated array nums of **unique** elements, return *the minimum element of this array*.\n",
        "\n",
        "You must write an algorithm that runs in O(log n) time.\n",
        "\n",
        "**Example 1:**\n",
        "\n",
        "**Input:** nums = [3,4,5,1,2]\n",
        "\n",
        "**Output:** 1\n",
        "\n",
        "**Explanation:**\n",
        "\n",
        "The original array was [1,2,3,4,5] rotated 3 times.\n",
        "\n",
        "</aside>"
      ],
      "metadata": {
        "id": "TmBitoMOp5fq"
      }
    },
    {
      "cell_type": "code",
      "source": [
        "def findMin(nums):\n",
        "  l = len(nums)\n",
        "  i=0\n",
        "  if l==1:\n",
        "    return nums[0] \n",
        "  while(i<l):\n",
        "    if nums[i+1]>nums[i]:\n",
        "      i+=1\n",
        "    else:\n",
        "      return nums[i+1]\n",
        "    if i==l-1:\n",
        "      return nums[0]\n",
        "\n",
        "nums = [3,4,5,1,2]\n",
        "findMin(nums)"
      ],
      "metadata": {
        "id": "_cNT4AIFp5vT",
        "colab": {
          "base_uri": "https://localhost:8080/"
        },
        "outputId": "1673ebea-1abd-423b-d49a-c5a503dbc87e"
      },
      "execution_count": 8,
      "outputs": [
        {
          "output_type": "execute_result",
          "data": {
            "text/plain": [
              "1"
            ]
          },
          "metadata": {},
          "execution_count": 8
        }
      ]
    },
    {
      "cell_type": "markdown",
      "source": [
        "#<aside>\n",
        "💡 **Question 8**\n",
        "\n",
        "An integer array original is transformed into a **doubled** array changed by appending **twice the value** of every element in original, and then randomly **shuffling** the resulting array.\n",
        "\n",
        "Given an array changed, return original *if* changed *is a **doubled** array. If* changed *is not a **doubled** array, return an empty array. The elements in* original *may be returned in **any** order*.\n",
        "\n",
        "**Example 1:**\n",
        "\n",
        "**Input:** changed = [1,3,4,2,6,8]\n",
        "\n",
        "**Output:** [1,3,4]\n",
        "\n",
        "**Explanation:** One possible original array could be [1,3,4]:\n",
        "\n",
        "- Twice the value of 1 is 1 * 2 = 2.\n",
        "- Twice the value of 3 is 3 * 2 = 6.\n",
        "- Twice the value of 4 is 4 * 2 = 8.\n",
        "\n",
        "Other original arrays could be [4,3,1] or [3,1,4].\n",
        "\n",
        "</aside>"
      ],
      "metadata": {
        "id": "ubwuaXfPqEN6"
      }
    },
    {
      "cell_type": "code",
      "source": [
        "from collections import Counter\n",
        "def findOriginalArray(changed):\n",
        "  cnt, ans = Counter(changed), []\n",
        "  if len(changed) % 2: return []\n",
        "  for x in sorted(cnt.keys()):\n",
        "    if cnt[x] > cnt[x * 2]: return []\n",
        "    if x == 0:\n",
        "      if cnt[x] % 2:\n",
        "          return []\n",
        "      else: \n",
        "          ans += [0] * (cnt[x] // 2)\n",
        "    else:\n",
        "      ans += [x] * cnt[x]\n",
        "    cnt[2 * x] -= cnt[x]\n",
        "  return ans\n",
        "\n",
        "changed = [1,3,4,2,6,8]\n",
        "findOriginalArray(changed)"
      ],
      "metadata": {
        "id": "GzADE_KWqEd4",
        "colab": {
          "base_uri": "https://localhost:8080/"
        },
        "outputId": "9570508d-2a53-41fc-cb3b-c0762b1e8c9d"
      },
      "execution_count": 10,
      "outputs": [
        {
          "output_type": "execute_result",
          "data": {
            "text/plain": [
              "[1, 3, 4]"
            ]
          },
          "metadata": {},
          "execution_count": 10
        }
      ]
    }
  ]
}