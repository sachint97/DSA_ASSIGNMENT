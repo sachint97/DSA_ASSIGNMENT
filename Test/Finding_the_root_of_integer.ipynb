{
  "nbformat": 4,
  "nbformat_minor": 0,
  "metadata": {
    "colab": {
      "provenance": [],
      "authorship_tag": "ABX9TyNQF/vuADNTm3lpYlV55qde",
      "include_colab_link": true
    },
    "kernelspec": {
      "name": "python3",
      "display_name": "Python 3"
    },
    "language_info": {
      "name": "python"
    }
  },
  "cells": [
    {
      "cell_type": "markdown",
      "metadata": {
        "id": "view-in-github",
        "colab_type": "text"
      },
      "source": [
        "<a href=\"https://colab.research.google.com/github/sachint97/DSA_ASSIGNMENT/blob/main/Test/Finding_the_root_of_integer.ipynb\" target=\"_parent\"><img src=\"https://colab.research.google.com/assets/colab-badge.svg\" alt=\"Open In Colab\"/></a>"
      ]
    },
    {
      "cell_type": "markdown",
      "source": [
        "#Q1 . Given a non-negative integer x, return the square root of x rounded down to the nearest integer. The returned integer should be non-negative as well. You must not use any built-in exponent function or operator."
      ],
      "metadata": {
        "id": "fAGS28lzOxpz"
      }
    },
    {
      "cell_type": "code",
      "execution_count": 2,
      "metadata": {
        "colab": {
          "base_uri": "https://localhost:8080/"
        },
        "id": "JoWgiN5xOC1e",
        "outputId": "4ac5fd8b-61e5-4486-ca22-713312cde066"
      },
      "outputs": [
        {
          "output_type": "stream",
          "name": "stdout",
          "text": [
            "2\n",
            "2\n"
          ]
        }
      ],
      "source": [
        "def mySqrt(x):\n",
        "  if x == 0:\n",
        "    return 0\n",
        "  first, last = 1, x\n",
        "  while first <= last:\n",
        "    mid = first + (last - first) // 2\n",
        "    if mid == x // mid:\n",
        "      return mid\n",
        "    elif mid > x // mid:\n",
        "      last = mid - 1\n",
        "    else:\n",
        "      first = mid + 1\n",
        "  return last\n",
        "\n",
        "\n",
        "N = 4\n",
        "print(mySqrt(N))\n",
        "N=8\n",
        "print(mySqrt(N))"
      ]
    },
    {
      "cell_type": "code",
      "source": [],
      "metadata": {
        "id": "WkJUOxIWPYcz"
      },
      "execution_count": null,
      "outputs": []
    }
  ]
}