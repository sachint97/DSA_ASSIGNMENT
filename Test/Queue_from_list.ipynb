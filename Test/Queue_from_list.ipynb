{
  "nbformat": 4,
  "nbformat_minor": 0,
  "metadata": {
    "colab": {
      "provenance": [],
      "authorship_tag": "ABX9TyNs8HBjXnbI0l0poKxUeqdc"
    },
    "kernelspec": {
      "name": "python3",
      "display_name": "Python 3"
    },
    "language_info": {
      "name": "python"
    }
  },
  "cells": [
    {
      "cell_type": "markdown",
      "source": [
        "# Implement a queue using a list in Python. Include the necessary methods such as enqueue, dequeue, and isEmpty."
      ],
      "metadata": {
        "id": "aRZWB-UgncGN"
      }
    },
    {
      "cell_type": "code",
      "execution_count": 5,
      "metadata": {
        "colab": {
          "base_uri": "https://localhost:8080/"
        },
        "id": "3PEB_BZ1nYjO",
        "outputId": "28295b1f-1ea4-4e2d-8997-e6adf4af517b"
      },
      "outputs": [
        {
          "output_type": "stream",
          "name": "stdout",
          "text": [
            "[1]\n",
            "[2, 1]\n",
            "[3, 2, 1]\n",
            "3\n",
            "2\n",
            "False\n",
            "1\n",
            "True\n"
          ]
        }
      ],
      "source": [
        "class Queue:\n",
        "\n",
        "  def __init__(self):\n",
        "    self.queue = []\n",
        "    self.length = 0\n",
        "\n",
        "  def enqueue(self,num):\n",
        "    self.queue.insert(0,num)\n",
        "    self.length += 1\n",
        "    return self.queue\n",
        "\n",
        "  def dequeue(self):\n",
        "    if self.length == 0:\n",
        "      raise Exception('Queue is empty.')\n",
        "    else:\n",
        "      val = self.queue.pop(0)\n",
        "      self.length -= 1\n",
        "      return val\n",
        "\n",
        "  def isEmpty(self):\n",
        "    return self.length == 0\n",
        "\n",
        "\n",
        "myQueue = Queue()\n",
        "print(myQueue.enqueue(1))\n",
        "print(myQueue.enqueue(2))\n",
        "print(myQueue.enqueue(3))\n",
        "print(myQueue.dequeue())\n",
        "print(myQueue.dequeue())\n",
        "print(myQueue.isEmpty())\n",
        "print(myQueue.dequeue())\n",
        "print(myQueue.isEmpty())\n"
      ]
    },
    {
      "cell_type": "code",
      "source": [],
      "metadata": {
        "id": "vYeCiN4QtoOj"
      },
      "execution_count": null,
      "outputs": []
    }
  ]
}