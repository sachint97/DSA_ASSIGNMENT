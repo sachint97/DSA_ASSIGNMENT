{
  "nbformat": 4,
  "nbformat_minor": 0,
  "metadata": {
    "colab": {
      "provenance": [],
      "authorship_tag": "ABX9TyPgi0SIuDcy7p5mnFCRJFtO",
      "include_colab_link": true
    },
    "kernelspec": {
      "name": "python3",
      "display_name": "Python 3"
    },
    "language_info": {
      "name": "python"
    }
  },
  "cells": [
    {
      "cell_type": "markdown",
      "metadata": {
        "id": "view-in-github",
        "colab_type": "text"
      },
      "source": [
        "<a href=\"https://colab.research.google.com/github/sachint97/DSA_ASSIGNMENT/blob/main/Test/Sum_of_two_linked_list.ipynb\" target=\"_parent\"><img src=\"https://colab.research.google.com/assets/colab-badge.svg\" alt=\"Open In Colab\"/></a>"
      ]
    },
    {
      "cell_type": "code",
      "source": [
        "# Definition for singly-linked list.\n",
        "class ListNode:\n",
        "    def __init__(self, val=0, next=None):\n",
        "        self.val = val\n",
        "        self.next = next\n",
        "\n",
        "def lst2link(lst):\n",
        "    cur = dummy = ListNode(0)\n",
        "    for e in lst:\n",
        "        cur.next = ListNode(e)\n",
        "        cur = cur.next\n",
        "    return dummy.next\n",
        "\n",
        "def display(linked_list):\n",
        "  while(linked_list):\n",
        "    print(linked_list.val,end='->')\n",
        "    linked_list=linked_list.next\n",
        "  print('None')"
      ],
      "metadata": {
        "id": "5Tb2rFvwfgEC"
      },
      "execution_count": 1,
      "outputs": []
    },
    {
      "cell_type": "markdown",
      "source": [
        "You are given two non-empty linked lists representing two non-negative integers. The digits are stored in reverse order, and each of their nodes contains a single digit. Add the two numbers and return the sum as a linked list. You may assume the two numbers do not contain any leading zero, except the number 0 itself."
      ],
      "metadata": {
        "id": "8ZSyLHOefAbn"
      }
    },
    {
      "cell_type": "code",
      "execution_count": 3,
      "metadata": {
        "colab": {
          "base_uri": "https://localhost:8080/"
        },
        "id": "_dG4czI8e4eW",
        "outputId": "3bd4174d-e052-4dad-ea72-693ef164b666"
      },
      "outputs": [
        {
          "output_type": "stream",
          "name": "stdout",
          "text": [
            "9->9->9->9->9->9->9->None\n",
            "9->9->9->9->None\n",
            "8->9->9->9->0->0->0->1->None\n"
          ]
        }
      ],
      "source": [
        "def addTwoNumbers(l1, l2):\n",
        "  head = ListNode()\n",
        "  current = head\n",
        "  carry = 0\n",
        "  while (l1 != None or l2 != None or carry != 0):\n",
        "    l1_value = l1.val if l1 else 0\n",
        "    l2_value = l2.val if l2 else 0\n",
        "    total = l1_value + l2_value + carry\n",
        "    current.next = ListNode(total % 10)\n",
        "    carry = total // 10\n",
        "    l1 = l1.next if l1 else None\n",
        "    l2 = l2.next if l2 else None\n",
        "    current = current.next\n",
        "  return head.next\n",
        "\n",
        "arr1 = [9,9,9,9,9,9,9]\n",
        "arr2 = [9,9,9,9]\n",
        "l1 = lst2link(arr1)\n",
        "l2 = lst2link(arr2)\n",
        "display(l1)\n",
        "display(l2)\n",
        "sum_of_nums = addTwoNumbers(l1,l2)\n",
        "display(sum_of_nums)"
      ]
    }
  ]
}