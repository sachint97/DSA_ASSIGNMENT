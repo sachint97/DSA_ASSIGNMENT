{
  "nbformat": 4,
  "nbformat_minor": 0,
  "metadata": {
    "colab": {
      "provenance": [],
      "authorship_tag": "ABX9TyPg3iiE2a/WPfPKu5hBqWZG"
    },
    "kernelspec": {
      "name": "python3",
      "display_name": "Python 3"
    },
    "language_info": {
      "name": "python"
    }
  },
  "cells": [
    {
      "cell_type": "markdown",
      "source": [
        "# Implement a stack using a list in Python. Include the necessary methods such as push, pop, and isEmpty."
      ],
      "metadata": {
        "id": "QuPJNTyPjQXi"
      }
    },
    {
      "cell_type": "code",
      "execution_count": 4,
      "metadata": {
        "colab": {
          "base_uri": "https://localhost:8080/"
        },
        "id": "oq9lJd3zjPwT",
        "outputId": "f96d5336-fecd-4575-8fee-7145dd0f46b7"
      },
      "outputs": [
        {
          "output_type": "stream",
          "name": "stdout",
          "text": [
            "[1]\n",
            "[1, 2]\n",
            "[1, 2, 3]\n",
            "3\n",
            "2\n",
            "False\n",
            "1\n"
          ]
        },
        {
          "output_type": "execute_result",
          "data": {
            "text/plain": [
              "True"
            ]
          },
          "metadata": {},
          "execution_count": 4
        }
      ],
      "source": [
        "class Stack:\n",
        "\n",
        "  def __init__(self):\n",
        "    self.stack = []\n",
        "    self.length = 0\n",
        "\n",
        "  def push(self,num):\n",
        "    self.stack.append(num)\n",
        "    self.length += 1\n",
        "\n",
        "    return self.stack\n",
        "\n",
        "  def pop(self):\n",
        "    if self.isEmpty():\n",
        "      raise Exception(\"Popping from an empty stack\")\n",
        "    else:\n",
        "      val = self.stack.pop()\n",
        "      self.length -= 1\n",
        "\n",
        "      return val\n",
        "\n",
        "  def isEmpty(self):\n",
        "    return self.length == 0\n",
        "\n",
        "\n",
        "myStack = Stack()\n",
        "print(myStack.push(1))\n",
        "print(myStack.push(2))\n",
        "print(myStack.push(3))\n",
        "print(myStack.pop())\n",
        "print(myStack.pop())\n",
        "print(myStack.isEmpty())\n",
        "print(myStack.pop())\n",
        "myStack.isEmpty()"
      ]
    }
  ]
}