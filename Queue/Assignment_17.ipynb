{
  "nbformat": 4,
  "nbformat_minor": 0,
  "metadata": {
    "colab": {
      "provenance": [],
      "authorship_tag": "ABX9TyPZFNyzTzEllHVoQeSiZ8Qh",
      "include_colab_link": true
    },
    "kernelspec": {
      "name": "python3",
      "display_name": "Python 3"
    },
    "language_info": {
      "name": "python"
    }
  },
  "cells": [
    {
      "cell_type": "markdown",
      "metadata": {
        "id": "view-in-github",
        "colab_type": "text"
      },
      "source": [
        "<a href=\"https://colab.research.google.com/github/sachint97/DSA_ASSIGNMENT/blob/main/Queue/Assignment_17.ipynb\" target=\"_parent\"><img src=\"https://colab.research.google.com/assets/colab-badge.svg\" alt=\"Open In Colab\"/></a>"
      ]
    },
    {
      "cell_type": "code",
      "source": [
        "from collections import deque"
      ],
      "metadata": {
        "id": "CGlrsfSXXkKt"
      },
      "execution_count": null,
      "outputs": []
    },
    {
      "cell_type": "markdown",
      "source": [
        "#<aside>\n",
        "💡 **Question 1**\n",
        "\n",
        "Given a string `s`, *find the first non-repeating character in it and return its index*. If it does not exist, return `-1`.\n",
        "\n",
        "**Example 1:**\n",
        "\n",
        "Input: s = \"leetcode\"\n",
        "\n",
        "Output: 0\n",
        "\n",
        "**Example 2:**\n",
        "\n",
        "Input: s = \"loveleetcode\"\n",
        "\n",
        "Output: 2\n",
        "\n",
        "**Example 3:**\n",
        "\n",
        "Input: s = \"aabb\"\n",
        "\n",
        "Output: -1\n",
        "\n",
        "</aside>"
      ],
      "metadata": {
        "id": "1VJRNsfrWn3I"
      }
    },
    {
      "cell_type": "code",
      "execution_count": null,
      "metadata": {
        "colab": {
          "base_uri": "https://localhost:8080/"
        },
        "id": "0d8oX0zkTsXJ",
        "outputId": "c09dc152-ecf6-4b09-8281-b0cff1e529e1"
      },
      "outputs": [
        {
          "output_type": "stream",
          "name": "stdout",
          "text": [
            "0\n",
            "2\n",
            "-1\n"
          ]
        }
      ],
      "source": [
        "def FirstNonRepeating(s):\n",
        "  d = dict()\n",
        "  for char in s:\n",
        "    if d.get(char,False):\n",
        "      d[char]+=1\n",
        "    else:\n",
        "      d[char]=1\n",
        "  i=0\n",
        "  l = len(s)\n",
        "  while i<l:\n",
        "    if d[s[i]]==1:\n",
        "      return i\n",
        "    else:\n",
        "      i+=1\n",
        "  return -1\n",
        "\n",
        "s = \"leetcode\"\n",
        "print(FirstNonRepeating(s))\n",
        "s1 = \"loveleetcode\"\n",
        "print(FirstNonRepeating(s1))\n",
        "s3 = \"aabb\"\n",
        "print(FirstNonRepeating(s3))"
      ]
    },
    {
      "cell_type": "markdown",
      "source": [
        "<aside>\n",
        "💡 **Question 2**\n",
        "\n",
        "Given a **circular integer array** `nums` of length `n`, return *the maximum possible sum of a non-empty **subarray** of* `nums`.\n",
        "\n",
        "A **circular array** means the end of the array connects to the beginning of the array. Formally, the next element of `nums[i]` is `nums[(i + 1) % n]` and the previous element of `nums[i]` is `nums[(i - 1 + n) % n]`.\n",
        "\n",
        "A **subarray** may only include each element of the fixed buffer `nums` at most once. Formally, for a subarray `nums[i], nums[i + 1], ..., nums[j]`, there does not exist `i <= k1`, `k2 <= j` with `k1 % n == k2 % n`.\n",
        "\n",
        "**Example 1:**\n",
        "\n",
        "Input: nums = [1,-2,3,-2]\n",
        "\n",
        "Output: 3\n",
        "\n",
        "Explanation: Subarray [3] has maximum sum 3.\n",
        "\n",
        "**Example 2:**\n",
        "\n",
        "Input: nums = [5,-3,5]\n",
        "\n",
        "Output: 10\n",
        "\n",
        "Explanation: Subarray [5,5] has maximum sum 5 + 5 = 10.\n",
        "\n",
        "\n",
        "</aside>"
      ],
      "metadata": {
        "id": "rOI1_N69deRI"
      }
    },
    {
      "cell_type": "code",
      "source": [
        "def maxSubarraySumCircular(nums):\n",
        "  def kadane(arr):\n",
        "    max_sum = float('-inf')\n",
        "    curr_sum = 0\n",
        "\n",
        "    for num in arr:\n",
        "      curr_sum = max(num, curr_sum + num)\n",
        "      max_sum = max(max_sum, curr_sum)\n",
        "\n",
        "    return max_sum\n",
        "\n",
        "  linear_max_sum = kadane(nums)\n",
        "  total_sum = sum(nums)\n",
        "  circular_max_sum = total_sum + kadane([-num for num in nums])\n",
        "\n",
        "  if circular_max_sum == 0:\n",
        "    return linear_max_sum\n",
        "\n",
        "  return max(linear_max_sum, circular_max_sum)\n",
        "\n",
        "nums = [1,-2,3,-2]\n",
        "maxSubarraySumCircular(nums)"
      ],
      "metadata": {
        "colab": {
          "base_uri": "https://localhost:8080/"
        },
        "id": "oPk6ip9ddehO",
        "outputId": "f4dfae90-1fbc-4b0a-8126-1d8c0fcafa95"
      },
      "execution_count": null,
      "outputs": [
        {
          "output_type": "execute_result",
          "data": {
            "text/plain": [
              "3"
            ]
          },
          "metadata": {},
          "execution_count": 9
        }
      ]
    },
    {
      "cell_type": "markdown",
      "source": [
        "<aside>\n",
        "💡 **Question 3**\n",
        "\n",
        "The school cafeteria offers circular and square sandwiches at lunch break, referred to by numbers `0` and `1` respectively. All students stand in a queue. Each student either prefers square or circular sandwiches.\n",
        "\n",
        "The number of sandwiches in the cafeteria is equal to the number of students. The sandwiches are placed in a **stack**. At each step:\n",
        "\n",
        "- If the student at the front of the queue **prefers** the sandwich on the top of the stack, they will **take it** and leave the queue.\n",
        "- Otherwise, they will **leave it** and go to the queue's end.\n",
        "\n",
        "This continues until none of the queue students want to take the top sandwich and are thus unable to eat.\n",
        "\n",
        "You are given two integer arrays `students` and `sandwiches` where `sandwiches[i]` is the type of the `ith` sandwich in the stack (`i = 0` is the top of the stack) and `students[j]` is the preference of the `jth` student in the initial queue (`j = 0` is the front of the queue). Return *the number of students that are unable to eat.*\n",
        "\n",
        "**Example 1:**\n",
        "\n",
        "Input: students = [1,1,0,0], sandwiches = [0,1,0,1]\n",
        "\n",
        "Output: 0\n",
        "\n",
        "Explanation:\n",
        "- Front student leaves the top sandwich and returns to the end of the line making students = [1,0,0,1].\n",
        "- Front student leaves the top sandwich and returns to the end of the line making students = [0,0,1,1].\n",
        "- Front student takes the top sandwich and leaves the line making students = [0,1,1] and sandwiches = [1,0,1].\n",
        "- Front student leaves the top sandwich and returns to the end of the line making students = [1,1,0].\n",
        "- Front student takes the top sandwich and leaves the line making students = [1,0] and sandwiches = [0,1].\n",
        "- Front student leaves the top sandwich and returns to the end of the line making students = [0,1].\n",
        "- Front student takes the top sandwich and leaves the line making students = [1] and sandwiches = [1].\n",
        "- Front student takes the top sandwich and leaves the line making students = [] and sandwiches = [].\n",
        "Hence all students are able to eat.\n",
        "\n",
        "</aside>"
      ],
      "metadata": {
        "id": "zXl3tlFxe7tr"
      }
    },
    {
      "cell_type": "code",
      "source": [
        "def Cafeteria(students,sandwiches):\n",
        "  count = 0\n",
        "  while len(students) > count:\n",
        "    if students[0] == sandwiches[0]:\n",
        "      sandwiches.pop(0)\n",
        "      count = 0\n",
        "    else:\n",
        "      students.append(students[0])\n",
        "      count+=1\n",
        "\n",
        "    students.pop(0)\n",
        "  return len(students)\n",
        "\n",
        "students = [1,1,0,0]\n",
        "sandwiches = [0,1,0,1]\n",
        "Cafeteria(students,sandwiches)"
      ],
      "metadata": {
        "colab": {
          "base_uri": "https://localhost:8080/"
        },
        "id": "K62cAxIwdenP",
        "outputId": "ff49ec5c-8bb1-4886-b5ee-abb5410b60d7"
      },
      "execution_count": null,
      "outputs": [
        {
          "output_type": "execute_result",
          "data": {
            "text/plain": [
              "0"
            ]
          },
          "metadata": {},
          "execution_count": 5
        }
      ]
    },
    {
      "cell_type": "markdown",
      "source": [
        "# <aside>\n",
        "💡 **Question 4**\n",
        "\n",
        "You have a `RecentCounter` class which counts the number of recent requests within a certain time frame.\n",
        "\n",
        "Implement the `RecentCounter` class:\n",
        "\n",
        "- `RecentCounter()` Initializes the counter with zero recent requests.\n",
        "- `int ping(int t)` Adds a new request at time `t`, where `t` represents some time in milliseconds, and returns the number of requests that has happened in the past `3000` milliseconds (including the new request). Specifically, return the number of requests that have happened in the inclusive range `[t - 3000, t]`.\n",
        "\n",
        "It is **guaranteed** that every call to `ping` uses a strictly larger value of `t` than the previous call.\n",
        "\n",
        "**Example 1:**\n",
        "\n",
        "Input\n",
        "\n",
        "[\"RecentCounter\", \"ping\", \"ping\", \"ping\", \"ping\"]\n",
        "[[], [1], [100], [3001], [3002]]\n",
        "\n",
        "Output\n",
        "\n",
        "[null, 1, 2, 3, 3]\n",
        "\n",
        "Explanation\n",
        "RecentCounter recentCounter = new RecentCounter();\n",
        "recentCounter.ping(1);     // requests = [1], range is [-2999,1], return 1\n",
        "recentCounter.ping(100);   // requests = [1,100], range is [-2900,100], return 2\n",
        "recentCounter.ping(3001);  // requests = [1,100,3001], range is [1,3001], return 3\n",
        "recentCounter.ping(3002);  // requests = [1,100,3001,3002], range is [2,3002], return 3\n",
        "</aside>"
      ],
      "metadata": {
        "id": "J9lhDinafCFi"
      }
    },
    {
      "cell_type": "code",
      "source": [
        "from collections import deque\n",
        "class RecentCounter:\n",
        "  def __init__(self):\n",
        "    self.q = deque()\n",
        "  def ping(self, t: int) -> int:\n",
        "    self.q.append(t)\n",
        "    rg = [t-3000 , t]\n",
        "    while True:\n",
        "      if rg[0]>self.q[0]:\n",
        "        self.q.popleft()\n",
        "      else:\n",
        "        return len(self.q)\n",
        "\n",
        "obj = RecentCounter()\n",
        "par1 = obj.ping(1)\n",
        "par2 = obj.ping(100)\n",
        "par3 = obj.ping(3001)\n",
        "par4 = obj.ping(3002)\n",
        "print([None,par1,par2,par3,par4])\n"
      ],
      "metadata": {
        "colab": {
          "base_uri": "https://localhost:8080/"
        },
        "id": "KjksomdVfJ6Q",
        "outputId": "d7b8146f-d5d9-462d-c1d1-f5f4ce79b8f3"
      },
      "execution_count": null,
      "outputs": [
        {
          "output_type": "stream",
          "name": "stdout",
          "text": [
            "[None, 1, 2, 3, 3]\n"
          ]
        }
      ]
    },
    {
      "cell_type": "markdown",
      "source": [
        "<aside>\n",
        "💡 **Question 5**\n",
        "\n",
        "There are `n` friends that are playing a game. The friends are sitting in a circle and are numbered from `1` to `n` in **clockwise order**. More formally, moving clockwise from the `ith` friend brings you to the `(i+1)th` friend for `1 <= i < n`, and moving clockwise from the `nth` friend brings you to the `1st` friend.\n",
        "\n",
        "The rules of the game are as follows:\n",
        "\n",
        "1. **Start** at the `1st` friend.\n",
        "2. Count the next `k` friends in the clockwise direction **including** the friend you started at. The counting wraps around the circle and may count some friends more than once.\n",
        "3. The last friend you counted leaves the circle and loses the game.\n",
        "4. If there is still more than one friend in the circle, go back to step `2` **starting** from the friend **immediately clockwise** of the friend who just lost and repeat.\n",
        "5. Else, the last friend in the circle wins the game.\n",
        "\n",
        "Given the number of friends, `n`, and an integer `k`, return *the winner of the game*.\n",
        "\n",
        "**Example 1:**\n",
        "<img src=\"https://pwskills.notion.site/image/https%3A%2F%2Fassets.leetcode.com%2Fuploads%2F2021%2F03%2F25%2Fic234-q2-ex11.png?id=9068de64-0d37-4886-8923-96261f825bd5&table=block&spaceId=6fae2e0f-dedc-48e9-bc59-af2654c78209&width=1000&userId=&cache=v2\">\n",
        "Input: n = 5, k = 2\n",
        "\n",
        "Output: 3\n",
        "\n",
        "Explanation: Here are the steps of the game:\n",
        "\n",
        "1) Start at friend 1.\n",
        "\n",
        "2) Count 2 friends clockwise, which are friends 1 and 2.\n",
        "\n",
        "3) Friend 2 leaves the circle. Next start is friend 3.\n",
        "\n",
        "4) Count 2 friends clockwise, which are friends 3 and 4.\n",
        "\n",
        "5) Friend 4 leaves the circle. Next start is friend 5.\n",
        "\n",
        "6) Count 2 friends clockwise, which are friends 5 and 1.\n",
        "\n",
        "7) Friend 1 leaves the circle. Next start is friend 3.\n",
        "\n",
        "8) Count 2 friends clockwise, which are friends 3 and 5.\n",
        "\n",
        "9) Friend 5 leaves the circle. Only friend 3 is left, so they are the winner.\n",
        "\n",
        "</aside>"
      ],
      "metadata": {
        "id": "CUP-dIRAfPG0"
      }
    },
    {
      "cell_type": "code",
      "source": [
        "def CircularGame(n,k):\n",
        "  q = deque(range(1,n+1))\n",
        "  i=1\n",
        "  l=len(q)\n",
        "\n",
        "  while l!=1:\n",
        "    while i<k:\n",
        "      q.append(q[0])\n",
        "      q.popleft()\n",
        "      i+=1\n",
        "    i=1\n",
        "    l-=1\n",
        "    q.popleft()\n",
        "  return q[0]\n",
        "\n",
        "n,k=5,2\n",
        "CircularGame(n,k)"
      ],
      "metadata": {
        "colab": {
          "base_uri": "https://localhost:8080/"
        },
        "id": "67SSAKB6fbyR",
        "outputId": "873762e9-ef0c-4717-9a21-94803497f16e"
      },
      "execution_count": null,
      "outputs": [
        {
          "output_type": "execute_result",
          "data": {
            "text/plain": [
              "3"
            ]
          },
          "metadata": {},
          "execution_count": 7
        }
      ]
    },
    {
      "cell_type": "markdown",
      "source": [
        "<aside>\n",
        "💡 **Question 6**\n",
        "\n",
        "You are given an integer array `deck`. There is a deck of cards where every card has a unique integer. The integer on the `ith` card is `deck[i]`.\n",
        "\n",
        "You can order the deck in any order you want. Initially, all the cards start face down (unrevealed) in one deck.\n",
        "\n",
        "You will do the following steps repeatedly until all cards are revealed:\n",
        "\n",
        "1. Take the top card of the deck, reveal it, and take it out of the deck.\n",
        "2. If there are still cards in the deck then put the next top card of the deck at the bottom of the deck.\n",
        "3. If there are still unrevealed cards, go back to step 1. Otherwise, stop.\n",
        "\n",
        "Return *an ordering of the deck that would reveal the cards in increasing order*.\n",
        "\n",
        "**Note** that the first entry in the answer is considered to be the top of the deck.\n",
        "\n",
        "**Example 1:**\n",
        "\n",
        "Input: deck = [17,13,11,2,3,5,7]\n",
        "\n",
        "Output: [2,13,3,11,5,17,7]\n",
        "\n",
        "Explanation:\n",
        "\n",
        "We get the deck in the order [17,13,11,2,3,5,7] (this order does not matter), and reorder it.\n",
        "\n",
        "After reordering, the deck starts as [2,13,3,11,5,17,7], where 2 is the top of the deck.\n",
        "\n",
        "We reveal 2, and move 13 to the bottom.  The deck is now [3,11,5,17,7,13].\n",
        "\n",
        "We reveal 3, and move 11 to the bottom.  The deck is now [5,17,7,13,11].\n",
        "\n",
        "We reveal 5, and move 17 to the bottom.  The deck is now [7,13,11,17].\n",
        "\n",
        "We reveal 7, and move 13 to the bottom.  The deck is now [11,17,13].\n",
        "\n",
        "We reveal 11, and move 17 to the bottom.  The deck is now [13,17].\n",
        "We reveal 13, and move 17 to the bottom.  The deck is now [17].\n",
        "We reveal 17.\n",
        "\n",
        "Since all the cards revealed are in increasing order, the answer is correct.\n",
        "\n",
        "</aside>"
      ],
      "metadata": {
        "id": "nlk0ADzTfcSp"
      }
    },
    {
      "cell_type": "code",
      "source": [
        "def deckRevealedIncreasing(deck):\n",
        "  n = len(deck)\n",
        "  queue = deque(range(n))\n",
        "  arr = [None] * n\n",
        "  deck.sort()\n",
        "  for card in deck:\n",
        "    arr[queue.popleft()] = card\n",
        "    if queue:\n",
        "      queue.append(queue.popleft())\n",
        "  return arr\n",
        "\n",
        "deck = [17,13,11,2,3,5,7]\n",
        "deckRevealedIncreasing(deck)"
      ],
      "metadata": {
        "id": "DOUboI9DfkMx",
        "colab": {
          "base_uri": "https://localhost:8080/"
        },
        "outputId": "1e3b7c49-d179-4a1b-81dd-9f76f4831c43"
      },
      "execution_count": 3,
      "outputs": [
        {
          "output_type": "execute_result",
          "data": {
            "text/plain": [
              "[2, 13, 3, 11, 5, 17, 7]"
            ]
          },
          "metadata": {},
          "execution_count": 3
        }
      ]
    },
    {
      "cell_type": "markdown",
      "source": [
        "<aside>\n",
        "💡 **Question 7**\n",
        "\n",
        "Design a queue that supports `push` and `pop` operations in the front, middle, and back.\n",
        "\n",
        "Implement the `FrontMiddleBack` class:\n",
        "\n",
        "- `FrontMiddleBack()` Initializes the queue.\n",
        "- `void pushFront(int val)` Adds `val` to the **front** of the queue.\n",
        "- `void pushMiddle(int val)` Adds `val` to the **middle** of the queue.\n",
        "- `void pushBack(int val)` Adds `val` to the **back** of the queue.\n",
        "- `int popFront()` Removes the **front** element of the queue and returns it. If the queue is empty, return `1`.\n",
        "- `int popMiddle()` Removes the **middle** element of the queue and returns it. If the queue is empty, return `1`.\n",
        "- `int popBack()` Removes the **back** element of the queue and returns it. If the queue is empty, return `1`.\n",
        "\n",
        "**Notice** that when there are **two** middle position choices, the operation is performed on the **frontmost** middle position choice. For example:\n",
        "\n",
        "- Pushing `6` into the middle of `[1, 2, 3, 4, 5]` results in `[1, 2, 6, 3, 4, 5]`.\n",
        "- Popping the middle from `[1, 2, 3, 4, 5, 6]` returns `3` and results in `[1, 2, 4, 5, 6]`.\n",
        "\n",
        "**Example 1:**\n",
        "Input:\n",
        "\n",
        "[\"FrontMiddleBackQueue\", \"pushFront\", \"pushBack\", \"pushMiddle\", \"pushMiddle\", \"popFront\", \"popMiddle\", \"popMiddle\", \"popBack\", \"popFront\"]\n",
        "[[], [1], [2], [3], [4], [], [], [], [], []]\n",
        "\n",
        "Output:\n",
        "[null, null, null, null, null, 1, 3, 4, 2, -1]\n",
        "\n",
        "Explanation:\n",
        "\n",
        "FrontMiddleBackQueue q = new FrontMiddleBackQueue();\n",
        "\n",
        "q.pushFront(1);   // [1]\n",
        "\n",
        "q.pushBack(2);    // [1,2]\n",
        "\n",
        "q.pushMiddle(3);  // [1,3, 2]\n",
        "\n",
        "q.pushMiddle(4);  // [1,4, 3, 2]\n",
        "\n",
        "q.popFront();     // return 1 -> [4, 3, 2]\n",
        "\n",
        "q.popMiddle();    // return 3 -> [4, 2]\n",
        "\n",
        "q.popMiddle();    // return 4 -> [2]\n",
        "\n",
        "q.popBack();      // return 2 -> []\n",
        "\n",
        "q.popFront();     // return -1 -> [] (The queue is empty)\n",
        "</aside>"
      ],
      "metadata": {
        "id": "k86A6uANfn8R"
      }
    },
    {
      "cell_type": "code",
      "source": [
        "class FrontMiddleBackQueue:\n",
        "\n",
        "    def __init__(self):\n",
        "        self.q = []\n",
        "        self.length = 0\n",
        "\n",
        "    def pushFront(self, val: int) -> None:\n",
        "        if self.length == 0:\n",
        "            self.q.append(val)\n",
        "        else:\n",
        "            self.q.insert(0,val)\n",
        "        self.length+=1\n",
        "\n",
        "    def pushMiddle(self, val: int) -> None:\n",
        "        self.q.insert(self.length//2,val)\n",
        "        self.length+=1\n",
        "\n",
        "    def pushBack(self, val: int) -> None:\n",
        "        self.q.append(val)\n",
        "        self.length+=1\n",
        "\n",
        "    def popFront(self) -> int:\n",
        "        if self.length ==0:\n",
        "            return -1\n",
        "        else:\n",
        "            self.length-=1\n",
        "            return self.q.pop(0)\n",
        "\n",
        "    def popMiddle(self) -> int:\n",
        "        if self.length ==0:\n",
        "            return -1\n",
        "        else:\n",
        "            self.length-=1\n",
        "            return self.q.pop(self.length//2)\n",
        "\n",
        "    def popBack(self) -> int:\n",
        "        if self.length ==0:\n",
        "            return -1\n",
        "        else:\n",
        "            self.length-=1\n",
        "            return self.q.pop()\n",
        "\n",
        "q = FrontMiddleBackQueue();\n",
        "print(q.pushFront(1))\n",
        "print(q.pushBack(2))\n",
        "print(q.pushMiddle(3))\n",
        "print(q.pushMiddle(4))\n",
        "print(q.popFront())\n",
        "print(q.popMiddle())\n",
        "print(q.popMiddle())\n",
        "print(q.popBack())\n",
        "print(q.popFront())"
      ],
      "metadata": {
        "colab": {
          "base_uri": "https://localhost:8080/"
        },
        "id": "wS6qGNBXfv1Z",
        "outputId": "ee2ae48a-9fe6-41e6-9533-c0dd88ec1dde"
      },
      "execution_count": null,
      "outputs": [
        {
          "output_type": "stream",
          "name": "stdout",
          "text": [
            "None\n",
            "None\n",
            "None\n",
            "None\n",
            "1\n",
            "3\n",
            "4\n",
            "2\n",
            "-1\n"
          ]
        }
      ]
    },
    {
      "cell_type": "markdown",
      "source": [
        "<aside>\n",
        "💡 **Question 8**\n",
        "\n",
        "For a stream of integers, implement a data structure that checks if the last `k` integers parsed in the stream are **equal** to `value`.\n",
        "\n",
        "Implement the **DataStream** class:\n",
        "\n",
        "- `DataStream(int value, int k)` Initializes the object with an empty integer stream and the two integers `value` and `k`.\n",
        "\n",
        "- `boolean consec(int num)` Adds `num` to the stream of integers.\n",
        "Returns `true` if the last `k` integers are equal to `value`,\n",
        "and `false` otherwise. If there are less than `k` integers, the condition does not hold true, so returns `false`.\n",
        "\n",
        "**Example 1:**\n",
        "\n",
        "Input\n",
        "[\"DataStream\", \"consec\", \"consec\", \"consec\", \"consec\"]\n",
        "[[4, 3], [4], [4], [4], [3]]\n",
        "\n",
        "Output\n",
        "[null, false, false, true, false]\n",
        "\n",
        "Explanation\n",
        "\n",
        "DataStream dataStream = new DataStream(4, 3); //value = 4, k = 3\n",
        "dataStream.consec(4); // Only 1 integer is parsed, so returns False.\n",
        "\n",
        "dataStream.consec(4); // Only 2 integers are parsed.\n",
        "                      // Since 2 is less than k, returns False.\n",
        "dataStream.consec(4); // The 3 integers parsed are all equal to value, so returns True.\n",
        "\n",
        "dataStream.consec(3); // The last k integers parsed in the stream are [4,4,3].\n",
        "                      // Since 3 is not equal to value, it returns False.\n",
        "</aside>"
      ],
      "metadata": {
        "id": "6-a2ukGYfztI"
      }
    },
    {
      "cell_type": "code",
      "source": [
        "from collections import deque\n",
        "\n",
        "class DataStream:\n",
        "  def __init__(self, value: int, k: int):\n",
        "    self.value = value\n",
        "    self.k = k\n",
        "    self.count = 0\n",
        "\n",
        "  def consec(self, num: int) -> bool:\n",
        "    if num == self.value:\n",
        "      self.count += 1\n",
        "    else:\n",
        "      self.count = 0\n",
        "      return False\n",
        "\n",
        "    return self.count>=self.k\n",
        "\n",
        "obj = DataStream(4,3)\n",
        "print(obj.consec(4))\n",
        "print(obj.consec(4))\n",
        "print(obj.consec(4))\n",
        "print(obj.consec(3))\n"
      ],
      "metadata": {
        "id": "JLARvw8Sf7aI",
        "colab": {
          "base_uri": "https://localhost:8080/"
        },
        "outputId": "17241e1d-2da4-40d4-da2a-7aadb6e1d687"
      },
      "execution_count": 2,
      "outputs": [
        {
          "output_type": "stream",
          "name": "stdout",
          "text": [
            "False\n",
            "False\n",
            "True\n",
            "False\n"
          ]
        }
      ]
    },
    {
      "cell_type": "code",
      "source": [],
      "metadata": {
        "id": "lusWnuv_ua6i"
      },
      "execution_count": null,
      "outputs": []
    }
  ]
}