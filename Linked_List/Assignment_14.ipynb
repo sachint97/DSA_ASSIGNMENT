{
  "nbformat": 4,
  "nbformat_minor": 0,
  "metadata": {
    "colab": {
      "provenance": [],
      "authorship_tag": "ABX9TyMcmcehRXm5n1cYaa/lxqBJ",
      "include_colab_link": true
    },
    "kernelspec": {
      "name": "python3",
      "display_name": "Python 3"
    },
    "language_info": {
      "name": "python"
    }
  },
  "cells": [
    {
      "cell_type": "markdown",
      "metadata": {
        "id": "view-in-github",
        "colab_type": "text"
      },
      "source": [
        "<a href=\"https://colab.research.google.com/github/sachint97/DSA_ASSIGNMENT/blob/main/Linked_List/Assignment_14.ipynb\" target=\"_parent\"><img src=\"https://colab.research.google.com/assets/colab-badge.svg\" alt=\"Open In Colab\"/></a>"
      ]
    },
    {
      "cell_type": "markdown",
      "source": [
        "# Linked List"
      ],
      "metadata": {
        "id": "qyliYJdwQ9Oi"
      }
    },
    {
      "cell_type": "code",
      "source": [
        "# Definition for singly-linked list.\n",
        "class ListNode:\n",
        "    def __init__(self, val=0, next=None):\n",
        "        self.val = val\n",
        "        self.next = next\n",
        "\n",
        "def lst2link(lst):\n",
        "    cur = dummy = ListNode(0)\n",
        "    for e in lst:\n",
        "        cur.next = ListNode(e)\n",
        "        cur = cur.next\n",
        "    return dummy.next\n",
        "\n",
        "def display(linked_list):\n",
        "  while(linked_list):\n",
        "    print(linked_list.val,end='->')\n",
        "    linked_list=linked_list.next\n",
        "  print('None')"
      ],
      "metadata": {
        "id": "y6D_ckpvQ7iY"
      },
      "execution_count": 3,
      "outputs": []
    },
    {
      "cell_type": "markdown",
      "source": [
        "<aside>\n",
        "💡 **Question 1**\n",
        "\n",
        "Given a linked list of **N** nodes such that it may contain a loop.\n",
        "\n",
        "A loop here means that the last node of the link list is connected to the node at position X(1-based index). If the link list does not have any loop, X=0.\n",
        "\n",
        "Remove the loop from the linked list, if it is present, i.e. unlink the last node which is forming the loop.\n",
        "\n",
        "**Example 1:**\n",
        "Input:\n",
        "\n",
        "N = 3\n",
        "\n",
        "value[] = {1,3,4}\n",
        "\n",
        "X = 2\n",
        "\n",
        "Output:1\n",
        "Explanation:The link list looks like\n",
        "\n",
        "1 -> 3 -> 4\n",
        "\n",
        "       ^    |\n",
        "       |____|\n",
        "A loop is present. If you remove it\n",
        "successfully, the answer will be 1.\n",
        "\n",
        "</aside>"
      ],
      "metadata": {
        "id": "0DqnaNyeuIvp"
      }
    },
    {
      "cell_type": "code",
      "execution_count": 4,
      "metadata": {
        "id": "S1XosyJEs56p",
        "colab": {
          "base_uri": "https://localhost:8080/"
        },
        "outputId": "0548c31d-d40f-4020-c09d-43e4836dd8fc"
      },
      "outputs": [
        {
          "output_type": "stream",
          "name": "stdout",
          "text": [
            "1->2->3->4->None\n",
            "   ^     |\n",
            "   |     |\n",
            "   <------\n",
            "\n",
            "1->None\n"
          ]
        }
      ],
      "source": [
        "def RemoveCycle(head):\n",
        "  slow = fast = head\n",
        "  while fast and fast.next:\n",
        "      slow, fast = slow.next, fast.next.next\n",
        "      if slow == fast: break\n",
        "  else: return None\n",
        "  curr=head\n",
        "  if curr == slow:\n",
        "    return None\n",
        "  while curr.next != slow.next:\n",
        "      curr, slow = head.next,slow.next\n",
        "  else:\n",
        "    curr.next=None\n",
        "  return head    \n",
        "\n",
        "\n",
        "arr = [1,2,3,4]\n",
        "l_list = lst2link(arr)\n",
        "display(l_list)\n",
        "print('   ^     |')\n",
        "print('   |     |')\n",
        "print('   <------\\n')\n",
        "# making the end of linked list connect to second element\n",
        "curr = l_list\n",
        "while curr.next:\n",
        "  curr = curr.next\n",
        "curr.next = l_list.next\n",
        "\n",
        "result = RemoveCycle(l_list)\n",
        "display(result)"
      ]
    },
    {
      "cell_type": "markdown",
      "source": [
        "# <aside>\n",
        "💡 **Question 2**\n",
        "\n",
        "A number **N** is represented in Linked List such that each digit corresponds to a node in linked list. You need to add 1 to it.\n",
        "\n",
        "**Example 1:**\n",
        "\n",
        "Input:\n",
        "\n",
        "LinkedList: 4->5->6\n",
        "\n",
        "Output:457\n",
        "</aside>"
      ],
      "metadata": {
        "id": "_F1sn6z1dWfI"
      }
    },
    {
      "cell_type": "code",
      "source": [
        "def AddOne(head):\n",
        "  def ReverseLL(head):\n",
        "    curr,prev=head,None\n",
        "    while curr:\n",
        "      next = curr.next\n",
        "      curr.next = prev\n",
        "      prev = curr\n",
        "      curr = next\n",
        "    return prev\n",
        "\n",
        "  head = ReverseLL(head)\n",
        "  curr = head\n",
        "  prev = None\n",
        "  carry = 1\n",
        "  while curr:\n",
        "    if carry == 1:\n",
        "      curr.val =curr.val+carry\n",
        "      if curr.val > 9:\n",
        "        curr.val = 0\n",
        "        carry = 1\n",
        "      else:carry = 0\n",
        "    prev = curr\n",
        "    curr=curr.next\n",
        "  if carry == 1:\n",
        "    prev.next = ListNode(carry)\n",
        "  return ReverseLL(head)\n",
        "    \n",
        "\n",
        "\n",
        "\n",
        "print('Test case 1')\n",
        "arr = [9,9,9]\n",
        "l_list = lst2link(arr)\n",
        "print('Input List : ',end='')\n",
        "display(l_list)\n",
        "result = AddOne(l_list)\n",
        "print('Output List : ',end='')\n",
        "display(result)"
      ],
      "metadata": {
        "colab": {
          "base_uri": "https://localhost:8080/"
        },
        "id": "5vu2E2BHdWz8",
        "outputId": "ee04430d-2711-4a8d-ee81-df8dc8b7889c"
      },
      "execution_count": 5,
      "outputs": [
        {
          "output_type": "stream",
          "name": "stdout",
          "text": [
            "Test case 1\n",
            "Input List : 9->9->9->None\n",
            "Output List : 1->0->0->0->None\n"
          ]
        }
      ]
    },
    {
      "cell_type": "markdown",
      "source": [
        "#<aside>\n",
        "💡 **Question 3**\n",
        "\n",
        "Given a Linked List of size N, where every node represents a sub-linked-list and contains two pointers:(i) a **next** pointer to the next node,(ii) a **bottom** pointer to a linked list where this node is head.Each of the sub-linked-list is in sorted order.Flatten the Link List such that all the nodes appear in a single level while maintaining the sorted order. **Note:** The flattened list will be printed using the bottom pointer instead of next pointer.\n",
        "\n",
        "Input:\n",
        "\n",
        "5 -> 10 -> 19 -> 28\n",
        "\n",
        "|&emsp;&emsp;| &emsp;&emsp;|&emsp;&emsp;|\n",
        "\n",
        "7&emsp;20&emsp;&emsp;22&emsp;35\n",
        "\n",
        "|&emsp;&emsp;&emsp;&emsp;&emsp;|&emsp;&emsp;|\n",
        "\n",
        "8&emsp;&emsp;&emsp;&emsp;50&emsp;&emsp;40\n",
        "\n",
        "|&emsp;&emsp;&emsp;&emsp;&emsp;&emsp;&emsp;&emsp;|\n",
        "\n",
        "30&emsp;&emsp;&emsp;&emsp;&emsp;&emsp;&emsp;45\n",
        "\n",
        "Output: 5-> 7-> 8- > 10 -> 19-> 20->\n",
        "22-> 28-> 30-> 35-> 40-> 45-> 50.\n",
        "\n",
        "Explanation:\n",
        "The resultant linked lists has every node in a single level.(Note:| represents the bottom pointer.)\n",
        "\n",
        "</aside>"
      ],
      "metadata": {
        "id": "NS9qP9ZBo6Ne"
      }
    },
    {
      "cell_type": "code",
      "source": [
        "class Node:\n",
        "    def __init__(self, data):\n",
        "        self.data = data\n",
        "        self.next = None\n",
        "        self.bottom = None\n",
        "\n",
        "def merge(a, b):\n",
        "    if a is None:\n",
        "        return b\n",
        "    if b is None:\n",
        "        return a\n",
        "    \n",
        "    result = None\n",
        "    if a.data <= b.data:\n",
        "        result = a\n",
        "        result.bottom = merge(a.bottom, b)\n",
        "    else:\n",
        "        result = b\n",
        "        result.bottom = merge(a, b.bottom)\n",
        "    \n",
        "    result.next = None\n",
        "    return result\n",
        "\n",
        "def flatten(head):\n",
        "    if head is None or head.next is None:\n",
        "        return head\n",
        "    \n",
        "    # Merge the current list with the flattened list of the remaining nodes\n",
        "    head.next = flatten(head.next)\n",
        "    \n",
        "    # Merge the current list with the bottom list\n",
        "    head = merge(head, head.next)\n",
        "    \n",
        "    return head\n",
        "\n",
        "def printList(head):\n",
        "    curr = head\n",
        "    while curr:\n",
        "        print(curr.data, end=\" \")\n",
        "        curr = curr.bottom\n",
        "\n",
        "# Create the sample linked list\n",
        "head = Node(5)\n",
        "head.next = Node(10)\n",
        "head.next.next = Node(19)\n",
        "head.next.next.next = Node(28)\n",
        "\n",
        "head.bottom = Node(7)\n",
        "head.bottom.bottom = Node(8)\n",
        "head.bottom.bottom.bottom = Node(30)\n",
        "\n",
        "head.next.bottom = Node(20)\n",
        "\n",
        "head.next.next.bottom = Node(22)\n",
        "head.next.next.next.bottom = Node(35)\n",
        "\n",
        "head.bottom.next = Node(50)\n",
        "\n",
        "head.next.next.bottom.next = Node(40)\n",
        "head.next.next.bottom.next.bottom = Node(45)\n",
        "\n",
        "# Flatten the linked list\n",
        "head = flatten(head)\n",
        "\n",
        "# Print the flattened list\n",
        "printList(head)\n"
      ],
      "metadata": {
        "colab": {
          "base_uri": "https://localhost:8080/"
        },
        "id": "3zQNXk4Wo6fy",
        "outputId": "336ec718-c2de-464d-bc16-7cc3e5ae800f"
      },
      "execution_count": 6,
      "outputs": [
        {
          "output_type": "stream",
          "name": "stdout",
          "text": [
            "5 7 8 10 19 20 22 28 30 35 "
          ]
        }
      ]
    },
    {
      "cell_type": "markdown",
      "source": [
        "#<aside>\n",
        "💡 **Question 4**\n",
        "\n",
        "You are given a special linked list with **N** nodes where each node has a next pointer pointing to its next node. You are also given **M** random pointers, where you will be given **M** number of pairs denoting two nodes **a** and **b**  **i.e. a->arb = b** (arb is pointer to random node)**.**\n",
        "\n",
        "Construct a copy of the given list. The copy should consist of exactly **N** new nodes, where each new node has its value set to the value of its corresponding original node. Both the next and random pointer of the new nodes should point to new nodes in the copied list such that the pointers in the original list and copied list represent the same list state. None of the pointers in the new list should point to nodes in the original list.\n",
        "\n",
        "For example, if there are two nodes **X** and **Y** in the original list, where **X.arb** **-->** **Y**, then for the corresponding two nodes **x** and **y** in the copied list, **x.arb --> y.**\n",
        "\n",
        "Return the head of the copied linked list.\n",
        "<image src=\"https://pwskills.notion.site/image/https%3A%2F%2Fcontribute.geeksforgeeks.org%2Fwp-content%2Fuploads%2Fclone.jpg?id=91feb271-fee1-4199-9997-34833a3388da&table=block&spaceId=6fae2e0f-dedc-48e9-bc59-af2654c78209&width=900&userId=&cache=v2\">\n",
        "**Note** :- The diagram isn't part of any example, it just depicts an example of how the linked list may look like.\n",
        "\n",
        "**Example 1:**\n",
        "Input:\n",
        "N = 4, M = 2\n",
        "value = {1,2,3,4}\n",
        "pairs = {{1,2},{2,4}}\n",
        "Output:1\n",
        "Explanation:In this test case, there\n",
        "are 4 nodes in linked list.  Among these\n",
        "4 nodes,  2 nodes have arbitrary pointer\n",
        "set, rest two nodes have arbitrary pointer\n",
        "as NULL. Second line tells us the value\n",
        "of four nodes. The third line gives the\n",
        "information about arbitrary pointers.\n",
        "The first node arbitrary pointer is set to\n",
        "node 2.  The second node arbitrary pointer\n",
        "is set to node 4.\n",
        "\n",
        "</aside>"
      ],
      "metadata": {
        "id": "BthYt3npwFqE"
      }
    },
    {
      "cell_type": "code",
      "source": [],
      "metadata": {
        "id": "xT_o1oK_wF-S"
      },
      "execution_count": 6,
      "outputs": []
    },
    {
      "cell_type": "markdown",
      "source": [
        "#<aside>\n",
        "💡 **Question 5**\n",
        "\n",
        "Given the `head` of a singly linked list, group all the nodes with odd indices together followed by the nodes with even indices, and return *the reordered list*.\n",
        "\n",
        "The **first** node is considered **odd**, and the **second** node is **even**, and so on.\n",
        "\n",
        "Note that the relative order inside both the even and odd groups should remain as it was in the input.\n",
        "\n",
        "You must solve the problem in `O(1)` extra space complexity and `O(n)` time complexity.\n",
        "\n",
        "**Example 1:**\n",
        "<image src=\"https://pwskills.notion.site/image/https%3A%2F%2Fassets.leetcode.com%2Fuploads%2F2021%2F03%2F10%2Foddeven-linked-list.jpg?id=13e98531-bf7c-461e-ae66-555d769a04ec&table=block&spaceId=6fae2e0f-dedc-48e9-bc59-af2654c78209&width=600&userId=&cache=v2\">\n",
        "\n",
        "Input: head = [1,2,3,4,5]\n",
        "\n",
        "Output: [1,3,5,2,4]\n",
        "\n",
        "</aside>"
      ],
      "metadata": {
        "id": "AfRbPvl_xbla"
      }
    },
    {
      "cell_type": "code",
      "source": [
        "def ReorderedList(head):\n",
        "  odd_head = odd = head\n",
        "  even_head = even = head.next\n",
        "  while even and even.next:\n",
        "    odd.next = even.next\n",
        "    odd = odd.next \n",
        "    even.next = odd.next\n",
        "    even = even.next\n",
        "\n",
        "  odd.next = even_head\n",
        "  return head\n",
        "  \n",
        "\n",
        "print('Test case 1')\n",
        "arr = [1,2,3,4,5]\n",
        "l_list = lst2link(arr)\n",
        "print('Input List : ',end='')\n",
        "display(l_list)\n",
        "result = ReorderedList(l_list)\n",
        "print('Output List : ',end='')\n",
        "display(result)\n"
      ],
      "metadata": {
        "colab": {
          "base_uri": "https://localhost:8080/"
        },
        "id": "aIlpiDykxb4u",
        "outputId": "5da66ac7-dab4-48a8-892d-aaa58264f901"
      },
      "execution_count": 7,
      "outputs": [
        {
          "output_type": "stream",
          "name": "stdout",
          "text": [
            "Test case 1\n",
            "Input List : 1->2->3->4->5->None\n",
            "Output List : 1->3->5->2->4->None\n"
          ]
        }
      ]
    },
    {
      "cell_type": "markdown",
      "source": [
        "# <aside>\n",
        "💡 **Question 6**\n",
        "\n",
        "Given a singly linked list of size **N**. The task is to **left-shift** the linked list by **k** nodes, where **k** is a given positive integer smaller than or equal to length of the linked list.\n",
        "\n",
        "**Example 1:**\n",
        "Input:\n",
        "N = 5\n",
        "\n",
        "value[] = {2, 4, 7, 8, 9}\n",
        "\n",
        "k = 3\n",
        "\n",
        "Output:8 9 2 4 7\n",
        "\n",
        "Explanation:Rotate 1:4 -> 7 -> 8 -> 9 -> 2\n",
        "\n",
        "Rotate 2: 7 -> 8 -> 9 -> 2 -> 4\n",
        "\n",
        "Rotate 3: 8 -> 9 -> 2 -> 4 -> 7\n",
        "\n",
        "</aside>"
      ],
      "metadata": {
        "id": "rfrJy0_n7hxB"
      }
    },
    {
      "cell_type": "code",
      "source": [
        "def leftShiftLinkedList(head, k):\n",
        "    if not head or not head.next or k == 0:\n",
        "        return head\n",
        "\n",
        "    # Find the length of the linked list\n",
        "    length = 1\n",
        "    tail = head\n",
        "    while tail.next:\n",
        "        length += 1\n",
        "        tail = tail.next\n",
        "\n",
        "    # Adjust k if it is greater than the length\n",
        "    k = k % length\n",
        "\n",
        "    if k == 0:\n",
        "        return head\n",
        "\n",
        "    # Find the (k+1)th node from the beginning\n",
        "    new_head = head\n",
        "    for _ in range(k):\n",
        "        new_head = new_head.next\n",
        "\n",
        "    # Make the linked list circular\n",
        "    tail.next = head\n",
        "\n",
        "    # Update the head and tail of the linked list\n",
        "    head = new_head\n",
        "    while tail.next != new_head:\n",
        "        tail = tail.next\n",
        "    tail.next = None\n",
        "\n",
        "    return head\n",
        "\n",
        "\n",
        "print('Test case 1')\n",
        "arr = [2, 4, 7, 8, 9]\n",
        "l_list = lst2link(arr)\n",
        "k=3\n",
        "print('Input List : ',end='')\n",
        "display(l_list)\n",
        "result = leftShiftLinkedList(l_list,k)\n",
        "print('Output List : ',end='')\n",
        "display(result)"
      ],
      "metadata": {
        "colab": {
          "base_uri": "https://localhost:8080/"
        },
        "id": "MjsM3Gir7iE3",
        "outputId": "cd5eba9f-6b74-4182-dd63-e52da19fcbe1"
      },
      "execution_count": 8,
      "outputs": [
        {
          "output_type": "stream",
          "name": "stdout",
          "text": [
            "Test case 1\n",
            "Input List : 2->4->7->8->9->None\n",
            "Output List : 8->9->2->4->7->None\n"
          ]
        }
      ]
    },
    {
      "cell_type": "markdown",
      "source": [
        "#<aside>\n",
        "💡 **Question 7**\n",
        "\n",
        "You are given the `head` of a linked list with `n` nodes.\n",
        "\n",
        "For each node in the list, find the value of the **next greater node**. That is, for each node, find the value of the first node that is next to it and has a **strictly larger** value than it.\n",
        "\n",
        "Return an integer array `answer` where `answer[i]` is the value of the next greater node of the `ith` node (**1-indexed**). If the `ith` node does not have a next greater node, set `answer[i] = 0`.\n",
        "\n",
        "**Example 1:**\n",
        "Input: head = [2,1,5]\n",
        "\n",
        "Output: [5,5,0]\n",
        "\n",
        "<image src=\"https://pwskills.notion.site/image/https%3A%2F%2Fassets.leetcode.com%2Fuploads%2F2021%2F08%2F05%2Flinkedlistnext1.jpg?id=cae2303b-e908-4f5d-8b20-a4d530752f53&table=block&spaceId=6fae2e0f-dedc-48e9-bc59-af2654c78209&width=610&userId=&cache=v2\">\n",
        "\n",
        "</aside>"
      ],
      "metadata": {
        "id": "XDxpW4Ulw8BZ"
      }
    },
    {
      "cell_type": "code",
      "source": [
        "def nextLargerNodes(head):\n",
        "  position = -1\n",
        "  ans , stack = [] , []\n",
        "\n",
        "  while head:\n",
        "    position +=1\n",
        "    ans.append(0)\n",
        "    while stack and head.val > stack[-1][1]:\n",
        "      index,val = stack.pop()\n",
        "      ans[index] = head.val\n",
        "    stack.append((position,head.val))\n",
        "    head=head.next\n",
        "  return ans\n",
        "\n",
        "print('Test case ')\n",
        "arr = [2,1,5]\n",
        "l_list = lst2link(arr)\n",
        "print('Input List : ',end='')\n",
        "display(l_list)\n",
        "result = nextLargerNodes(l_list)\n",
        "print('Output List : ',end='')\n",
        "result"
      ],
      "metadata": {
        "colab": {
          "base_uri": "https://localhost:8080/"
        },
        "id": "pHNPPpUXw8JY",
        "outputId": "9240de25-3598-4f22-ae8e-021fb8868b29"
      },
      "execution_count": 10,
      "outputs": [
        {
          "output_type": "stream",
          "name": "stdout",
          "text": [
            "Test case \n",
            "Input List : 2->1->5->None\n",
            "Output List : "
          ]
        },
        {
          "output_type": "execute_result",
          "data": {
            "text/plain": [
              "[5, 5, 0]"
            ]
          },
          "metadata": {},
          "execution_count": 10
        }
      ]
    },
    {
      "cell_type": "markdown",
      "source": [
        "#<aside>\n",
        "💡 **Question 8**\n",
        "\n",
        "Given the `head` of a linked list, we repeatedly delete consecutive sequences of nodes that sum to `0` until there are no such sequences.\n",
        "\n",
        "After doing so, return the head of the final linked list.  You may return any such answer.\n",
        "\n",
        "(Note that in the examples below, all sequences are serializations of `ListNode` objects.)\n",
        "\n",
        "**Example 1:**\n",
        "Input: head = [1,2,-3,3,1]\n",
        "\n",
        "Output: [3,1]\n",
        "\n",
        "Note: The answer [1,2,1] would also be accepted.\n",
        "\n",
        "</aside>"
      ],
      "metadata": {
        "id": "1F-05Oqc6KE8"
      }
    },
    {
      "cell_type": "code",
      "source": [
        "def removeZeroSumSublists(head):\n",
        "  dummy = ListNode(0,head)\n",
        "  sum_dict = dict()\n",
        "  c_sum = 0\n",
        "  sum_dict[c_sum] = dummy\n",
        "  while head:\n",
        "    c_sum += head.val\n",
        "\n",
        "    if sum_dict.get(c_sum,None):\n",
        "\n",
        "      to_remove = sum_dict[c_sum].next\n",
        "      temp_sum = c_sum\n",
        "\n",
        "      while(to_remove!=head):\n",
        "          temp_sum+=to_remove.val\n",
        "          sum_dict.pop(temp_sum)\n",
        "          to_remove = to_remove.next\n",
        "          \n",
        "      sum_dict[c_sum].next = head.next\n",
        "\n",
        "    else:\n",
        "      sum_dict[c_sum] = head\n",
        "\n",
        "    head = head.next\n",
        "  return dummy.next\n",
        "\n",
        "\n",
        "print('Test case ')\n",
        "head = [1,2,-3,3,1]\n",
        "l_list = lst2link(head)\n",
        "print('Input List : ',end='')\n",
        "display(l_list)\n",
        "result = removeZeroSumSublists(l_list)\n",
        "print('Output List : ',end='')\n",
        "display(result)\n"
      ],
      "metadata": {
        "colab": {
          "base_uri": "https://localhost:8080/"
        },
        "id": "jUlLjQFX6KcZ",
        "outputId": "8406cdcb-ba03-428a-a6fc-d48788e67e06"
      },
      "execution_count": 12,
      "outputs": [
        {
          "output_type": "stream",
          "name": "stdout",
          "text": [
            "Test case \n",
            "Input List : 1->2->-3->3->1->None\n",
            "Output List : 3->1->None\n"
          ]
        }
      ]
    },
    {
      "cell_type": "code",
      "source": [],
      "metadata": {
        "id": "kb-QstGuF-Ft"
      },
      "execution_count": null,
      "outputs": []
    }
  ]
}