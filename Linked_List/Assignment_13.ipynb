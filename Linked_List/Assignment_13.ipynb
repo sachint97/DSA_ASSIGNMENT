{
  "nbformat": 4,
  "nbformat_minor": 0,
  "metadata": {
    "colab": {
      "provenance": [],
      "authorship_tag": "ABX9TyOrKlM9bGAH8wMpSHl1/Kag"
    },
    "kernelspec": {
      "name": "python3",
      "display_name": "Python 3"
    },
    "language_info": {
      "name": "python"
    }
  },
  "cells": [
    {
      "cell_type": "markdown",
      "source": [
        "# Linked List"
      ],
      "metadata": {
        "id": "z_t9xvMpzbou"
      }
    },
    {
      "cell_type": "code",
      "execution_count": 83,
      "metadata": {
        "id": "OLj6h3ICzV6s"
      },
      "outputs": [],
      "source": [
        "# Definition for singly-linked list.\n",
        "class ListNode:\n",
        "    def __init__(self, val=0, next=None):\n",
        "        self.val = val\n",
        "        self.next = next\n",
        "\n",
        "def lst2link(lst):\n",
        "    cur = dummy = ListNode(0)\n",
        "    for e in lst:\n",
        "        cur.next = ListNode(e)\n",
        "        cur = cur.next\n",
        "    return dummy.next\n",
        "\n",
        "def display(linked_list):\n",
        "  while(linked_list):\n",
        "    print(linked_list.val,end='->')\n",
        "    linked_list=linked_list.next\n",
        "  print('None')"
      ]
    },
    {
      "cell_type": "markdown",
      "source": [
        "#<aside>\n",
        "💡 **Question 1**\n",
        "\n",
        "Given two linked list of the same size, the task is to create a new linked list using those linked lists. The condition is that the greater node among both linked list will be added to the new linked list.\n",
        "\n",
        "**Examples:**\n",
        "\n",
        "Input: list1 = 5->2->3->8\n",
        "\n",
        "list2 = 1->7->4->5\n",
        "\n",
        "Output: New list = 5->7->4->8\n",
        "\n",
        "\n",
        "Input:list1 = 2->8->9->3\n",
        "\n",
        "list2 = 5->3->6->4\n",
        "\n",
        "Output: New list = 5->8->9->4\n",
        "</aside>"
      ],
      "metadata": {
        "id": "CiR6rIMWzi21"
      }
    },
    {
      "cell_type": "code",
      "source": [
        "def MergeLinkedList(l1,l2):\n",
        "  curr = new_list = ListNode()\n",
        "  while l1:\n",
        "    if l1.val>l2.val:\n",
        "      curr.next = ListNode(l1.val)\n",
        "    else:\n",
        "      curr.next = ListNode(l2.val)\n",
        "    curr=curr.next\n",
        "    l1=l1.next\n",
        "    l2=l2.next\n",
        "\n",
        "  return new_list.next\n",
        "\n",
        "arr1 = [2,8,9,3]\n",
        "arr2 = [5,3,6,4]\n",
        "l_list1 = lst2link(arr1)\n",
        "l_list2 = lst2link(arr2)\n",
        "print('Input List 1 : ',end='')\n",
        "display(l_list1)\n",
        "print('Input List 2 : ',end='')\n",
        "display(l_list2)\n",
        "result = MergeLinkedList(l_list1,l_list2)\n",
        "print('Output List : ',end='')\n",
        "display(result)"
      ],
      "metadata": {
        "colab": {
          "base_uri": "https://localhost:8080/"
        },
        "id": "uKdqICUKzejM",
        "outputId": "d551830c-084d-4e88-f370-b1cf784e7714"
      },
      "execution_count": 84,
      "outputs": [
        {
          "output_type": "stream",
          "name": "stdout",
          "text": [
            "Input List 1 : 2->8->9->3->None\n",
            "Input List 2 : 5->3->6->4->None\n",
            "Output List : 5->8->9->4->None\n"
          ]
        }
      ]
    },
    {
      "cell_type": "markdown",
      "source": [
        "#<aside>\n",
        "💡 **Question 2**\n",
        "\n",
        "Write a function that takes a list sorted in non-decreasing order and deletes any duplicate nodes from the list. The list should only be traversed once.\n",
        "\n",
        "For example if the linked list is 11->11->11->21->43->43->60 then removeDuplicates() should convert the list to 11->21->43->60.\n",
        "\n",
        "**Example 1:**\n",
        "Input:\n",
        "\n",
        "LinkedList: \n",
        "11->11->11->21->43->43->60\n",
        "\n",
        "Output:\n",
        "11->21->43->60\n",
        "</aside>"
      ],
      "metadata": {
        "id": "VK8o31Fq1_yb"
      }
    },
    {
      "cell_type": "code",
      "source": [
        "def RemoveDuplicates(head):\n",
        "  curr = head\n",
        "  while curr and curr.next:\n",
        "    if curr.val == curr.next.val:\n",
        "      curr.next=curr.next.next\n",
        "    else:\n",
        "      curr = curr.next\n",
        "  return head\n",
        "\n",
        "print('Test case 1')\n",
        "arr = [11,11,11,21,43,43,60]\n",
        "l_list = lst2link(arr)\n",
        "print('Input List : ',end='')\n",
        "display(l_list)\n",
        "result = RemoveDuplicates(l_list)\n",
        "print('Output List : ',end='')\n",
        "display(result)\n",
        "print('\\nTest case 2')\n",
        "arr1 = [10,12,12,25,25,25,34]\n",
        "l_list1 = lst2link(arr1)\n",
        "print('Input List : ',end='')\n",
        "display(l_list1)\n",
        "result1 = RemoveDuplicates(l_list1)\n",
        "print('Output List : ',end='')\n",
        "display(result1)"
      ],
      "metadata": {
        "colab": {
          "base_uri": "https://localhost:8080/"
        },
        "id": "2fXneuVH2AAS",
        "outputId": "167c5208-65f2-48c3-c98a-87e0b2f4a906"
      },
      "execution_count": 85,
      "outputs": [
        {
          "output_type": "stream",
          "name": "stdout",
          "text": [
            "Test case 1\n",
            "Input List : 11->11->11->21->43->43->60->None\n",
            "Output List : 11->21->43->60->None\n",
            "\n",
            "Test case 2\n",
            "Input List : 10->12->12->25->25->25->34->None\n",
            "Output List : 10->12->25->34->None\n"
          ]
        }
      ]
    },
    {
      "cell_type": "markdown",
      "source": [
        "#<aside>\n",
        "💡 **Question 3**\n",
        "\n",
        "Given a linked list of size **N**. The task is to reverse every **k** nodes (where k is an input to the function) in the linked list. If the number of nodes is not a multiple of *k* then left-out nodes, in the end, should be considered as a group and must be reversed (See Example 2 for clarification).\n",
        "\n",
        "**Example 1:**\n",
        "Input:\n",
        "LinkedList: 1->2->2->4->5->6->7->8\n",
        "\n",
        "K = 4\n",
        "\n",
        "Output:4 2 2 1 8 7 6 5\n",
        "\n",
        "Explanation:\n",
        "The first 4 elements 1,2,2,4 are reversed first\n",
        "and then the next 4 elements 5,6,7,8. Hence, the\n",
        "resultant linked list is 4->2->2->1->8->7->6->5.\n",
        "\n",
        "</aside>"
      ],
      "metadata": {
        "id": "ewoo8V0531uP"
      }
    },
    {
      "cell_type": "code",
      "source": [
        "def ReverseKNodes(head,k):\n",
        "  dummy = ListNode()\n",
        "  prev_group = dummy\n",
        "  while head:\n",
        "    i,group_end = 1 , head\n",
        "    while i<k and head.next:\n",
        "      head = head.next\n",
        "      i+=1\n",
        "\n",
        "    group_start = head\n",
        "    next_group = head = head.next\n",
        "    if i!=k:\n",
        "      break\n",
        "    \n",
        "    prev, curr = None, group_end\n",
        "    while curr != next_group:\n",
        "      curr.next, curr, prev = prev, curr.next, curr\n",
        "\n",
        "    prev_group.next = group_start\n",
        "    prev_group = group_end\n",
        "    group_end.next = next_group\n",
        "\n",
        "  return dummy.next\n",
        "\n",
        "\n",
        "\n",
        "print('Test case 1')\n",
        "arr = [1,2,2,4,5,6,7,8]\n",
        "l_list = lst2link(arr)\n",
        "key = 4\n",
        "print('Input List : ',end='')\n",
        "display(l_list)\n",
        "result = ReverseKNodes(l_list,key)\n",
        "print('Output List : ',end='')\n",
        "display(result)"
      ],
      "metadata": {
        "id": "RbALfDbn3122",
        "colab": {
          "base_uri": "https://localhost:8080/"
        },
        "outputId": "b6033b68-e737-43a4-b62d-149903d45b6e"
      },
      "execution_count": 86,
      "outputs": [
        {
          "output_type": "stream",
          "name": "stdout",
          "text": [
            "Test case 1\n",
            "Input List : 1->2->2->4->5->6->7->8->None\n",
            "Output List : 4->2->2->1->8->7->6->5->None\n"
          ]
        }
      ]
    },
    {
      "cell_type": "markdown",
      "source": [
        "#<aside>\n",
        "💡 **Question 4**\n",
        "\n",
        "Given a linked list, write a function to reverse every alternate k nodes (where k is an input to the function) in an efficient way. Give the complexity of your algorithm.\n",
        "\n",
        "**Example:**\n",
        "Inputs:   1->2->3->4->5->6->7->8->9->NULL and k = 3\n",
        "\n",
        "Output:   3->2->1->4->5->6->9->8->7->NULL.\n",
        "</aside>"
      ],
      "metadata": {
        "id": "AbAJZhtE4QF-"
      }
    },
    {
      "cell_type": "code",
      "source": [
        "def ReverseAlternativeKNodes(head,k):\n",
        "  dummy = ListNode()\n",
        "  prev_group = dummy\n",
        "  j=0\n",
        "  while head:\n",
        "    i,group_end = 1 , head\n",
        "    while i<k and head.next:\n",
        "      head = head.next\n",
        "      i+=1\n",
        "\n",
        "    group_start = head\n",
        "    next_group = head = head.next\n",
        "    if i!=k:\n",
        "      break\n",
        "    \n",
        "    if j%2 == 0:\n",
        "      prev, curr = None, group_end\n",
        "      while curr != next_group:\n",
        "        curr.next, curr, prev = prev, curr.next, curr\n",
        "      prev_group.next = group_start\n",
        "      prev_group = group_end\n",
        "      group_end.next = next_group\n",
        "    else:\n",
        "      prev_group.next = group_end\n",
        "      prev_group = group_start\n",
        "\n",
        "    j+=1\n",
        "\n",
        "  return dummy.next\n",
        "\n",
        "print('Test case 1')\n",
        "arr = [1,2,3,4,5,6,7,8,9]\n",
        "l_list = lst2link(arr)\n",
        "key = 3\n",
        "print('Input List : ',end='')\n",
        "display(l_list)\n",
        "result = ReverseAlternativeKNodes(l_list,key)\n",
        "print('Output List : ',end='')\n",
        "display(result)"
      ],
      "metadata": {
        "id": "LMo4uSEv4QPu",
        "colab": {
          "base_uri": "https://localhost:8080/"
        },
        "outputId": "e0e527f4-0403-442f-a9fa-301b526029ff"
      },
      "execution_count": 87,
      "outputs": [
        {
          "output_type": "stream",
          "name": "stdout",
          "text": [
            "Test case 1\n",
            "Input List : 1->2->3->4->5->6->7->8->9->None\n",
            "Output List : 3->2->1->4->5->6->9->8->7->None\n"
          ]
        }
      ]
    },
    {
      "cell_type": "markdown",
      "source": [
        "#<aside>\n",
        "💡 **Question 5**\n",
        "\n",
        "Given a linked list and a key to be deleted. Delete last occurrence of key from linked. The list may have duplicates.\n",
        "\n",
        "**Examples**:\n",
        "Input:   1->2->3->5->2->10, key = 2\n",
        "\n",
        "Output:  1->2->3->5->10\n",
        "</aside>"
      ],
      "metadata": {
        "id": "htw5tUFK4aUu"
      }
    },
    {
      "cell_type": "code",
      "source": [
        "def RemoveLastOccurance(head,k):\n",
        "  prev = curr = head\n",
        "  while curr and curr.next:\n",
        "    if curr.next.val == k:\n",
        "      prev = curr\n",
        "    curr = curr.next\n",
        "  prev.next = prev.next.next\n",
        "  return head\n",
        "\n",
        "print('Test case 1')\n",
        "arr = [1,2,3,5,2,10]\n",
        "l_list = lst2link(arr)\n",
        "print('Input List : ',end='')\n",
        "display(l_list)\n",
        "key=2\n",
        "print('K=',key)\n",
        "result = RemoveLastOccurance(l_list,key)\n",
        "print('Output List : ',end='')\n",
        "display(result)\n",
        "print('\\nTest case 2')\n",
        "arr1 = [11,15,20,25,15,60,100]\n",
        "l_list1 = lst2link(arr1)\n",
        "print('Input List : ',end='')\n",
        "display(l_list1)\n",
        "key1=15\n",
        "print('K=',key1)\n",
        "result = RemoveLastOccurance(l_list1,key1)\n",
        "print('Output List : ',end='')\n",
        "display(result)"
      ],
      "metadata": {
        "id": "lX73Ijth4afW",
        "colab": {
          "base_uri": "https://localhost:8080/"
        },
        "outputId": "e6d6a8b8-dcc4-4265-f84b-697a32f11f79"
      },
      "execution_count": 88,
      "outputs": [
        {
          "output_type": "stream",
          "name": "stdout",
          "text": [
            "Test case 1\n",
            "Input List : 1->2->3->5->2->10->None\n",
            "K= 2\n",
            "Output List : 1->2->3->5->10->None\n",
            "\n",
            "Test case 2\n",
            "Input List : 11->15->20->25->15->60->100->None\n",
            "K= 15\n",
            "Output List : 11->15->20->25->60->100->None\n"
          ]
        }
      ]
    },
    {
      "cell_type": "markdown",
      "source": [
        "#<aside>\n",
        "💡 **Question 6**\n",
        "\n",
        "Given two sorted linked lists consisting of **N** and **M** nodes respectively. The task is to merge both of the lists (in place) and return the head of the merged list.\n",
        "\n",
        "**Examples:**\n",
        "\n",
        "Input: a: 5->10->15, b: 2->3->20\n",
        "\n",
        "Output: 2->3->5->10->15->20\n",
        "\n",
        "Input: a: 1->1, b: 2->4\n",
        "\n",
        "Output: 1->1->2->4\n",
        "\n",
        "</aside>"
      ],
      "metadata": {
        "id": "NA0C64HM4lot"
      }
    },
    {
      "cell_type": "code",
      "source": [
        "def MergeSorted(a,b):\n",
        "  if a is None:\n",
        "    return b\n",
        "  if b is None:\n",
        "    return a\n",
        "  dummy = ListNode()\n",
        "  tail = dummy\n",
        "  \n",
        "  while a is not None and b is not None:\n",
        "    if a.val <= b.val:\n",
        "      tail.next = a\n",
        "      a = a.next\n",
        "    else:\n",
        "      tail.next = b\n",
        "      b = b.next\n",
        "    tail = tail.next\n",
        "  \n",
        "  if a is not None:\n",
        "    tail.next = a\n",
        "  if b is not None:\n",
        "    tail.next = b\n",
        "  return dummy.next\n",
        "\n",
        "print('Test case 1')\n",
        "arr1 = [5,10,15]\n",
        "arr2 = [2,3,20]\n",
        "l_list1 = lst2link(arr1)\n",
        "l_list2 = lst2link(arr2)\n",
        "print('Input List 1: ',end='')\n",
        "display(l_list1)\n",
        "print('Input List 2: ',end='')\n",
        "display(l_list2)\n",
        "result = MergeSorted(l_list1,l_list2)\n",
        "print('Output List : ',end='')\n",
        "display(result)"
      ],
      "metadata": {
        "id": "Qpymperz4lwt",
        "colab": {
          "base_uri": "https://localhost:8080/"
        },
        "outputId": "74cd909e-e599-43be-81cc-d11184c63e88"
      },
      "execution_count": 89,
      "outputs": [
        {
          "output_type": "stream",
          "name": "stdout",
          "text": [
            "Test case 1\n",
            "Input List 1: 5->10->15->None\n",
            "Input List 2: 2->3->20->None\n",
            "Output List : 2->3->5->10->15->20->None\n"
          ]
        }
      ]
    },
    {
      "cell_type": "markdown",
      "source": [
        "# Double Linked List"
      ],
      "metadata": {
        "id": "BXjw1QIXWx9x"
      }
    },
    {
      "cell_type": "code",
      "source": [
        "# Double linked list\n",
        "class DoubleNode:\n",
        "  def __init__(self,val=0,next=None,prev=None):\n",
        "    self.val = val\n",
        "    self.next = next\n",
        "    self.prev = prev\n",
        "\n",
        "def dbllst2link(lst):\n",
        "  if not lst:\n",
        "    return None\n",
        "  head = DoubleNode(lst[0])\n",
        "  prev_node = head\n",
        "  for i in range(1, len(lst)):\n",
        "    new_node = DoubleNode(lst[i])\n",
        "    prev_node.next = new_node\n",
        "    new_node.prev = prev_node\n",
        "    prev_node = new_node\n",
        "  return head\n",
        "\n",
        "\n",
        "def display1(linked_list):\n",
        "  print('None',end='<->')\n",
        "  while(linked_list):\n",
        "    print(linked_list.val,end='<->')\n",
        "    linked_list=linked_list.next\n",
        "  print('None')\n"
      ],
      "metadata": {
        "id": "Biv9FSxKWTtR"
      },
      "execution_count": 94,
      "outputs": []
    },
    {
      "cell_type": "markdown",
      "source": [
        "#<aside>\n",
        "💡 **Question 7**\n",
        "\n",
        "Given a **Doubly Linked List**, the task is to reverse the given Doubly Linked List.\n",
        "\n",
        "**Example:**\n",
        "\n",
        "Original Linked list 10 8 4 2\n",
        "\n",
        "Reversed Linked list 2 4 8 10\n",
        "\n",
        "</aside>"
      ],
      "metadata": {
        "id": "T-he2EJK4vvO"
      }
    },
    {
      "cell_type": "code",
      "source": [
        "def ReverseDoubleLinkedList(head):\n",
        "  current = head\n",
        "  temp = None\n",
        "  \n",
        "  while current:\n",
        "      temp = current.prev\n",
        "      current.prev = current.next\n",
        "      current.next = temp\n",
        "      current = current.prev\n",
        "\n",
        "  if temp:\n",
        "      head = temp.prev\n",
        "  return head\n",
        "\n",
        "\n",
        "print('Test case 1')\n",
        "arr = [10,8,4,2]\n",
        "l_list = dbllst2link(arr)\n",
        "print('Input List : ',end='')\n",
        "display1(l_list)\n",
        "result = ReverseDoubleLinkedList(l_list)\n",
        "print('Output List : ',end='')\n",
        "display1(result)"
      ],
      "metadata": {
        "id": "zKYBmEr04v3H",
        "colab": {
          "base_uri": "https://localhost:8080/"
        },
        "outputId": "c2bc9c3b-3774-4b35-fc53-8529b39d85da"
      },
      "execution_count": 95,
      "outputs": [
        {
          "output_type": "stream",
          "name": "stdout",
          "text": [
            "Test case 1\n",
            "Input List : None<->10<->8<->4<->2<->None\n",
            "Output List : None<->2<->4<->8<->10<->None\n"
          ]
        }
      ]
    },
    {
      "cell_type": "markdown",
      "source": [
        "#<aside>\n",
        "💡 **Question 8**\n",
        "\n",
        "Given a doubly linked list and a position. The task is to delete a node from given position in a doubly linked list.\n",
        "\n",
        "**Example 1:**\n",
        "Input:\n",
        "LinkedList = 1 <--> 3 <--> 4\n",
        "\n",
        "x = 3\n",
        "\n",
        "Output:1 3\n",
        "\n",
        "Explanation:After deleting the node at\n",
        "position 3 (position starts from 1),\n",
        "the linked list will be now as 1->3.\n",
        "\n",
        "\n",
        "</aside>"
      ],
      "metadata": {
        "id": "rj12vR8G413F"
      }
    },
    {
      "cell_type": "code",
      "source": [
        "def DeleteNode(head,k):\n",
        "  i=1\n",
        "  curr = head\n",
        "  while curr and curr.next:\n",
        "    if i==k-1:\n",
        "      curr.next = curr.next.next\n",
        "    else:\n",
        "      curr = curr.next\n",
        "    i+=1\n",
        "  return head\n",
        "\n",
        "\n",
        "print('Test case 1')\n",
        "arr = [1,3,4]\n",
        "l_list = dbllst2link(arr)\n",
        "X = 3\n",
        "print('Input List : ',end='')\n",
        "display1(l_list)\n",
        "result = DeleteNode(l_list,X)\n",
        "print('Output List : ',end='')\n",
        "display1(result)"
      ],
      "metadata": {
        "id": "O-qbQPrM41_d",
        "colab": {
          "base_uri": "https://localhost:8080/"
        },
        "outputId": "7ff614c9-5e85-440b-aff5-ef2badcd64f8"
      },
      "execution_count": 100,
      "outputs": [
        {
          "output_type": "stream",
          "name": "stdout",
          "text": [
            "Test case 1\n",
            "Input List : None<->1<->3<->4<->None\n",
            "Output List : None<->1<->3<->None\n"
          ]
        }
      ]
    }
  ]
}